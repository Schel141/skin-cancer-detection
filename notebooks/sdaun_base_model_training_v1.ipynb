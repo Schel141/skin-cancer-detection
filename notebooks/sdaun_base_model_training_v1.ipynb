{
 "cells": [
  {
   "cell_type": "code",
   "execution_count": 1,
   "id": "c0e09c72",
   "metadata": {
    "id": "c0e09c72"
   },
   "outputs": [],
   "source": [
    "import numpy as np\n",
    "import pandas as pd\n",
    "from PIL import Image\n",
    "import matplotlib as plt\n",
    "import seaborn as sns\n",
    "import cv2\n",
    "import os\n",
    "import sys\n",
    "module_path = os.path.abspath(os.path.join('..'))\n",
    "if module_path not in sys.path:\n",
    "    sys.path.append(module_path)"
   ]
  },
  {
   "cell_type": "code",
   "execution_count": 2,
   "id": "766223dc",
   "metadata": {
    "colab": {
     "base_uri": "https://localhost:8080/"
    },
    "collapsed": true,
    "id": "766223dc",
    "outputId": "62b8db40-778a-44f4-fe7f-c22ea3d64d92"
   },
   "outputs": [
    {
     "ename": "ModuleNotFoundError",
     "evalue": "No module named 'google.colab'",
     "output_type": "error",
     "traceback": [
      "\u001b[0;31m---------------------------------------------------------------------------\u001b[0m",
      "\u001b[0;31mModuleNotFoundError\u001b[0m                       Traceback (most recent call last)",
      "\u001b[0;32m/var/folders/tc/h9113zwx78q6jfy2m_szx6zw0000gn/T/ipykernel_95666/2258033288.py\u001b[0m in \u001b[0;36m<module>\u001b[0;34m\u001b[0m\n\u001b[0;32m----> 1\u001b[0;31m \u001b[0;32mfrom\u001b[0m \u001b[0mgoogle\u001b[0m\u001b[0;34m.\u001b[0m\u001b[0mcolab\u001b[0m \u001b[0;32mimport\u001b[0m \u001b[0mdrive\u001b[0m\u001b[0;34m\u001b[0m\u001b[0;34m\u001b[0m\u001b[0m\n\u001b[0m\u001b[1;32m      2\u001b[0m \u001b[0mdrive\u001b[0m\u001b[0;34m.\u001b[0m\u001b[0mmount\u001b[0m\u001b[0;34m(\u001b[0m\u001b[0;34m'/content/drive/'\u001b[0m\u001b[0;34m)\u001b[0m\u001b[0;34m\u001b[0m\u001b[0;34m\u001b[0m\u001b[0m\n",
      "\u001b[0;31mModuleNotFoundError\u001b[0m: No module named 'google.colab'"
     ]
    }
   ],
   "source": [
    "#from google.colab import drive\n",
    "# drive.mount('/content/drive/')"
   ]
  },
  {
   "cell_type": "code",
   "execution_count": 4,
   "id": "a5a3b035",
   "metadata": {
    "colab": {
     "base_uri": "https://localhost:8080/"
    },
    "id": "a5a3b035",
    "outputId": "62d7d2f5-dfbd-4321-d841-4e90ad3f2e23"
   },
   "outputs": [
    {
     "name": "stdout",
     "output_type": "stream",
     "text": [
      "Collecting pickle5\n",
      "  Downloading pickle5-0.0.11.tar.gz (132 kB)\n",
      "\u001b[2K     \u001b[90m━━━━━━━━━━━━━━━━━━━━━━━━━━━━━━━━━━━━━━━\u001b[0m \u001b[32m132.1/132.1 kB\u001b[0m \u001b[31m1.8 MB/s\u001b[0m eta \u001b[36m0:00:00\u001b[0ma \u001b[36m0:00:01\u001b[0m\n",
      "\u001b[?25h  Preparing metadata (setup.py) ... \u001b[?25ldone\n",
      "\u001b[?25hBuilding wheels for collected packages: pickle5\n",
      "  Building wheel for pickle5 (setup.py) ... \u001b[?25ldone\n",
      "\u001b[?25h  Created wheel for pickle5: filename=pickle5-0.0.11-cp38-cp38-macosx_12_0_x86_64.whl size=124607 sha256=6f1bde80689da7692e143d33998419988783e0eec06bc78ef62ffa4f84865f33\n",
      "  Stored in directory: /Users/sabrinadaun/Library/Caches/pip/wheels/25/d4/61/dbd8edd1a0d656be7b4267c85db3b61951eb60016a0154a122\n",
      "Successfully built pickle5\n",
      "Installing collected packages: pickle5\n",
      "Successfully installed pickle5-0.0.11\n"
     ]
    }
   ],
   "source": [
    "!pip install pickle5"
   ]
  },
  {
   "cell_type": "code",
   "execution_count": 27,
   "id": "efcb7feb",
   "metadata": {
    "id": "efcb7feb"
   },
   "outputs": [],
   "source": [
    "import pickle5 as pickle\n",
    "with open('basic_model', \"rb\") as fh:\n",
    "    basic_model = pickle.load(fh)"
   ]
  },
  {
   "cell_type": "code",
   "execution_count": 29,
   "id": "ab9d5695",
   "metadata": {},
   "outputs": [
    {
     "ename": "ValueError",
     "evalue": "in user code:\n\n    File \"/Users/sabrinadaun/.pyenv/versions/3.8.13/envs/lewagon/lib/python3.8/site-packages/keras/engine/training.py\", line 1557, in test_function  *\n        return step_function(self, iterator)\n    File \"/Users/sabrinadaun/.pyenv/versions/3.8.13/envs/lewagon/lib/python3.8/site-packages/keras/engine/training.py\", line 1546, in step_function  **\n        outputs = model.distribute_strategy.run(run_step, args=(data,))\n    File \"/Users/sabrinadaun/.pyenv/versions/3.8.13/envs/lewagon/lib/python3.8/site-packages/keras/engine/training.py\", line 1535, in run_step  **\n        outputs = model.test_step(data)\n    File \"/Users/sabrinadaun/.pyenv/versions/3.8.13/envs/lewagon/lib/python3.8/site-packages/keras/engine/training.py\", line 1499, in test_step\n        y_pred = self(x, training=False)\n    File \"/Users/sabrinadaun/.pyenv/versions/3.8.13/envs/lewagon/lib/python3.8/site-packages/keras/utils/traceback_utils.py\", line 67, in error_handler\n        raise e.with_traceback(filtered_tb) from None\n    File \"/Users/sabrinadaun/.pyenv/versions/3.8.13/envs/lewagon/lib/python3.8/site-packages/keras/engine/input_spec.py\", line 264, in assert_input_compatibility\n        raise ValueError(f'Input {input_index} of layer \"{layer_name}\" is '\n\n    ValueError: Input 0 of layer \"sequential_3\" is incompatible with the layer: expected shape=(None, 75, 100, 3), found shape=(None, 224, 224, 3)\n",
     "output_type": "error",
     "traceback": [
      "\u001b[0;31m---------------------------------------------------------------------------\u001b[0m",
      "\u001b[0;31mValueError\u001b[0m                                Traceback (most recent call last)",
      "\u001b[0;32m/var/folders/tc/h9113zwx78q6jfy2m_szx6zw0000gn/T/ipykernel_95666/2354102743.py\u001b[0m in \u001b[0;36m<module>\u001b[0;34m\u001b[0m\n\u001b[0;32m----> 1\u001b[0;31m \u001b[0mbasic_model\u001b[0m\u001b[0;34m.\u001b[0m\u001b[0mevaluate\u001b[0m\u001b[0;34m(\u001b[0m\u001b[0mX_test_stack\u001b[0m\u001b[0;34m)\u001b[0m\u001b[0;34m\u001b[0m\u001b[0;34m\u001b[0m\u001b[0m\n\u001b[0m",
      "\u001b[0;32m~/.pyenv/versions/3.8.13/envs/lewagon/lib/python3.8/site-packages/keras/utils/traceback_utils.py\u001b[0m in \u001b[0;36merror_handler\u001b[0;34m(*args, **kwargs)\u001b[0m\n\u001b[1;32m     65\u001b[0m     \u001b[0;32mexcept\u001b[0m \u001b[0mException\u001b[0m \u001b[0;32mas\u001b[0m \u001b[0me\u001b[0m\u001b[0;34m:\u001b[0m  \u001b[0;31m# pylint: disable=broad-except\u001b[0m\u001b[0;34m\u001b[0m\u001b[0;34m\u001b[0m\u001b[0m\n\u001b[1;32m     66\u001b[0m       \u001b[0mfiltered_tb\u001b[0m \u001b[0;34m=\u001b[0m \u001b[0m_process_traceback_frames\u001b[0m\u001b[0;34m(\u001b[0m\u001b[0me\u001b[0m\u001b[0;34m.\u001b[0m\u001b[0m__traceback__\u001b[0m\u001b[0;34m)\u001b[0m\u001b[0;34m\u001b[0m\u001b[0;34m\u001b[0m\u001b[0m\n\u001b[0;32m---> 67\u001b[0;31m       \u001b[0;32mraise\u001b[0m \u001b[0me\u001b[0m\u001b[0;34m.\u001b[0m\u001b[0mwith_traceback\u001b[0m\u001b[0;34m(\u001b[0m\u001b[0mfiltered_tb\u001b[0m\u001b[0;34m)\u001b[0m \u001b[0;32mfrom\u001b[0m \u001b[0;32mNone\u001b[0m\u001b[0;34m\u001b[0m\u001b[0;34m\u001b[0m\u001b[0m\n\u001b[0m\u001b[1;32m     68\u001b[0m     \u001b[0;32mfinally\u001b[0m\u001b[0;34m:\u001b[0m\u001b[0;34m\u001b[0m\u001b[0;34m\u001b[0m\u001b[0m\n\u001b[1;32m     69\u001b[0m       \u001b[0;32mdel\u001b[0m \u001b[0mfiltered_tb\u001b[0m\u001b[0;34m\u001b[0m\u001b[0;34m\u001b[0m\u001b[0m\n",
      "\u001b[0;32m~/.pyenv/versions/3.8.13/envs/lewagon/lib/python3.8/site-packages/keras/engine/training.py\u001b[0m in \u001b[0;36mtf__test_function\u001b[0;34m(iterator)\u001b[0m\n\u001b[1;32m     13\u001b[0m                 \u001b[0;32mtry\u001b[0m\u001b[0;34m:\u001b[0m\u001b[0;34m\u001b[0m\u001b[0;34m\u001b[0m\u001b[0m\n\u001b[1;32m     14\u001b[0m                     \u001b[0mdo_return\u001b[0m \u001b[0;34m=\u001b[0m \u001b[0;32mTrue\u001b[0m\u001b[0;34m\u001b[0m\u001b[0;34m\u001b[0m\u001b[0m\n\u001b[0;32m---> 15\u001b[0;31m                     \u001b[0mretval_\u001b[0m \u001b[0;34m=\u001b[0m \u001b[0mag__\u001b[0m\u001b[0;34m.\u001b[0m\u001b[0mconverted_call\u001b[0m\u001b[0;34m(\u001b[0m\u001b[0mag__\u001b[0m\u001b[0;34m.\u001b[0m\u001b[0mld\u001b[0m\u001b[0;34m(\u001b[0m\u001b[0mstep_function\u001b[0m\u001b[0;34m)\u001b[0m\u001b[0;34m,\u001b[0m \u001b[0;34m(\u001b[0m\u001b[0mag__\u001b[0m\u001b[0;34m.\u001b[0m\u001b[0mld\u001b[0m\u001b[0;34m(\u001b[0m\u001b[0mself\u001b[0m\u001b[0;34m)\u001b[0m\u001b[0;34m,\u001b[0m \u001b[0mag__\u001b[0m\u001b[0;34m.\u001b[0m\u001b[0mld\u001b[0m\u001b[0;34m(\u001b[0m\u001b[0miterator\u001b[0m\u001b[0;34m)\u001b[0m\u001b[0;34m)\u001b[0m\u001b[0;34m,\u001b[0m \u001b[0;32mNone\u001b[0m\u001b[0;34m,\u001b[0m \u001b[0mfscope\u001b[0m\u001b[0;34m)\u001b[0m\u001b[0;34m\u001b[0m\u001b[0;34m\u001b[0m\u001b[0m\n\u001b[0m\u001b[1;32m     16\u001b[0m                 \u001b[0;32mexcept\u001b[0m\u001b[0;34m:\u001b[0m\u001b[0;34m\u001b[0m\u001b[0;34m\u001b[0m\u001b[0m\n\u001b[1;32m     17\u001b[0m                     \u001b[0mdo_return\u001b[0m \u001b[0;34m=\u001b[0m \u001b[0;32mFalse\u001b[0m\u001b[0;34m\u001b[0m\u001b[0;34m\u001b[0m\u001b[0m\n",
      "\u001b[0;31mValueError\u001b[0m: in user code:\n\n    File \"/Users/sabrinadaun/.pyenv/versions/3.8.13/envs/lewagon/lib/python3.8/site-packages/keras/engine/training.py\", line 1557, in test_function  *\n        return step_function(self, iterator)\n    File \"/Users/sabrinadaun/.pyenv/versions/3.8.13/envs/lewagon/lib/python3.8/site-packages/keras/engine/training.py\", line 1546, in step_function  **\n        outputs = model.distribute_strategy.run(run_step, args=(data,))\n    File \"/Users/sabrinadaun/.pyenv/versions/3.8.13/envs/lewagon/lib/python3.8/site-packages/keras/engine/training.py\", line 1535, in run_step  **\n        outputs = model.test_step(data)\n    File \"/Users/sabrinadaun/.pyenv/versions/3.8.13/envs/lewagon/lib/python3.8/site-packages/keras/engine/training.py\", line 1499, in test_step\n        y_pred = self(x, training=False)\n    File \"/Users/sabrinadaun/.pyenv/versions/3.8.13/envs/lewagon/lib/python3.8/site-packages/keras/utils/traceback_utils.py\", line 67, in error_handler\n        raise e.with_traceback(filtered_tb) from None\n    File \"/Users/sabrinadaun/.pyenv/versions/3.8.13/envs/lewagon/lib/python3.8/site-packages/keras/engine/input_spec.py\", line 264, in assert_input_compatibility\n        raise ValueError(f'Input {input_index} of layer \"{layer_name}\" is '\n\n    ValueError: Input 0 of layer \"sequential_3\" is incompatible with the layer: expected shape=(None, 75, 100, 3), found shape=(None, 224, 224, 3)\n"
     ]
    }
   ],
   "source": [
    "basic_model.evaluate(X_test_stack)"
   ]
  },
  {
   "cell_type": "code",
   "execution_count": null,
   "id": "a43bf027",
   "metadata": {},
   "outputs": [],
   "source": []
  },
  {
   "cell_type": "code",
   "execution_count": null,
   "id": "9ae8bcee",
   "metadata": {},
   "outputs": [],
   "source": []
  },
  {
   "cell_type": "code",
   "execution_count": null,
   "id": "112ebd6f",
   "metadata": {},
   "outputs": [],
   "source": [
    "with open('skin_224_224_pickle.pickle', \"rb\") as fh:\n",
    "    skin_df = pickle.load(fh)"
   ]
  },
  {
   "cell_type": "code",
   "execution_count": 8,
   "id": "U89mAmD-bLrw",
   "metadata": {
    "colab": {
     "base_uri": "https://localhost:8080/",
     "height": 641
    },
    "id": "U89mAmD-bLrw",
    "outputId": "881b42da-9b22-415a-c8c5-34b62634ba96"
   },
   "outputs": [
    {
     "data": {
      "text/html": [
       "<div>\n",
       "<style scoped>\n",
       "    .dataframe tbody tr th:only-of-type {\n",
       "        vertical-align: middle;\n",
       "    }\n",
       "\n",
       "    .dataframe tbody tr th {\n",
       "        vertical-align: top;\n",
       "    }\n",
       "\n",
       "    .dataframe thead th {\n",
       "        text-align: right;\n",
       "    }\n",
       "</style>\n",
       "<table border=\"1\" class=\"dataframe\">\n",
       "  <thead>\n",
       "    <tr style=\"text-align: right;\">\n",
       "      <th></th>\n",
       "      <th>lesion_id</th>\n",
       "      <th>image_id</th>\n",
       "      <th>dx</th>\n",
       "      <th>dx_type</th>\n",
       "      <th>age</th>\n",
       "      <th>sex</th>\n",
       "      <th>localization</th>\n",
       "      <th>path</th>\n",
       "      <th>image_resized</th>\n",
       "    </tr>\n",
       "  </thead>\n",
       "  <tbody>\n",
       "    <tr>\n",
       "      <th>0</th>\n",
       "      <td>HAM_0000118</td>\n",
       "      <td>ISIC_0027419</td>\n",
       "      <td>bkl</td>\n",
       "      <td>histo</td>\n",
       "      <td>80.0</td>\n",
       "      <td>male</td>\n",
       "      <td>scalp</td>\n",
       "      <td>../raw_data/HAM10000_all/ISIC_0027419.jpg</td>\n",
       "      <td>[[[187, 150, 192], [190, 154, 195], [192, 156,...</td>\n",
       "    </tr>\n",
       "    <tr>\n",
       "      <th>1</th>\n",
       "      <td>HAM_0000118</td>\n",
       "      <td>ISIC_0025030</td>\n",
       "      <td>bkl</td>\n",
       "      <td>histo</td>\n",
       "      <td>80.0</td>\n",
       "      <td>male</td>\n",
       "      <td>scalp</td>\n",
       "      <td>../raw_data/HAM10000_all/ISIC_0025030.jpg</td>\n",
       "      <td>[[[24, 13, 22], [25, 13, 23], [24, 14, 23], [2...</td>\n",
       "    </tr>\n",
       "    <tr>\n",
       "      <th>2</th>\n",
       "      <td>HAM_0002730</td>\n",
       "      <td>ISIC_0026769</td>\n",
       "      <td>bkl</td>\n",
       "      <td>histo</td>\n",
       "      <td>80.0</td>\n",
       "      <td>male</td>\n",
       "      <td>scalp</td>\n",
       "      <td>../raw_data/HAM10000_all/ISIC_0026769.jpg</td>\n",
       "      <td>[[[186, 127, 135], [188, 129, 137], [191, 135,...</td>\n",
       "    </tr>\n",
       "    <tr>\n",
       "      <th>3</th>\n",
       "      <td>HAM_0002730</td>\n",
       "      <td>ISIC_0025661</td>\n",
       "      <td>bkl</td>\n",
       "      <td>histo</td>\n",
       "      <td>80.0</td>\n",
       "      <td>male</td>\n",
       "      <td>scalp</td>\n",
       "      <td>../raw_data/HAM10000_all/ISIC_0025661.jpg</td>\n",
       "      <td>[[[23, 11, 15], [24, 11, 18], [24, 10, 19], [2...</td>\n",
       "    </tr>\n",
       "    <tr>\n",
       "      <th>4</th>\n",
       "      <td>HAM_0001466</td>\n",
       "      <td>ISIC_0031633</td>\n",
       "      <td>bkl</td>\n",
       "      <td>histo</td>\n",
       "      <td>75.0</td>\n",
       "      <td>male</td>\n",
       "      <td>ear</td>\n",
       "      <td>../raw_data/HAM10000_all/ISIC_0031633.jpg</td>\n",
       "      <td>[[[125, 83, 105], [132, 89, 112], [138, 93, 11...</td>\n",
       "    </tr>\n",
       "    <tr>\n",
       "      <th>...</th>\n",
       "      <td>...</td>\n",
       "      <td>...</td>\n",
       "      <td>...</td>\n",
       "      <td>...</td>\n",
       "      <td>...</td>\n",
       "      <td>...</td>\n",
       "      <td>...</td>\n",
       "      <td>...</td>\n",
       "      <td>...</td>\n",
       "    </tr>\n",
       "    <tr>\n",
       "      <th>10010</th>\n",
       "      <td>HAM_0002867</td>\n",
       "      <td>ISIC_0033084</td>\n",
       "      <td>akiec</td>\n",
       "      <td>histo</td>\n",
       "      <td>40.0</td>\n",
       "      <td>male</td>\n",
       "      <td>abdomen</td>\n",
       "      <td>../raw_data/HAM10000_all/ISIC_0033084.jpg</td>\n",
       "      <td>[[[115, 92, 101], [108, 92, 96], [108, 91, 98]...</td>\n",
       "    </tr>\n",
       "    <tr>\n",
       "      <th>10011</th>\n",
       "      <td>HAM_0002867</td>\n",
       "      <td>ISIC_0033550</td>\n",
       "      <td>akiec</td>\n",
       "      <td>histo</td>\n",
       "      <td>40.0</td>\n",
       "      <td>male</td>\n",
       "      <td>abdomen</td>\n",
       "      <td>../raw_data/HAM10000_all/ISIC_0033550.jpg</td>\n",
       "      <td>[[[4, 6, 3], [5, 6, 3], [6, 6, 5], [7, 8, 4], ...</td>\n",
       "    </tr>\n",
       "    <tr>\n",
       "      <th>10012</th>\n",
       "      <td>HAM_0002867</td>\n",
       "      <td>ISIC_0033536</td>\n",
       "      <td>akiec</td>\n",
       "      <td>histo</td>\n",
       "      <td>40.0</td>\n",
       "      <td>male</td>\n",
       "      <td>abdomen</td>\n",
       "      <td>../raw_data/HAM10000_all/ISIC_0033536.jpg</td>\n",
       "      <td>[[[105, 92, 96], [109, 102, 103], [118, 109, 1...</td>\n",
       "    </tr>\n",
       "    <tr>\n",
       "      <th>10013</th>\n",
       "      <td>HAM_0000239</td>\n",
       "      <td>ISIC_0032854</td>\n",
       "      <td>akiec</td>\n",
       "      <td>histo</td>\n",
       "      <td>80.0</td>\n",
       "      <td>male</td>\n",
       "      <td>face</td>\n",
       "      <td>../raw_data/HAM10000_all/ISIC_0032854.jpg</td>\n",
       "      <td>[[[155, 115, 138], [158, 117, 138], [160, 121,...</td>\n",
       "    </tr>\n",
       "    <tr>\n",
       "      <th>10014</th>\n",
       "      <td>HAM_0003521</td>\n",
       "      <td>ISIC_0032258</td>\n",
       "      <td>mel</td>\n",
       "      <td>histo</td>\n",
       "      <td>70.0</td>\n",
       "      <td>female</td>\n",
       "      <td>back</td>\n",
       "      <td>../raw_data/HAM10000_all/ISIC_0032258.jpg</td>\n",
       "      <td>[[[177, 145, 124], [182, 152, 140], [178, 147,...</td>\n",
       "    </tr>\n",
       "  </tbody>\n",
       "</table>\n",
       "<p>10015 rows × 9 columns</p>\n",
       "</div>"
      ],
      "text/plain": [
       "         lesion_id      image_id     dx dx_type   age     sex localization  \\\n",
       "0      HAM_0000118  ISIC_0027419    bkl   histo  80.0    male        scalp   \n",
       "1      HAM_0000118  ISIC_0025030    bkl   histo  80.0    male        scalp   \n",
       "2      HAM_0002730  ISIC_0026769    bkl   histo  80.0    male        scalp   \n",
       "3      HAM_0002730  ISIC_0025661    bkl   histo  80.0    male        scalp   \n",
       "4      HAM_0001466  ISIC_0031633    bkl   histo  75.0    male          ear   \n",
       "...            ...           ...    ...     ...   ...     ...          ...   \n",
       "10010  HAM_0002867  ISIC_0033084  akiec   histo  40.0    male      abdomen   \n",
       "10011  HAM_0002867  ISIC_0033550  akiec   histo  40.0    male      abdomen   \n",
       "10012  HAM_0002867  ISIC_0033536  akiec   histo  40.0    male      abdomen   \n",
       "10013  HAM_0000239  ISIC_0032854  akiec   histo  80.0    male         face   \n",
       "10014  HAM_0003521  ISIC_0032258    mel   histo  70.0  female         back   \n",
       "\n",
       "                                            path  \\\n",
       "0      ../raw_data/HAM10000_all/ISIC_0027419.jpg   \n",
       "1      ../raw_data/HAM10000_all/ISIC_0025030.jpg   \n",
       "2      ../raw_data/HAM10000_all/ISIC_0026769.jpg   \n",
       "3      ../raw_data/HAM10000_all/ISIC_0025661.jpg   \n",
       "4      ../raw_data/HAM10000_all/ISIC_0031633.jpg   \n",
       "...                                          ...   \n",
       "10010  ../raw_data/HAM10000_all/ISIC_0033084.jpg   \n",
       "10011  ../raw_data/HAM10000_all/ISIC_0033550.jpg   \n",
       "10012  ../raw_data/HAM10000_all/ISIC_0033536.jpg   \n",
       "10013  ../raw_data/HAM10000_all/ISIC_0032854.jpg   \n",
       "10014  ../raw_data/HAM10000_all/ISIC_0032258.jpg   \n",
       "\n",
       "                                           image_resized  \n",
       "0      [[[187, 150, 192], [190, 154, 195], [192, 156,...  \n",
       "1      [[[24, 13, 22], [25, 13, 23], [24, 14, 23], [2...  \n",
       "2      [[[186, 127, 135], [188, 129, 137], [191, 135,...  \n",
       "3      [[[23, 11, 15], [24, 11, 18], [24, 10, 19], [2...  \n",
       "4      [[[125, 83, 105], [132, 89, 112], [138, 93, 11...  \n",
       "...                                                  ...  \n",
       "10010  [[[115, 92, 101], [108, 92, 96], [108, 91, 98]...  \n",
       "10011  [[[4, 6, 3], [5, 6, 3], [6, 6, 5], [7, 8, 4], ...  \n",
       "10012  [[[105, 92, 96], [109, 102, 103], [118, 109, 1...  \n",
       "10013  [[[155, 115, 138], [158, 117, 138], [160, 121,...  \n",
       "10014  [[[177, 145, 124], [182, 152, 140], [178, 147,...  \n",
       "\n",
       "[10015 rows x 9 columns]"
      ]
     },
     "execution_count": 8,
     "metadata": {},
     "output_type": "execute_result"
    }
   ],
   "source": [
    "skin_df"
   ]
  },
  {
   "cell_type": "code",
   "execution_count": 9,
   "id": "3dc55813",
   "metadata": {
    "colab": {
     "base_uri": "https://localhost:8080/",
     "height": 287
    },
    "id": "3dc55813",
    "outputId": "125a6980-00f3-4d94-b75b-44867a69506f"
   },
   "outputs": [
    {
     "data": {
      "text/plain": [
       "<matplotlib.image.AxesImage at 0x12aeb6520>"
      ]
     },
     "execution_count": 9,
     "metadata": {},
     "output_type": "execute_result"
    },
    {
     "data": {
      "image/png": "[encoded data removed]",
      "text/plain": [
       "<Figure size 432x288 with 1 Axes>"
      ]
     },
     "metadata": {
      "needs_background": "light"
     },
     "output_type": "display_data"
    }
   ],
   "source": [
    "#check if images are displayed \n",
    "import matplotlib.pyplot as plt\n",
    "plt.imshow(np.array(skin_df['image_resized'][0]))"
   ]
  },
  {
   "cell_type": "code",
   "execution_count": 10,
   "id": "b96b7d69",
   "metadata": {
    "id": "b96b7d69"
   },
   "outputs": [],
   "source": [
    "y = skin_df['dx']"
   ]
  },
  {
   "cell_type": "code",
   "execution_count": 11,
   "id": "17fdee51",
   "metadata": {
    "id": "17fdee51"
   },
   "outputs": [],
   "source": [
    "dict_target = {'bkl':0, 'nv':1, 'df':2, 'mel':3, 'vasc':4, 'bcc':5, 'akiec':6}"
   ]
  },
  {
   "cell_type": "code",
   "execution_count": 12,
   "id": "30eca033",
   "metadata": {
    "id": "30eca033"
   },
   "outputs": [],
   "source": [
    "y_num = y.map(dict_target.get)"
   ]
  },
  {
   "cell_type": "code",
   "execution_count": 13,
   "id": "a15ef042",
   "metadata": {
    "id": "a15ef042"
   },
   "outputs": [],
   "source": [
    "skin_df['target'] = y_num"
   ]
  },
  {
   "cell_type": "code",
   "execution_count": 14,
   "id": "645549ae",
   "metadata": {
    "colab": {
     "base_uri": "https://localhost:8080/",
     "height": 780
    },
    "id": "645549ae",
    "outputId": "bb48a3ae-1561-4690-f411-88d3c7be99ef"
   },
   "outputs": [
    {
     "data": {
      "text/html": [
       "<div>\n",
       "<style scoped>\n",
       "    .dataframe tbody tr th:only-of-type {\n",
       "        vertical-align: middle;\n",
       "    }\n",
       "\n",
       "    .dataframe tbody tr th {\n",
       "        vertical-align: top;\n",
       "    }\n",
       "\n",
       "    .dataframe thead th {\n",
       "        text-align: right;\n",
       "    }\n",
       "</style>\n",
       "<table border=\"1\" class=\"dataframe\">\n",
       "  <thead>\n",
       "    <tr style=\"text-align: right;\">\n",
       "      <th></th>\n",
       "      <th>lesion_id</th>\n",
       "      <th>image_id</th>\n",
       "      <th>dx</th>\n",
       "      <th>dx_type</th>\n",
       "      <th>age</th>\n",
       "      <th>sex</th>\n",
       "      <th>localization</th>\n",
       "      <th>path</th>\n",
       "      <th>image_resized</th>\n",
       "      <th>target</th>\n",
       "    </tr>\n",
       "  </thead>\n",
       "  <tbody>\n",
       "    <tr>\n",
       "      <th>0</th>\n",
       "      <td>HAM_0000118</td>\n",
       "      <td>ISIC_0027419</td>\n",
       "      <td>bkl</td>\n",
       "      <td>histo</td>\n",
       "      <td>80.0</td>\n",
       "      <td>male</td>\n",
       "      <td>scalp</td>\n",
       "      <td>../raw_data/HAM10000_all/ISIC_0027419.jpg</td>\n",
       "      <td>[[[187, 150, 192], [190, 154, 195], [192, 156,...</td>\n",
       "      <td>0</td>\n",
       "    </tr>\n",
       "    <tr>\n",
       "      <th>1</th>\n",
       "      <td>HAM_0000118</td>\n",
       "      <td>ISIC_0025030</td>\n",
       "      <td>bkl</td>\n",
       "      <td>histo</td>\n",
       "      <td>80.0</td>\n",
       "      <td>male</td>\n",
       "      <td>scalp</td>\n",
       "      <td>../raw_data/HAM10000_all/ISIC_0025030.jpg</td>\n",
       "      <td>[[[24, 13, 22], [25, 13, 23], [24, 14, 23], [2...</td>\n",
       "      <td>0</td>\n",
       "    </tr>\n",
       "    <tr>\n",
       "      <th>2</th>\n",
       "      <td>HAM_0002730</td>\n",
       "      <td>ISIC_0026769</td>\n",
       "      <td>bkl</td>\n",
       "      <td>histo</td>\n",
       "      <td>80.0</td>\n",
       "      <td>male</td>\n",
       "      <td>scalp</td>\n",
       "      <td>../raw_data/HAM10000_all/ISIC_0026769.jpg</td>\n",
       "      <td>[[[186, 127, 135], [188, 129, 137], [191, 135,...</td>\n",
       "      <td>0</td>\n",
       "    </tr>\n",
       "    <tr>\n",
       "      <th>3</th>\n",
       "      <td>HAM_0002730</td>\n",
       "      <td>ISIC_0025661</td>\n",
       "      <td>bkl</td>\n",
       "      <td>histo</td>\n",
       "      <td>80.0</td>\n",
       "      <td>male</td>\n",
       "      <td>scalp</td>\n",
       "      <td>../raw_data/HAM10000_all/ISIC_0025661.jpg</td>\n",
       "      <td>[[[23, 11, 15], [24, 11, 18], [24, 10, 19], [2...</td>\n",
       "      <td>0</td>\n",
       "    </tr>\n",
       "    <tr>\n",
       "      <th>4</th>\n",
       "      <td>HAM_0001466</td>\n",
       "      <td>ISIC_0031633</td>\n",
       "      <td>bkl</td>\n",
       "      <td>histo</td>\n",
       "      <td>75.0</td>\n",
       "      <td>male</td>\n",
       "      <td>ear</td>\n",
       "      <td>../raw_data/HAM10000_all/ISIC_0031633.jpg</td>\n",
       "      <td>[[[125, 83, 105], [132, 89, 112], [138, 93, 11...</td>\n",
       "      <td>0</td>\n",
       "    </tr>\n",
       "    <tr>\n",
       "      <th>...</th>\n",
       "      <td>...</td>\n",
       "      <td>...</td>\n",
       "      <td>...</td>\n",
       "      <td>...</td>\n",
       "      <td>...</td>\n",
       "      <td>...</td>\n",
       "      <td>...</td>\n",
       "      <td>...</td>\n",
       "      <td>...</td>\n",
       "      <td>...</td>\n",
       "    </tr>\n",
       "    <tr>\n",
       "      <th>10010</th>\n",
       "      <td>HAM_0002867</td>\n",
       "      <td>ISIC_0033084</td>\n",
       "      <td>akiec</td>\n",
       "      <td>histo</td>\n",
       "      <td>40.0</td>\n",
       "      <td>male</td>\n",
       "      <td>abdomen</td>\n",
       "      <td>../raw_data/HAM10000_all/ISIC_0033084.jpg</td>\n",
       "      <td>[[[115, 92, 101], [108, 92, 96], [108, 91, 98]...</td>\n",
       "      <td>6</td>\n",
       "    </tr>\n",
       "    <tr>\n",
       "      <th>10011</th>\n",
       "      <td>HAM_0002867</td>\n",
       "      <td>ISIC_0033550</td>\n",
       "      <td>akiec</td>\n",
       "      <td>histo</td>\n",
       "      <td>40.0</td>\n",
       "      <td>male</td>\n",
       "      <td>abdomen</td>\n",
       "      <td>../raw_data/HAM10000_all/ISIC_0033550.jpg</td>\n",
       "      <td>[[[4, 6, 3], [5, 6, 3], [6, 6, 5], [7, 8, 4], ...</td>\n",
       "      <td>6</td>\n",
       "    </tr>\n",
       "    <tr>\n",
       "      <th>10012</th>\n",
       "      <td>HAM_0002867</td>\n",
       "      <td>ISIC_0033536</td>\n",
       "      <td>akiec</td>\n",
       "      <td>histo</td>\n",
       "      <td>40.0</td>\n",
       "      <td>male</td>\n",
       "      <td>abdomen</td>\n",
       "      <td>../raw_data/HAM10000_all/ISIC_0033536.jpg</td>\n",
       "      <td>[[[105, 92, 96], [109, 102, 103], [118, 109, 1...</td>\n",
       "      <td>6</td>\n",
       "    </tr>\n",
       "    <tr>\n",
       "      <th>10013</th>\n",
       "      <td>HAM_0000239</td>\n",
       "      <td>ISIC_0032854</td>\n",
       "      <td>akiec</td>\n",
       "      <td>histo</td>\n",
       "      <td>80.0</td>\n",
       "      <td>male</td>\n",
       "      <td>face</td>\n",
       "      <td>../raw_data/HAM10000_all/ISIC_0032854.jpg</td>\n",
       "      <td>[[[155, 115, 138], [158, 117, 138], [160, 121,...</td>\n",
       "      <td>6</td>\n",
       "    </tr>\n",
       "    <tr>\n",
       "      <th>10014</th>\n",
       "      <td>HAM_0003521</td>\n",
       "      <td>ISIC_0032258</td>\n",
       "      <td>mel</td>\n",
       "      <td>histo</td>\n",
       "      <td>70.0</td>\n",
       "      <td>female</td>\n",
       "      <td>back</td>\n",
       "      <td>../raw_data/HAM10000_all/ISIC_0032258.jpg</td>\n",
       "      <td>[[[177, 145, 124], [182, 152, 140], [178, 147,...</td>\n",
       "      <td>3</td>\n",
       "    </tr>\n",
       "  </tbody>\n",
       "</table>\n",
       "<p>10015 rows × 10 columns</p>\n",
       "</div>"
      ],
      "text/plain": [
       "         lesion_id      image_id     dx dx_type   age     sex localization  \\\n",
       "0      HAM_0000118  ISIC_0027419    bkl   histo  80.0    male        scalp   \n",
       "1      HAM_0000118  ISIC_0025030    bkl   histo  80.0    male        scalp   \n",
       "2      HAM_0002730  ISIC_0026769    bkl   histo  80.0    male        scalp   \n",
       "3      HAM_0002730  ISIC_0025661    bkl   histo  80.0    male        scalp   \n",
       "4      HAM_0001466  ISIC_0031633    bkl   histo  75.0    male          ear   \n",
       "...            ...           ...    ...     ...   ...     ...          ...   \n",
       "10010  HAM_0002867  ISIC_0033084  akiec   histo  40.0    male      abdomen   \n",
       "10011  HAM_0002867  ISIC_0033550  akiec   histo  40.0    male      abdomen   \n",
       "10012  HAM_0002867  ISIC_0033536  akiec   histo  40.0    male      abdomen   \n",
       "10013  HAM_0000239  ISIC_0032854  akiec   histo  80.0    male         face   \n",
       "10014  HAM_0003521  ISIC_0032258    mel   histo  70.0  female         back   \n",
       "\n",
       "                                            path  \\\n",
       "0      ../raw_data/HAM10000_all/ISIC_0027419.jpg   \n",
       "1      ../raw_data/HAM10000_all/ISIC_0025030.jpg   \n",
       "2      ../raw_data/HAM10000_all/ISIC_0026769.jpg   \n",
       "3      ../raw_data/HAM10000_all/ISIC_0025661.jpg   \n",
       "4      ../raw_data/HAM10000_all/ISIC_0031633.jpg   \n",
       "...                                          ...   \n",
       "10010  ../raw_data/HAM10000_all/ISIC_0033084.jpg   \n",
       "10011  ../raw_data/HAM10000_all/ISIC_0033550.jpg   \n",
       "10012  ../raw_data/HAM10000_all/ISIC_0033536.jpg   \n",
       "10013  ../raw_data/HAM10000_all/ISIC_0032854.jpg   \n",
       "10014  ../raw_data/HAM10000_all/ISIC_0032258.jpg   \n",
       "\n",
       "                                           image_resized  target  \n",
       "0      [[[187, 150, 192], [190, 154, 195], [192, 156,...       0  \n",
       "1      [[[24, 13, 22], [25, 13, 23], [24, 14, 23], [2...       0  \n",
       "2      [[[186, 127, 135], [188, 129, 137], [191, 135,...       0  \n",
       "3      [[[23, 11, 15], [24, 11, 18], [24, 10, 19], [2...       0  \n",
       "4      [[[125, 83, 105], [132, 89, 112], [138, 93, 11...       0  \n",
       "...                                                  ...     ...  \n",
       "10010  [[[115, 92, 101], [108, 92, 96], [108, 91, 98]...       6  \n",
       "10011  [[[4, 6, 3], [5, 6, 3], [6, 6, 5], [7, 8, 4], ...       6  \n",
       "10012  [[[105, 92, 96], [109, 102, 103], [118, 109, 1...       6  \n",
       "10013  [[[155, 115, 138], [158, 117, 138], [160, 121,...       6  \n",
       "10014  [[[177, 145, 124], [182, 152, 140], [178, 147,...       3  \n",
       "\n",
       "[10015 rows x 10 columns]"
      ]
     },
     "execution_count": 14,
     "metadata": {},
     "output_type": "execute_result"
    }
   ],
   "source": [
    "skin_df"
   ]
  },
  {
   "cell_type": "code",
   "execution_count": 15,
   "id": "0fc34eee",
   "metadata": {
    "id": "0fc34eee"
   },
   "outputs": [],
   "source": [
    "from tensorflow.keras.utils import to_categorical\n",
    "y_cat = to_categorical(y_num, num_classes = 7)"
   ]
  },
  {
   "cell_type": "code",
   "execution_count": 16,
   "id": "a10a3d51",
   "metadata": {
    "colab": {
     "base_uri": "https://localhost:8080/"
    },
    "id": "a10a3d51",
    "outputId": "3d933e37-5586-488e-939a-6bbf4374bddd"
   },
   "outputs": [
    {
     "data": {
      "text/plain": [
       "(10015, 7)"
      ]
     },
     "execution_count": 16,
     "metadata": {},
     "output_type": "execute_result"
    }
   ],
   "source": [
    "y_cat.shape"
   ]
  },
  {
   "cell_type": "code",
   "execution_count": 17,
   "id": "80b7b4a2",
   "metadata": {
    "id": "80b7b4a2"
   },
   "outputs": [],
   "source": [
    "X = skin_df['image_resized']"
   ]
  },
  {
   "cell_type": "code",
   "execution_count": 18,
   "id": "cf6ce340",
   "metadata": {
    "id": "cf6ce340"
   },
   "outputs": [],
   "source": [
    "from sklearn.model_selection import train_test_split\n",
    "X_train, X_test, y_train, y_test = train_test_split(X, y_cat, test_size=0.3, random_state=42)"
   ]
  },
  {
   "cell_type": "code",
   "execution_count": 19,
   "id": "d9b02d38",
   "metadata": {
    "id": "d9b02d38"
   },
   "outputs": [],
   "source": [
    "X_train_stack = np.stack(X_train)"
   ]
  },
  {
   "cell_type": "code",
   "execution_count": 20,
   "id": "4038aa14",
   "metadata": {
    "id": "4038aa14"
   },
   "outputs": [],
   "source": [
    "X_test_stack = np.stack(X_test)"
   ]
  },
  {
   "cell_type": "code",
   "execution_count": 21,
   "id": "da220580",
   "metadata": {
    "colab": {
     "base_uri": "https://localhost:8080/"
    },
    "id": "da220580",
    "outputId": "f1daa383-14b4-44c4-c0e3-9fb560fdd973"
   },
   "outputs": [
    {
     "data": {
      "text/plain": [
       "(7010, 224, 224, 3)"
      ]
     },
     "execution_count": 21,
     "metadata": {},
     "output_type": "execute_result"
    }
   ],
   "source": [
    "X_train_stack.shape"
   ]
  },
  {
   "cell_type": "markdown",
   "id": "8f8efa64",
   "metadata": {
    "id": "8f8efa64"
   },
   "source": [
    "## Model"
   ]
  },
  {
   "cell_type": "code",
   "execution_count": 22,
   "id": "fMWKMwUHIq_Y",
   "metadata": {
    "id": "fMWKMwUHIq_Y"
   },
   "outputs": [],
   "source": [
    "import tensorflow as tf\n",
    "from tensorflow.keras import models\n",
    "from tensorflow.keras import Sequential, layers\n",
    "from tensorflow.keras.layers import Reshape\n",
    "from tensorflow.keras.layers import Conv2D, MaxPooling2D, Flatten, Dropout, Dense"
   ]
  },
  {
   "cell_type": "code",
   "execution_count": 23,
   "id": "8a355531",
   "metadata": {
    "id": "8a355531"
   },
   "outputs": [],
   "source": [
    "def initialize_model():\n",
    "    \n",
    "    model = Sequential()\n",
    "    model.add(layers.experimental.preprocessing.Rescaling(1. / 255))\n",
    "    model.add(layers.Conv2D(16, (3,3), input_shape=(75, 100, 3), padding='same', activation=\"relu\"))\n",
    "    model.add(layers.MaxPool2D(pool_size=(2,2)))\n",
    "    model.add(layers.Conv2D(32, (2,2), padding='same', activation=\"relu\"))\n",
    "    model.add(layers.MaxPool2D(pool_size=(2,2))) \n",
    "    model.add(layers.Flatten())\n",
    "    model.add(layers.Dense(50, activation='relu')) # intermediate layer\n",
    "    model.add(layers.Dense(7, activation='softmax'))\n",
    "    \n",
    "    return model"
   ]
  },
  {
   "cell_type": "code",
   "execution_count": 24,
   "id": "Dr6cKAz4ttau",
   "metadata": {
    "id": "Dr6cKAz4ttau"
   },
   "outputs": [
    {
     "name": "stderr",
     "output_type": "stream",
     "text": [
      "2022-06-03 11:09:23.333997: I tensorflow/core/platform/cpu_feature_guard.cc:193] This TensorFlow binary is optimized with oneAPI Deep Neural Network Library (oneDNN) to use the following CPU instructions in performance-critical operations:  AVX2 FMA\n",
      "To enable them in other operations, rebuild TensorFlow with the appropriate compiler flags.\n"
     ]
    }
   ],
   "source": [
    "model = initialize_model()"
   ]
  },
  {
   "cell_type": "code",
   "execution_count": 25,
   "id": "tUI87LIktuTM",
   "metadata": {
    "id": "tUI87LIktuTM"
   },
   "outputs": [],
   "source": [
    "from tensorflow.keras import optimizers\n",
    "from tensorflow.keras.metrics import Recall, Precision\n",
    "\n",
    "def compile_model(model):\n",
    "    model.compile(\n",
    "    optimizer = 'adam',\n",
    "    loss = 'categorical_crossentropy', # \"sparse_\" allows to avoid one-hot-encoding the target\n",
    "    metrics = ['accuracy','Recall', 'Precision'])\n",
    "    return model"
   ]
  },
  {
   "cell_type": "code",
   "execution_count": 26,
   "id": "u-wb30svt_iG",
   "metadata": {
    "colab": {
     "base_uri": "https://localhost:8080/",
     "height": 389
    },
    "id": "u-wb30svt_iG",
    "outputId": "803c6c62-7dbe-453b-f5e0-ca260202f795"
   },
   "outputs": [
    {
     "name": "stdout",
     "output_type": "stream",
     "text": [
      "Epoch 1/200\n",
      " 49/154 [========>.....................] - ETA: 47s - loss: 1.2148 - accuracy: 0.6492 - recall: 0.5332 - precision: 0.7504"
     ]
    },
    {
     "ename": "KeyboardInterrupt",
     "evalue": "",
     "output_type": "error",
     "traceback": [
      "\u001b[0;31m---------------------------------------------------------------------------\u001b[0m",
      "\u001b[0;31mKeyboardInterrupt\u001b[0m                         Traceback (most recent call last)",
      "\u001b[0;32m/var/folders/tc/h9113zwx78q6jfy2m_szx6zw0000gn/T/ipykernel_95666/2824300383.py\u001b[0m in \u001b[0;36m<module>\u001b[0;34m\u001b[0m\n\u001b[1;32m      6\u001b[0m \u001b[0mes\u001b[0m \u001b[0;34m=\u001b[0m \u001b[0mEarlyStopping\u001b[0m\u001b[0;34m(\u001b[0m\u001b[0mpatience\u001b[0m \u001b[0;34m=\u001b[0m \u001b[0;36m20\u001b[0m\u001b[0;34m,\u001b[0m \u001b[0mrestore_best_weights\u001b[0m \u001b[0;34m=\u001b[0m \u001b[0;32mTrue\u001b[0m\u001b[0;34m)\u001b[0m\u001b[0;34m\u001b[0m\u001b[0;34m\u001b[0m\u001b[0m\n\u001b[1;32m      7\u001b[0m \u001b[0;34m\u001b[0m\u001b[0m\n\u001b[0;32m----> 8\u001b[0;31m history = model.fit(X_train_stack, y_train, \n\u001b[0m\u001b[1;32m      9\u001b[0m                     \u001b[0mvalidation_split\u001b[0m \u001b[0;34m=\u001b[0m \u001b[0;36m0.3\u001b[0m\u001b[0;34m,\u001b[0m\u001b[0;34m\u001b[0m\u001b[0;34m\u001b[0m\u001b[0m\n\u001b[1;32m     10\u001b[0m                     \u001b[0mcallbacks\u001b[0m \u001b[0;34m=\u001b[0m \u001b[0;34m[\u001b[0m\u001b[0mes\u001b[0m\u001b[0;34m]\u001b[0m\u001b[0;34m,\u001b[0m\u001b[0;34m\u001b[0m\u001b[0;34m\u001b[0m\u001b[0m\n",
      "\u001b[0;32m~/.pyenv/versions/3.8.13/envs/lewagon/lib/python3.8/site-packages/keras/utils/traceback_utils.py\u001b[0m in \u001b[0;36merror_handler\u001b[0;34m(*args, **kwargs)\u001b[0m\n\u001b[1;32m     62\u001b[0m     \u001b[0mfiltered_tb\u001b[0m \u001b[0;34m=\u001b[0m \u001b[0;32mNone\u001b[0m\u001b[0;34m\u001b[0m\u001b[0;34m\u001b[0m\u001b[0m\n\u001b[1;32m     63\u001b[0m     \u001b[0;32mtry\u001b[0m\u001b[0;34m:\u001b[0m\u001b[0;34m\u001b[0m\u001b[0;34m\u001b[0m\u001b[0m\n\u001b[0;32m---> 64\u001b[0;31m       \u001b[0;32mreturn\u001b[0m \u001b[0mfn\u001b[0m\u001b[0;34m(\u001b[0m\u001b[0;34m*\u001b[0m\u001b[0margs\u001b[0m\u001b[0;34m,\u001b[0m \u001b[0;34m**\u001b[0m\u001b[0mkwargs\u001b[0m\u001b[0;34m)\u001b[0m\u001b[0;34m\u001b[0m\u001b[0;34m\u001b[0m\u001b[0m\n\u001b[0m\u001b[1;32m     65\u001b[0m     \u001b[0;32mexcept\u001b[0m \u001b[0mException\u001b[0m \u001b[0;32mas\u001b[0m \u001b[0me\u001b[0m\u001b[0;34m:\u001b[0m  \u001b[0;31m# pylint: disable=broad-except\u001b[0m\u001b[0;34m\u001b[0m\u001b[0;34m\u001b[0m\u001b[0m\n\u001b[1;32m     66\u001b[0m       \u001b[0mfiltered_tb\u001b[0m \u001b[0;34m=\u001b[0m \u001b[0m_process_traceback_frames\u001b[0m\u001b[0;34m(\u001b[0m\u001b[0me\u001b[0m\u001b[0;34m.\u001b[0m\u001b[0m__traceback__\u001b[0m\u001b[0;34m)\u001b[0m\u001b[0;34m\u001b[0m\u001b[0;34m\u001b[0m\u001b[0m\n",
      "\u001b[0;32m~/.pyenv/versions/3.8.13/envs/lewagon/lib/python3.8/site-packages/keras/engine/training.py\u001b[0m in \u001b[0;36mfit\u001b[0;34m(self, x, y, batch_size, epochs, verbose, callbacks, validation_split, validation_data, shuffle, class_weight, sample_weight, initial_epoch, steps_per_epoch, validation_steps, validation_batch_size, validation_freq, max_queue_size, workers, use_multiprocessing)\u001b[0m\n\u001b[1;32m   1407\u001b[0m                 _r=1):\n\u001b[1;32m   1408\u001b[0m               \u001b[0mcallbacks\u001b[0m\u001b[0;34m.\u001b[0m\u001b[0mon_train_batch_begin\u001b[0m\u001b[0;34m(\u001b[0m\u001b[0mstep\u001b[0m\u001b[0;34m)\u001b[0m\u001b[0;34m\u001b[0m\u001b[0;34m\u001b[0m\u001b[0m\n\u001b[0;32m-> 1409\u001b[0;31m               \u001b[0mtmp_logs\u001b[0m \u001b[0;34m=\u001b[0m \u001b[0mself\u001b[0m\u001b[0;34m.\u001b[0m\u001b[0mtrain_function\u001b[0m\u001b[0;34m(\u001b[0m\u001b[0miterator\u001b[0m\u001b[0;34m)\u001b[0m\u001b[0;34m\u001b[0m\u001b[0;34m\u001b[0m\u001b[0m\n\u001b[0m\u001b[1;32m   1410\u001b[0m               \u001b[0;32mif\u001b[0m \u001b[0mdata_handler\u001b[0m\u001b[0;34m.\u001b[0m\u001b[0mshould_sync\u001b[0m\u001b[0;34m:\u001b[0m\u001b[0;34m\u001b[0m\u001b[0;34m\u001b[0m\u001b[0m\n\u001b[1;32m   1411\u001b[0m                 \u001b[0mcontext\u001b[0m\u001b[0;34m.\u001b[0m\u001b[0masync_wait\u001b[0m\u001b[0;34m(\u001b[0m\u001b[0;34m)\u001b[0m\u001b[0;34m\u001b[0m\u001b[0;34m\u001b[0m\u001b[0m\n",
      "\u001b[0;32m~/.pyenv/versions/3.8.13/envs/lewagon/lib/python3.8/site-packages/tensorflow/python/util/traceback_utils.py\u001b[0m in \u001b[0;36merror_handler\u001b[0;34m(*args, **kwargs)\u001b[0m\n\u001b[1;32m    148\u001b[0m     \u001b[0mfiltered_tb\u001b[0m \u001b[0;34m=\u001b[0m \u001b[0;32mNone\u001b[0m\u001b[0;34m\u001b[0m\u001b[0;34m\u001b[0m\u001b[0m\n\u001b[1;32m    149\u001b[0m     \u001b[0;32mtry\u001b[0m\u001b[0;34m:\u001b[0m\u001b[0;34m\u001b[0m\u001b[0;34m\u001b[0m\u001b[0m\n\u001b[0;32m--> 150\u001b[0;31m       \u001b[0;32mreturn\u001b[0m \u001b[0mfn\u001b[0m\u001b[0;34m(\u001b[0m\u001b[0;34m*\u001b[0m\u001b[0margs\u001b[0m\u001b[0;34m,\u001b[0m \u001b[0;34m**\u001b[0m\u001b[0mkwargs\u001b[0m\u001b[0;34m)\u001b[0m\u001b[0;34m\u001b[0m\u001b[0;34m\u001b[0m\u001b[0m\n\u001b[0m\u001b[1;32m    151\u001b[0m     \u001b[0;32mexcept\u001b[0m \u001b[0mException\u001b[0m \u001b[0;32mas\u001b[0m \u001b[0me\u001b[0m\u001b[0;34m:\u001b[0m\u001b[0;34m\u001b[0m\u001b[0;34m\u001b[0m\u001b[0m\n\u001b[1;32m    152\u001b[0m       \u001b[0mfiltered_tb\u001b[0m \u001b[0;34m=\u001b[0m \u001b[0m_process_traceback_frames\u001b[0m\u001b[0;34m(\u001b[0m\u001b[0me\u001b[0m\u001b[0;34m.\u001b[0m\u001b[0m__traceback__\u001b[0m\u001b[0;34m)\u001b[0m\u001b[0;34m\u001b[0m\u001b[0;34m\u001b[0m\u001b[0m\n",
      "\u001b[0;32m~/.pyenv/versions/3.8.13/envs/lewagon/lib/python3.8/site-packages/tensorflow/python/eager/def_function.py\u001b[0m in \u001b[0;36m__call__\u001b[0;34m(self, *args, **kwds)\u001b[0m\n\u001b[1;32m    913\u001b[0m \u001b[0;34m\u001b[0m\u001b[0m\n\u001b[1;32m    914\u001b[0m       \u001b[0;32mwith\u001b[0m \u001b[0mOptionalXlaContext\u001b[0m\u001b[0;34m(\u001b[0m\u001b[0mself\u001b[0m\u001b[0;34m.\u001b[0m\u001b[0m_jit_compile\u001b[0m\u001b[0;34m)\u001b[0m\u001b[0;34m:\u001b[0m\u001b[0;34m\u001b[0m\u001b[0;34m\u001b[0m\u001b[0m\n\u001b[0;32m--> 915\u001b[0;31m         \u001b[0mresult\u001b[0m \u001b[0;34m=\u001b[0m \u001b[0mself\u001b[0m\u001b[0;34m.\u001b[0m\u001b[0m_call\u001b[0m\u001b[0;34m(\u001b[0m\u001b[0;34m*\u001b[0m\u001b[0margs\u001b[0m\u001b[0;34m,\u001b[0m \u001b[0;34m**\u001b[0m\u001b[0mkwds\u001b[0m\u001b[0;34m)\u001b[0m\u001b[0;34m\u001b[0m\u001b[0;34m\u001b[0m\u001b[0m\n\u001b[0m\u001b[1;32m    916\u001b[0m \u001b[0;34m\u001b[0m\u001b[0m\n\u001b[1;32m    917\u001b[0m       \u001b[0mnew_tracing_count\u001b[0m \u001b[0;34m=\u001b[0m \u001b[0mself\u001b[0m\u001b[0;34m.\u001b[0m\u001b[0mexperimental_get_tracing_count\u001b[0m\u001b[0;34m(\u001b[0m\u001b[0;34m)\u001b[0m\u001b[0;34m\u001b[0m\u001b[0;34m\u001b[0m\u001b[0m\n",
      "\u001b[0;32m~/.pyenv/versions/3.8.13/envs/lewagon/lib/python3.8/site-packages/tensorflow/python/eager/def_function.py\u001b[0m in \u001b[0;36m_call\u001b[0;34m(self, *args, **kwds)\u001b[0m\n\u001b[1;32m    945\u001b[0m       \u001b[0;31m# In this case we have created variables on the first call, so we run the\u001b[0m\u001b[0;34m\u001b[0m\u001b[0;34m\u001b[0m\u001b[0;34m\u001b[0m\u001b[0m\n\u001b[1;32m    946\u001b[0m       \u001b[0;31m# defunned version which is guaranteed to never create variables.\u001b[0m\u001b[0;34m\u001b[0m\u001b[0;34m\u001b[0m\u001b[0;34m\u001b[0m\u001b[0m\n\u001b[0;32m--> 947\u001b[0;31m       \u001b[0;32mreturn\u001b[0m \u001b[0mself\u001b[0m\u001b[0;34m.\u001b[0m\u001b[0m_stateless_fn\u001b[0m\u001b[0;34m(\u001b[0m\u001b[0;34m*\u001b[0m\u001b[0margs\u001b[0m\u001b[0;34m,\u001b[0m \u001b[0;34m**\u001b[0m\u001b[0mkwds\u001b[0m\u001b[0;34m)\u001b[0m  \u001b[0;31m# pylint: disable=not-callable\u001b[0m\u001b[0;34m\u001b[0m\u001b[0;34m\u001b[0m\u001b[0m\n\u001b[0m\u001b[1;32m    948\u001b[0m     \u001b[0;32melif\u001b[0m \u001b[0mself\u001b[0m\u001b[0;34m.\u001b[0m\u001b[0m_stateful_fn\u001b[0m \u001b[0;32mis\u001b[0m \u001b[0;32mnot\u001b[0m \u001b[0;32mNone\u001b[0m\u001b[0;34m:\u001b[0m\u001b[0;34m\u001b[0m\u001b[0;34m\u001b[0m\u001b[0m\n\u001b[1;32m    949\u001b[0m       \u001b[0;31m# Release the lock early so that multiple threads can perform the call\u001b[0m\u001b[0;34m\u001b[0m\u001b[0;34m\u001b[0m\u001b[0;34m\u001b[0m\u001b[0m\n",
      "\u001b[0;32m~/.pyenv/versions/3.8.13/envs/lewagon/lib/python3.8/site-packages/tensorflow/python/eager/function.py\u001b[0m in \u001b[0;36m__call__\u001b[0;34m(self, *args, **kwargs)\u001b[0m\n\u001b[1;32m   2451\u001b[0m       (graph_function,\n\u001b[1;32m   2452\u001b[0m        filtered_flat_args) = self._maybe_define_function(args, kwargs)\n\u001b[0;32m-> 2453\u001b[0;31m     return graph_function._call_flat(\n\u001b[0m\u001b[1;32m   2454\u001b[0m         filtered_flat_args, captured_inputs=graph_function.captured_inputs)  # pylint: disable=protected-access\n\u001b[1;32m   2455\u001b[0m \u001b[0;34m\u001b[0m\u001b[0m\n",
      "\u001b[0;32m~/.pyenv/versions/3.8.13/envs/lewagon/lib/python3.8/site-packages/tensorflow/python/eager/function.py\u001b[0m in \u001b[0;36m_call_flat\u001b[0;34m(self, args, captured_inputs, cancellation_manager)\u001b[0m\n\u001b[1;32m   1858\u001b[0m         and executing_eagerly):\n\u001b[1;32m   1859\u001b[0m       \u001b[0;31m# No tape is watching; skip to running the function.\u001b[0m\u001b[0;34m\u001b[0m\u001b[0;34m\u001b[0m\u001b[0;34m\u001b[0m\u001b[0m\n\u001b[0;32m-> 1860\u001b[0;31m       return self._build_call_outputs(self._inference_function.call(\n\u001b[0m\u001b[1;32m   1861\u001b[0m           ctx, args, cancellation_manager=cancellation_manager))\n\u001b[1;32m   1862\u001b[0m     forward_backward = self._select_forward_and_backward_functions(\n",
      "\u001b[0;32m~/.pyenv/versions/3.8.13/envs/lewagon/lib/python3.8/site-packages/tensorflow/python/eager/function.py\u001b[0m in \u001b[0;36mcall\u001b[0;34m(self, ctx, args, cancellation_manager)\u001b[0m\n\u001b[1;32m    495\u001b[0m       \u001b[0;32mwith\u001b[0m \u001b[0m_InterpolateFunctionError\u001b[0m\u001b[0;34m(\u001b[0m\u001b[0mself\u001b[0m\u001b[0;34m)\u001b[0m\u001b[0;34m:\u001b[0m\u001b[0;34m\u001b[0m\u001b[0;34m\u001b[0m\u001b[0m\n\u001b[1;32m    496\u001b[0m         \u001b[0;32mif\u001b[0m \u001b[0mcancellation_manager\u001b[0m \u001b[0;32mis\u001b[0m \u001b[0;32mNone\u001b[0m\u001b[0;34m:\u001b[0m\u001b[0;34m\u001b[0m\u001b[0;34m\u001b[0m\u001b[0m\n\u001b[0;32m--> 497\u001b[0;31m           outputs = execute.execute(\n\u001b[0m\u001b[1;32m    498\u001b[0m               \u001b[0mstr\u001b[0m\u001b[0;34m(\u001b[0m\u001b[0mself\u001b[0m\u001b[0;34m.\u001b[0m\u001b[0msignature\u001b[0m\u001b[0;34m.\u001b[0m\u001b[0mname\u001b[0m\u001b[0;34m)\u001b[0m\u001b[0;34m,\u001b[0m\u001b[0;34m\u001b[0m\u001b[0;34m\u001b[0m\u001b[0m\n\u001b[1;32m    499\u001b[0m               \u001b[0mnum_outputs\u001b[0m\u001b[0;34m=\u001b[0m\u001b[0mself\u001b[0m\u001b[0;34m.\u001b[0m\u001b[0m_num_outputs\u001b[0m\u001b[0;34m,\u001b[0m\u001b[0;34m\u001b[0m\u001b[0;34m\u001b[0m\u001b[0m\n",
      "\u001b[0;32m~/.pyenv/versions/3.8.13/envs/lewagon/lib/python3.8/site-packages/tensorflow/python/eager/execute.py\u001b[0m in \u001b[0;36mquick_execute\u001b[0;34m(op_name, num_outputs, inputs, attrs, ctx, name)\u001b[0m\n\u001b[1;32m     52\u001b[0m   \u001b[0;32mtry\u001b[0m\u001b[0;34m:\u001b[0m\u001b[0;34m\u001b[0m\u001b[0;34m\u001b[0m\u001b[0m\n\u001b[1;32m     53\u001b[0m     \u001b[0mctx\u001b[0m\u001b[0;34m.\u001b[0m\u001b[0mensure_initialized\u001b[0m\u001b[0;34m(\u001b[0m\u001b[0;34m)\u001b[0m\u001b[0;34m\u001b[0m\u001b[0;34m\u001b[0m\u001b[0m\n\u001b[0;32m---> 54\u001b[0;31m     tensors = pywrap_tfe.TFE_Py_Execute(ctx._handle, device_name, op_name,\n\u001b[0m\u001b[1;32m     55\u001b[0m                                         inputs, attrs, num_outputs)\n\u001b[1;32m     56\u001b[0m   \u001b[0;32mexcept\u001b[0m \u001b[0mcore\u001b[0m\u001b[0;34m.\u001b[0m\u001b[0m_NotOkStatusException\u001b[0m \u001b[0;32mas\u001b[0m \u001b[0me\u001b[0m\u001b[0;34m:\u001b[0m\u001b[0;34m\u001b[0m\u001b[0;34m\u001b[0m\u001b[0m\n",
      "\u001b[0;31mKeyboardInterrupt\u001b[0m: "
     ]
    }
   ],
   "source": [
    "from tensorflow.keras.callbacks import EarlyStopping\n",
    "\n",
    "model = initialize_model()\n",
    "model = compile_model(model)\n",
    "\n",
    "es = EarlyStopping(patience = 20, restore_best_weights = True)\n",
    "\n",
    "history = model.fit(X_train_stack, y_train, \n",
    "                    validation_split = 0.3,\n",
    "                    callbacks = [es], \n",
    "                    epochs = 200, \n",
    "                    batch_size = 32)"
   ]
  },
  {
   "cell_type": "code",
   "execution_count": null,
   "id": "UJa6ZeJyuYY_",
   "metadata": {
    "id": "UJa6ZeJyuYY_"
   },
   "outputs": [],
   "source": [
    "def plot_history(history, title='', axs=None, exp_name=\"\"):\n",
    "    if axs is not None:\n",
    "        ax1, ax2 = axs\n",
    "    else:\n",
    "        f, (ax1, ax2) = plt.subplots(1, 2, figsize=(12, 4))\n",
    "    \n",
    "    if len(exp_name) > 0 and exp_name[0] != '_':\n",
    "        exp_name = '_' + exp_name\n",
    "    ax1.plot(history.history['loss'], label = 'train' + exp_name)\n",
    "    ax1.plot(history.history['val_loss'], label = 'val' + exp_name)\n",
    "    ax1.set_ylim(0., 2.2)\n",
    "    ax1.set_title('loss')\n",
    "    ax1.legend()\n",
    "\n",
    "    ax2.plot(history.history['accuracy'], label='train accuracy'  + exp_name)\n",
    "    ax2.plot(history.history['val_accuracy'], label='val accuracy'  + exp_name)\n",
    "    ax2.set_ylim(0.25, 1.)\n",
    "    ax2.set_title('Accuracy')\n",
    "    ax2.legend()\n",
    "    return (ax1, ax2)"
   ]
  },
  {
   "cell_type": "code",
   "execution_count": null,
   "id": "PZf4fgquurd3",
   "metadata": {
    "colab": {
     "base_uri": "https://localhost:8080/",
     "height": 281
    },
    "id": "PZf4fgquurd3",
    "outputId": "036e35ee-68a6-425a-cf23-a160aea5bf11"
   },
   "outputs": [
    {
     "data": {
      "image/png": "[encoded data removed]",
      "text/plain": [
       "<Figure size 864x288 with 2 Axes>"
      ]
     },
     "metadata": {
      "needs_background": "light"
     },
     "output_type": "display_data"
    }
   ],
   "source": [
    "plot_history(history)\n",
    "plt.show()"
   ]
  },
  {
   "cell_type": "markdown",
   "id": "q3ZC4s00ypwF",
   "metadata": {
    "id": "q3ZC4s00ypwF"
   },
   "source": [
    "## Data Augmentation"
   ]
  },
  {
   "cell_type": "code",
   "execution_count": null,
   "id": "GCVcLl0wyvgw",
   "metadata": {
    "id": "GCVcLl0wyvgw"
   },
   "outputs": [],
   "source": [
    "from tensorflow.keras.preprocessing.image import ImageDataGenerator \n",
    "\n",
    "datagen = ImageDataGenerator(\n",
    "        featurewise_center=False,  # set input mean to 0 over the dataset\n",
    "        samplewise_center=False,  # set each sample mean to 0\n",
    "        featurewise_std_normalization=False,  # divide inputs by std of the dataset\n",
    "        samplewise_std_normalization=False,  # divide each input by its std\n",
    "        zca_whitening=False,  # apply ZCA whitening\n",
    "        rotation_range=10,  # randomly rotate images in the range (degrees, 0 to 180)\n",
    "        zoom_range = 0.1, # Randomly zoom image \n",
    "        width_shift_range=0,  # randomly shift images horizontally (fraction of total width)\n",
    "        height_shift_range=0,  # randomly shift images vertically (fraction of total height)\n",
    "        horizontal_flip=True,  # randomly flip images\n",
    "        vertical_flip=True)  # randomly flip images\n",
    "\n",
    "datagen.fit(X_train_stack)"
   ]
  },
  {
   "cell_type": "code",
   "execution_count": null,
   "id": "wZ1teRukyv1E",
   "metadata": {
    "id": "wZ1teRukyv1E"
   },
   "outputs": [],
   "source": [
    "model = tf.keras.Sequential()\n",
    "model.add(layers.experimental.preprocessing.Rescaling(1. / 255))\n",
    "model.add(layers.Conv2D(32, 3, activation='relu'))\n",
    "model.add(layers.MaxPooling2D())\n",
    "model.add(layers.Conv2D(32, 3, activation='relu'))\n",
    "model.add(layers.MaxPooling2D())\n",
    "model.add(layers.Conv2D(32, 3, activation='relu'))\n",
    "model.add(layers.MaxPooling2D())\n",
    "model.add(layers.Flatten())\n",
    "model.add(layers.Dense(64, activation='relu'))\n",
    "model.add(layers.Dense(7, activation='softmax'))"
   ]
  },
  {
   "cell_type": "code",
   "execution_count": null,
   "id": "kurhKCwCywDH",
   "metadata": {
    "colab": {
     "base_uri": "https://localhost:8080/"
    },
    "id": "kurhKCwCywDH",
    "outputId": "2404c3be-7b98-4456-94fa-267360e632d3"
   },
   "outputs": [
    {
     "name": "stderr",
     "output_type": "stream",
     "text": [
      "/usr/local/lib/python3.7/dist-packages/keras/optimizer_v2/adam.py:105: UserWarning: The `lr` argument is deprecated, use `learning_rate` instead.\n",
      "  super(Adam, self).__init__(name, **kwargs)\n",
      "/usr/local/lib/python3.7/dist-packages/ipykernel_launcher.py:14: UserWarning: `Model.fit_generator` is deprecated and will be removed in a future version. Please use `Model.fit`, which supports generators.\n",
      "  \n"
     ]
    },
    {
     "name": "stdout",
     "output_type": "stream",
     "text": [
      "Epoch 1/30\n",
      "220/220 [==============================] - 13s 56ms/step - loss: 1.0340 - accuracy: 0.6688 - recall: 0.5643 - precision: 0.7570\n",
      "Epoch 2/30\n",
      "220/220 [==============================] - 12s 55ms/step - loss: 0.9523 - accuracy: 0.6753 - recall: 0.5650 - precision: 0.8104\n",
      "Epoch 3/30\n",
      "220/220 [==============================] - 12s 55ms/step - loss: 0.8947 - accuracy: 0.6830 - recall: 0.5769 - precision: 0.8181\n",
      "Epoch 4/30\n",
      "220/220 [==============================] - 12s 55ms/step - loss: 0.8749 - accuracy: 0.6829 - recall: 0.5766 - precision: 0.8224\n",
      "Epoch 5/30\n",
      "220/220 [==============================] - 12s 55ms/step - loss: 0.8224 - accuracy: 0.6996 - recall: 0.5943 - precision: 0.8220\n",
      "Epoch 6/30\n",
      "220/220 [==============================] - 12s 55ms/step - loss: 0.7921 - accuracy: 0.7080 - recall: 0.6056 - precision: 0.8309\n",
      "Epoch 7/30\n",
      "220/220 [==============================] - 13s 59ms/step - loss: 0.7517 - accuracy: 0.7247 - recall: 0.6244 - precision: 0.8298\n",
      "Epoch 8/30\n",
      "220/220 [==============================] - 12s 56ms/step - loss: 0.7190 - accuracy: 0.7352 - recall: 0.6419 - precision: 0.8304\n",
      "Epoch 9/30\n",
      "220/220 [==============================] - 14s 62ms/step - loss: 0.7479 - accuracy: 0.7235 - recall: 0.6300 - precision: 0.8320\n",
      "Epoch 10/30\n",
      "220/220 [==============================] - 12s 56ms/step - loss: 0.7301 - accuracy: 0.7359 - recall: 0.6371 - precision: 0.8323\n",
      "Epoch 11/30\n",
      "220/220 [==============================] - 12s 55ms/step - loss: 0.7112 - accuracy: 0.7427 - recall: 0.6532 - precision: 0.8294\n",
      "Epoch 12/30\n",
      "220/220 [==============================] - 12s 55ms/step - loss: 0.6831 - accuracy: 0.7485 - recall: 0.6665 - precision: 0.8332\n",
      "Epoch 13/30\n",
      "220/220 [==============================] - 12s 56ms/step - loss: 0.6808 - accuracy: 0.7474 - recall: 0.6643 - precision: 0.8321\n",
      "Epoch 14/30\n",
      "220/220 [==============================] - 12s 56ms/step - loss: 0.6776 - accuracy: 0.7489 - recall: 0.6643 - precision: 0.8325\n",
      "Epoch 15/30\n",
      "220/220 [==============================] - 12s 55ms/step - loss: 0.6683 - accuracy: 0.7482 - recall: 0.6719 - precision: 0.8310\n",
      "Epoch 16/30\n",
      "220/220 [==============================] - 12s 55ms/step - loss: 0.6636 - accuracy: 0.7509 - recall: 0.6755 - precision: 0.8323\n",
      "Epoch 17/30\n",
      "220/220 [==============================] - 12s 56ms/step - loss: 0.6492 - accuracy: 0.7619 - recall: 0.6832 - precision: 0.8394\n",
      "Epoch 18/30\n",
      "220/220 [==============================] - 12s 55ms/step - loss: 0.6369 - accuracy: 0.7618 - recall: 0.6904 - precision: 0.8384\n",
      "Epoch 19/30\n",
      "220/220 [==============================] - 12s 55ms/step - loss: 0.6336 - accuracy: 0.7592 - recall: 0.6929 - precision: 0.8380\n",
      "Epoch 20/30\n",
      "220/220 [==============================] - 12s 55ms/step - loss: 0.6434 - accuracy: 0.7615 - recall: 0.6823 - precision: 0.8390\n",
      "Epoch 21/30\n",
      "220/220 [==============================] - 12s 55ms/step - loss: 0.7075 - accuracy: 0.7466 - recall: 0.6505 - precision: 0.8355\n",
      "Epoch 22/30\n",
      "220/220 [==============================] - 12s 56ms/step - loss: 0.6355 - accuracy: 0.7636 - recall: 0.6882 - precision: 0.8403\n",
      "Epoch 23/30\n",
      "220/220 [==============================] - 12s 55ms/step - loss: 0.6044 - accuracy: 0.7757 - recall: 0.7056 - precision: 0.8439\n",
      "Epoch 24/30\n",
      "220/220 [==============================] - 12s 55ms/step - loss: 0.6048 - accuracy: 0.7748 - recall: 0.6991 - precision: 0.8408\n",
      "Epoch 25/30\n",
      "220/220 [==============================] - 12s 55ms/step - loss: 0.5990 - accuracy: 0.7813 - recall: 0.7066 - precision: 0.8454\n",
      "Epoch 26/30\n",
      "220/220 [==============================] - 12s 55ms/step - loss: 0.5882 - accuracy: 0.7810 - recall: 0.7136 - precision: 0.8504\n",
      "Epoch 27/30\n",
      "220/220 [==============================] - 12s 55ms/step - loss: 0.6050 - accuracy: 0.7716 - recall: 0.7056 - precision: 0.8346\n",
      "Epoch 28/30\n",
      "220/220 [==============================] - 12s 55ms/step - loss: 0.5958 - accuracy: 0.7796 - recall: 0.7090 - precision: 0.8437\n",
      "Epoch 29/30\n",
      "220/220 [==============================] - 12s 55ms/step - loss: 0.5813 - accuracy: 0.7807 - recall: 0.7164 - precision: 0.8467\n",
      "Epoch 30/30\n",
      "220/220 [==============================] - 12s 55ms/step - loss: 0.5792 - accuracy: 0.7787 - recall: 0.7151 - precision: 0.8420\n"
     ]
    },
    {
     "data": {
      "text/plain": [
       "<keras.callbacks.History at 0x7fee52e97750>"
      ]
     },
     "execution_count": 60,
     "metadata": {},
     "output_type": "execute_result"
    }
   ],
   "source": [
    "from tensorflow.keras.optimizers import Adam\n",
    "\n",
    "optimizer = Adam(lr=0.001, beta_1=0.9, beta_2=0.999, epsilon=None, decay=0.0, amsgrad=False)\n",
    "\n",
    "model.compile(\n",
    "  optimizer = optimizer,\n",
    "  loss = 'categorical_crossentropy', # \"sparse_\" allows to avoid one-hot-encoding the target\n",
    "  metrics = ['accuracy','Recall', 'Precision'])\n",
    "\n",
    "epochs = 30\n",
    "batch_size = 32\n",
    "model.fit_generator(datagen.flow(X_train_stack,y_train, batch_size=batch_size),\n",
    "                              epochs = epochs,\n",
    "                              verbose = 1)"
   ]
  },
  {
   "cell_type": "code",
   "execution_count": null,
   "id": "mB7Q87hAy-fG",
   "metadata": {
    "colab": {
     "base_uri": "https://localhost:8080/"
    },
    "id": "mB7Q87hAy-fG",
    "outputId": "8599e9ad-a30a-469c-e522-2398709ff1ef"
   },
   "outputs": [
    {
     "name": "stdout",
     "output_type": "stream",
     "text": [
      "94/94 [==============================] - 1s 6ms/step - loss: 0.6840 - accuracy: 0.7541 - recall: 0.6962 - precision: 0.8220\n"
     ]
    },
    {
     "data": {
      "text/plain": [
       "[0.6839607954025269,\n",
       " 0.7540765404701233,\n",
       " 0.6961730718612671,\n",
       " 0.8220039010047913]"
      ]
     },
     "execution_count": 64,
     "metadata": {},
     "output_type": "execute_result"
    }
   ],
   "source": [
    "model.evaluate(X_test_stack,y_test)"
   ]
  },
  {
   "cell_type": "markdown",
   "id": "xY1asvBO8BDx",
   "metadata": {
    "id": "xY1asvBO8BDx"
   },
   "source": [
    "## InceptionV3"
   ]
  },
  {
   "cell_type": "code",
   "execution_count": null,
   "id": "LD-cJRbN8D63",
   "metadata": {
    "id": "LD-cJRbN8D63"
   },
   "outputs": [],
   "source": [
    "from tf.keras.applications.inception_v3 import InceptionV3\n",
    "#mobile = MobileNet()"
   ]
  },
  {
   "cell_type": "code",
   "execution_count": 7,
   "id": "gTrg3w-bsIHI",
   "metadata": {
    "colab": {
     "base_uri": "https://localhost:8080/"
    },
    "id": "gTrg3w-bsIHI",
    "outputId": "454f0b0b-7925-4cde-b514-44c0b11ea1c7"
   },
   "outputs": [
    {
     "name": "stdout",
     "output_type": "stream",
     "text": [
      "absl-py==1.0.0\n",
      "alabaster==0.7.12\n",
      "albumentations==0.1.12\n",
      "altair==4.2.0\n",
      "appdirs==1.4.4\n",
      "argon2-cffi==21.3.0\n",
      "argon2-cffi-bindings==21.2.0\n",
      "arviz==0.12.1\n",
      "astor==0.8.1\n",
      "astropy==4.3.1\n",
      "astunparse==1.6.3\n",
      "atari-py==0.2.9\n",
      "atomicwrites==1.4.0\n",
      "attrs==21.4.0\n",
      "audioread==2.1.9\n",
      "autograd==1.4\n",
      "Babel==2.10.1\n",
      "backcall==0.2.0\n",
      "beautifulsoup4==4.6.3\n",
      "bleach==5.0.0\n",
      "blis==0.4.1\n",
      "bokeh==2.3.3\n",
      "Bottleneck==1.3.4\n",
      "branca==0.5.0\n",
      "bs4==0.0.1\n",
      "CacheControl==0.12.11\n",
      "cached-property==1.5.2\n",
      "cachetools==4.2.4\n",
      "catalogue==1.0.0\n",
      "certifi==2022.5.18.1\n",
      "cffi==1.15.0\n",
      "cftime==1.6.0\n",
      "chardet==3.0.4\n",
      "charset-normalizer==2.0.12\n",
      "click==7.1.2\n",
      "cloudpickle==1.3.0\n",
      "cmake==3.22.4\n",
      "cmdstanpy==0.9.5\n",
      "colorcet==3.0.0\n",
      "colorlover==0.3.0\n",
      "community==1.0.0b1\n",
      "contextlib2==0.5.5\n",
      "convertdate==2.4.0\n",
      "coverage==3.7.1\n",
      "coveralls==0.5\n",
      "crcmod==1.7\n",
      "cufflinks==0.17.3\n",
      "cupy-cuda111==9.4.0\n",
      "cvxopt==1.2.7\n",
      "cvxpy==1.0.31\n",
      "cycler==0.11.0\n",
      "cymem==2.0.6\n",
      "Cython==0.29.30\n",
      "daft==0.0.4\n",
      "dask==2.12.0\n",
      "datascience==0.10.6\n",
      "debugpy==1.0.0\n",
      "decorator==4.4.2\n",
      "defusedxml==0.7.1\n",
      "descartes==1.1.0\n",
      "dill==0.3.5.1\n",
      "distributed==1.25.3\n",
      "dlib==19.18.0+zzzcolab20220513001918\n",
      "dm-tree==0.1.7\n",
      "docopt==0.6.2\n",
      "docutils==0.17.1\n",
      "dopamine-rl==1.0.5\n",
      "earthengine-api==0.1.311\n",
      "easydict==1.9\n",
      "ecos==2.0.10\n",
      "editdistance==0.5.3\n",
      "en-core-web-sm @ https://github.com/explosion/spacy-models/releases/download/en_core_web_sm-2.2.5/en_core_web_sm-2.2.5.tar.gz\n",
      "entrypoints==0.4\n",
      "ephem==4.1.3\n",
      "et-xmlfile==1.1.0\n",
      "fa2==0.3.5\n",
      "fastai==1.0.61\n",
      "fastdtw==0.3.4\n",
      "fastjsonschema==2.15.3\n",
      "fastprogress==1.0.2\n",
      "fastrlock==0.8\n",
      "fbprophet==0.7.1\n",
      "feather-format==0.4.1\n",
      "filelock==3.7.0\n",
      "firebase-admin==4.4.0\n",
      "fix-yahoo-finance==0.0.22\n",
      "Flask==1.1.4\n",
      "flatbuffers==2.0\n",
      "folium==0.8.3\n",
      "future==0.16.0\n",
      "gast==0.5.3\n",
      "GDAL==2.2.2\n",
      "gdown==4.4.0\n",
      "gensim==3.6.0\n",
      "geographiclib==1.52\n",
      "geopy==1.17.0\n",
      "gin-config==0.5.0\n",
      "glob2==0.7\n",
      "google==2.0.3\n",
      "google-api-core==1.31.6\n",
      "google-api-python-client==1.12.11\n",
      "google-auth==1.35.0\n",
      "google-auth-httplib2==0.0.4\n",
      "google-auth-oauthlib==0.4.6\n",
      "google-cloud-bigquery==1.21.0\n",
      "google-cloud-bigquery-storage==1.1.1\n",
      "google-cloud-core==1.0.3\n",
      "google-cloud-datastore==1.8.0\n",
      "google-cloud-firestore==1.7.0\n",
      "google-cloud-language==1.2.0\n",
      "google-cloud-storage==1.18.1\n",
      "google-cloud-translate==1.5.0\n",
      "google-colab @ file:///colabtools/dist/google-colab-1.0.0.tar.gz\n",
      "google-pasta==0.2.0\n",
      "google-resumable-media==0.4.1\n",
      "googleapis-common-protos==1.56.2\n",
      "googledrivedownloader==0.4\n",
      "graphviz==0.10.1\n",
      "greenlet==1.1.2\n",
      "grpcio==1.46.3\n",
      "gspread==3.4.2\n",
      "gspread-dataframe==3.0.8\n",
      "gym==0.17.3\n",
      "h5py==3.1.0\n",
      "HeapDict==1.0.1\n",
      "hijri-converter==2.2.4\n",
      "holidays==0.10.5.2\n",
      "holoviews==1.14.9\n",
      "html5lib==1.0.1\n",
      "httpimport==0.5.18\n",
      "httplib2==0.17.4\n",
      "httplib2shim==0.0.3\n",
      "humanize==0.5.1\n",
      "hyperopt==0.1.2\n",
      "ideep4py==2.0.0.post3\n",
      "idna==2.10\n",
      "imageio==2.4.1\n",
      "imagesize==1.3.0\n",
      "imbalanced-learn==0.8.1\n",
      "imblearn==0.0\n",
      "imgaug==0.2.9\n",
      "importlib-metadata==4.11.4\n",
      "importlib-resources==5.7.1\n",
      "imutils==0.5.4\n",
      "inflect==2.1.0\n",
      "iniconfig==1.1.1\n",
      "intel-openmp==2022.1.0\n",
      "intervaltree==2.1.0\n",
      "ipykernel==4.10.1\n",
      "ipython==5.5.0\n",
      "ipython-genutils==0.2.0\n",
      "ipython-sql==0.3.9\n",
      "ipywidgets==7.7.0\n",
      "itsdangerous==1.1.0\n",
      "jax==0.3.8\n",
      "jaxlib @ https://storage.googleapis.com/jax-releases/cuda11/jaxlib-0.3.7+cuda11.cudnn805-cp37-none-manylinux2014_x86_64.whl\n",
      "jedi==0.18.1\n",
      "jieba==0.42.1\n",
      "Jinja2==2.11.3\n",
      "joblib==1.1.0\n",
      "jpeg4py==0.1.4\n",
      "jsonschema==4.3.3\n",
      "jupyter==1.0.0\n",
      "jupyter-client==5.3.5\n",
      "jupyter-console==5.2.0\n",
      "jupyter-core==4.10.0\n",
      "jupyterlab-pygments==0.2.2\n",
      "jupyterlab-widgets==1.1.0\n",
      "kaggle==1.5.12\n",
      "kapre==0.3.7\n",
      "keras==2.8.0\n",
      "Keras-Preprocessing==1.1.2\n",
      "keras-vis==0.4.1\n",
      "kiwisolver==1.4.2\n",
      "korean-lunar-calendar==0.2.1\n",
      "libclang==14.0.1\n",
      "librosa==0.8.1\n",
      "lightgbm==2.2.3\n",
      "llvmlite==0.34.0\n",
      "lmdb==0.99\n",
      "LunarCalendar==0.0.9\n",
      "lxml==4.2.6\n",
      "Markdown==3.3.7\n",
      "MarkupSafe==2.0.1\n",
      "matplotlib==3.2.2\n",
      "matplotlib-inline==0.1.3\n",
      "matplotlib-venn==0.11.7\n",
      "missingno==0.5.1\n",
      "mistune==0.8.4\n",
      "mizani==0.6.0\n",
      "mkl==2019.0\n",
      "mlxtend==0.14.0\n",
      "more-itertools==8.13.0\n",
      "moviepy==0.2.3.5\n",
      "mpmath==1.2.1\n",
      "msgpack==1.0.3\n",
      "multiprocess==0.70.13\n",
      "multitasking==0.0.10\n",
      "murmurhash==1.0.7\n",
      "music21==5.5.0\n",
      "natsort==5.5.0\n",
      "nbclient==0.6.4\n",
      "nbconvert==5.6.1\n",
      "nbformat==5.4.0\n",
      "nest-asyncio==1.5.5\n",
      "netCDF4==1.5.8\n",
      "networkx==2.6.3\n",
      "nibabel==3.0.2\n",
      "nltk==3.2.5\n",
      "notebook==5.3.1\n",
      "numba==0.51.2\n",
      "numexpr==2.8.1\n",
      "numpy==1.21.6\n",
      "nvidia-ml-py3==7.352.0\n",
      "oauth2client==4.1.3\n",
      "oauthlib==3.2.0\n",
      "okgrade==0.4.3\n",
      "opencv-contrib-python==4.1.2.30\n",
      "opencv-python==4.1.2.30\n",
      "openpyxl==3.0.10\n",
      "opt-einsum==3.3.0\n",
      "osqp==0.6.2.post0\n",
      "packaging==21.3\n",
      "palettable==3.3.0\n",
      "pandas==1.3.5\n",
      "pandas-datareader==0.9.0\n",
      "pandas-gbq==0.13.3\n",
      "pandas-profiling==1.4.1\n",
      "pandocfilters==1.5.0\n",
      "panel==0.12.1\n",
      "param==1.12.1\n",
      "parso==0.8.3\n",
      "pathlib==1.0.1\n",
      "patsy==0.5.2\n",
      "pep517==0.12.0\n",
      "pexpect==4.8.0\n",
      "pickle5==0.0.12\n",
      "pickleshare==0.7.5\n",
      "Pillow==7.1.2\n",
      "pip-tools==6.2.0\n",
      "plac==1.1.3\n",
      "plotly==5.5.0\n",
      "plotnine==0.6.0\n",
      "pluggy==0.7.1\n",
      "pooch==1.6.0\n",
      "portpicker==1.3.9\n",
      "prefetch-generator==1.0.1\n",
      "preshed==3.0.6\n",
      "prettytable==3.3.0\n",
      "progressbar2==3.38.0\n",
      "prometheus-client==0.14.1\n",
      "promise==2.3\n",
      "prompt-toolkit==1.0.18\n",
      "protobuf==3.17.3\n",
      "psutil==5.4.8\n",
      "psycopg2==2.7.6.1\n",
      "ptyprocess==0.7.0\n",
      "py==1.11.0\n",
      "pyarrow==6.0.1\n",
      "pyasn1==0.4.8\n",
      "pyasn1-modules==0.2.8\n",
      "pycocotools==2.0.4\n",
      "pycparser==2.21\n",
      "pyct==0.4.8\n",
      "pydata-google-auth==1.4.0\n",
      "pydot==1.3.0\n",
      "pydot-ng==2.0.0\n",
      "pydotplus==2.0.2\n",
      "PyDrive==1.3.1\n",
      "pyemd==0.5.1\n",
      "pyerfa==2.0.0.1\n",
      "pyglet==1.5.0\n",
      "Pygments==2.6.1\n",
      "pygobject==3.26.1\n",
      "pymc3==3.11.4\n",
      "PyMeeus==0.5.11\n",
      "pymongo==4.1.1\n",
      "pymystem3==0.2.0\n",
      "PyOpenGL==3.1.6\n",
      "pyparsing==3.0.9\n",
      "pyrsistent==0.18.1\n",
      "pysndfile==1.3.8\n",
      "PySocks==1.7.1\n",
      "pystan==2.19.1.1\n",
      "pytest==3.6.4\n",
      "python-apt==0.0.0\n",
      "python-chess==0.23.11\n",
      "python-dateutil==2.8.2\n",
      "python-louvain==0.16\n",
      "python-slugify==6.1.2\n",
      "python-utils==3.2.3\n",
      "pytz==2022.1\n",
      "pyviz-comms==2.2.0\n",
      "PyWavelets==1.3.0\n",
      "PyYAML==3.13\n",
      "pyzmq==23.0.0\n",
      "qdldl==0.1.5.post2\n",
      "qtconsole==5.3.0\n",
      "QtPy==2.1.0\n",
      "regex==2019.12.20\n",
      "requests==2.23.0\n",
      "requests-oauthlib==1.3.1\n",
      "resampy==0.2.2\n",
      "rpy2==3.4.5\n",
      "rsa==4.8\n",
      "scikit-image==0.18.3\n",
      "scikit-learn==1.0.2\n",
      "scipy==1.4.1\n",
      "screen-resolution-extra==0.0.0\n",
      "scs==3.2.0\n",
      "seaborn==0.11.2\n",
      "semver==2.13.0\n",
      "Send2Trash==1.8.0\n",
      "setuptools-git==1.2\n",
      "Shapely==1.8.2\n",
      "simplegeneric==0.8.1\n",
      "six==1.15.0\n",
      "sklearn==0.0\n",
      "sklearn-pandas==1.8.0\n",
      "smart-open==6.0.0\n",
      "snowballstemmer==2.2.0\n",
      "sortedcontainers==2.4.0\n",
      "SoundFile==0.10.3.post1\n",
      "soupsieve==2.3.2.post1\n",
      "spacy==2.2.4\n",
      "Sphinx==1.8.6\n",
      "sphinxcontrib-serializinghtml==1.1.5\n",
      "sphinxcontrib-websupport==1.2.4\n",
      "SQLAlchemy==1.4.36\n",
      "sqlparse==0.4.2\n",
      "srsly==1.0.5\n",
      "statsmodels==0.10.2\n",
      "sympy==1.7.1\n",
      "tables==3.7.0\n",
      "tabulate==0.8.9\n",
      "tblib==1.7.0\n",
      "tenacity==8.0.1\n",
      "tensorboard==2.8.0\n",
      "tensorboard-data-server==0.6.1\n",
      "tensorboard-plugin-wit==1.8.1\n",
      "tensorflow==2.8.2+zzzcolab20220527125636\n",
      "tensorflow-datasets==4.0.1\n",
      "tensorflow-estimator==2.8.0\n",
      "tensorflow-gcs-config==2.8.0\n",
      "tensorflow-hub==0.12.0\n",
      "tensorflow-io-gcs-filesystem==0.26.0\n",
      "tensorflow-metadata==1.8.0\n",
      "tensorflow-probability==0.16.0\n",
      "termcolor==1.1.0\n",
      "terminado==0.13.3\n",
      "testpath==0.6.0\n",
      "text-unidecode==1.3\n",
      "textblob==0.15.3\n",
      "Theano-PyMC==1.1.2\n",
      "thinc==7.4.0\n",
      "threadpoolctl==3.1.0\n",
      "tifffile==2021.11.2\n",
      "tinycss2==1.1.1\n",
      "tomli==2.0.1\n",
      "toolz==0.11.2\n",
      "torch @ https://download.pytorch.org/whl/cu113/torch-1.11.0%2Bcu113-cp37-cp37m-linux_x86_64.whl\n",
      "torchaudio @ https://download.pytorch.org/whl/cu113/torchaudio-0.11.0%2Bcu113-cp37-cp37m-linux_x86_64.whl\n",
      "torchsummary==1.5.1\n",
      "torchtext==0.12.0\n",
      "torchvision @ https://download.pytorch.org/whl/cu113/torchvision-0.12.0%2Bcu113-cp37-cp37m-linux_x86_64.whl\n",
      "tornado==5.1.1\n",
      "tqdm==4.64.0\n",
      "traitlets==5.1.1\n",
      "tweepy==3.10.0\n",
      "typeguard==2.7.1\n",
      "typing-extensions==4.2.0\n",
      "tzlocal==1.5.1\n",
      "uritemplate==3.0.1\n",
      "urllib3==1.24.3\n",
      "vega-datasets==0.9.0\n",
      "wasabi==0.9.1\n",
      "wcwidth==0.2.5\n",
      "webencodings==0.5.1\n",
      "Werkzeug==1.0.1\n",
      "widgetsnbextension==3.6.0\n",
      "wordcloud==1.5.0\n",
      "wrapt==1.14.1\n",
      "xarray==0.20.2\n",
      "xarray-einstats==0.2.2\n",
      "xgboost==0.90\n",
      "xkit==0.0.0\n",
      "xlrd==1.1.0\n",
      "xlwt==1.3.0\n",
      "yellowbrick==1.4\n",
      "zict==2.2.0\n",
      "zipp==3.8.0\n"
     ]
    }
   ],
   "source": [
    "! pip freeze"
   ]
  },
  {
   "cell_type": "markdown",
   "id": "5p18tKSvcuBs",
   "metadata": {
    "id": "5p18tKSvcuBs"
   },
   "source": [
    "The model expects images to be stored as TFRecords -> convert images from raw JPEG files into TFRecords "
   ]
  },
  {
   "cell_type": "code",
   "execution_count": null,
   "id": "I47YpS2CnztR",
   "metadata": {
    "id": "I47YpS2CnztR"
   },
   "outputs": [],
   "source": [
    "# ADD SCRIPT FOR CONVERTING "
   ]
  },
  {
   "cell_type": "code",
   "execution_count": null,
   "id": "TnzGw3o28EMU",
   "metadata": {
    "id": "TnzGw3o28EMU"
   },
   "outputs": [],
   "source": [
    "def load_model():\n",
    "    \n",
    "    # $CHALLENGIFY_BEGIN\n",
    "    \n",
    "    model = InceptionV3(weights=\"imagenet\", include_top=False, input_shape=(224, 224, 3))\n",
    "    \n",
    "    # $CHALLENGIFY_END\n",
    "    \n",
    "    return model"
   ]
  },
  {
   "cell_type": "code",
   "execution_count": null,
   "id": "kQ0ppVKL8EaH",
   "metadata": {
    "id": "kQ0ppVKL8EaH"
   },
   "outputs": [],
   "source": [
    "model = load_model()"
   ]
  },
  {
   "cell_type": "code",
   "execution_count": null,
   "id": "rQryDeWD9HH4",
   "metadata": {
    "id": "rQryDeWD9HH4"
   },
   "outputs": [],
   "source": [
    "def set_nontrainable_layers(model):\n",
    "    \n",
    "    # $CHALLENGIFY_BEGIN\n",
    "    # Set the first layers to be untrainable\n",
    "    model.trainable = False\n",
    "    \n",
    "    # $CHALLENGIFY_END\n",
    "    \n",
    "    return model"
   ]
  },
  {
   "cell_type": "code",
   "execution_count": null,
   "id": "t-vcXoXY9HVr",
   "metadata": {
    "id": "t-vcXoXY9HVr"
   },
   "outputs": [],
   "source": [
    "model = set_nontrainable_layers(model)"
   ]
  },
  {
   "cell_type": "code",
   "execution_count": null,
   "id": "TZLToejw9HjM",
   "metadata": {
    "id": "TZLToejw9HjM"
   },
   "outputs": [],
   "source": [
    "from tensorflow.keras import layers, models\n",
    "\n",
    "def add_last_layers(model):\n",
    "    '''Take a pre-trained model, set its parameters as non-trainable, and add additional trainable layers on top'''\n",
    "    # $CHALLENGIFY_BEGIN\n",
    "    base_model = set_nontrainable_layers(model)\n",
    "    flatten_layer = layers.Flatten()\n",
    "    dense_layer = layers.Dense(500, activation='relu')\n",
    "    prediction_layer = layers.Dense(7, activation='softmax')\n",
    "    \n",
    "    \n",
    "    model = models.Sequential([\n",
    "        base_model,\n",
    "        flatten_layer,\n",
    "        dense_layer,\n",
    "        prediction_layer\n",
    "    ])\n",
    "    # $CHALLENGIFY_END\n",
    "    return model"
   ]
  },
  {
   "cell_type": "code",
   "execution_count": null,
   "id": "sfGfQPdD9Hwf",
   "metadata": {
    "id": "sfGfQPdD9Hwf"
   },
   "outputs": [],
   "source": [
    "model = add_last_layers(model)"
   ]
  },
  {
   "cell_type": "code",
   "execution_count": null,
   "id": "W0SJSIrV9OUz",
   "metadata": {
    "id": "W0SJSIrV9OUz"
   },
   "outputs": [],
   "source": [
    "from tensorflow.keras import optimizers\n",
    "\n",
    "def build_model():\n",
    "    # $CHALLENGIFY_BEGIN    \n",
    "    model = load_model()\n",
    "    model = add_last_layers(model)\n",
    "    \n",
    "    opt = optimizers.Adam(learning_rate=1e-4)\n",
    "    model.compile(loss='binary_crossentropy',\n",
    "                  optimizer=opt,\n",
    "                  metrics=['accuracy'])\n",
    "    return model\n",
    "    # $CHALLENGIFY_END"
   ]
  },
  {
   "cell_type": "code",
   "execution_count": null,
   "id": "TTve4e4e9OjZ",
   "metadata": {
    "id": "TTve4e4e9OjZ"
   },
   "outputs": [],
   "source": [
    "model = build_model()"
   ]
  },
  {
   "cell_type": "markdown",
   "id": "_koL4AmTYpL0",
   "metadata": {
    "id": "_koL4AmTYpL0"
   },
   "source": [
    "## alternative way to build transfer model"
   ]
  },
  {
   "cell_type": "code",
   "execution_count": null,
   "id": "PDOQXmmWXqup",
   "metadata": {
    "id": "PDOQXmmWXqup"
   },
   "outputs": [],
   "source": [
    "# alternative way --------------------\n",
    "import tensorflow\n",
    "from tensorflow.keras.applications.mobilenet import MobileNet\n",
    "from tensorflow.keras.models import Model\n",
    "from tensorflow.keras.layers import Dense, Dropout, Flatten\n",
    "\n",
    "mobile = tensorflow.keras.applications.mobilenet.MobileNet(weights=\"imagenet\", include_top=False, input_shape=(224, 224, 3))\n",
    "\n",
    "# CREATE THE MODEL ARCHITECTURE\n",
    "\n",
    "# Exclude the last 5 layers of the above model.\n",
    "# This will include all layers up to and including global_average_pooling2d_1\n",
    "x = mobile.layers[-6].output\n",
    "\n",
    "# Create a new dense layer for predictions\n",
    "# 7 corresponds to the number of classes\n",
    "x = Dropout(0.25)(x)\n",
    "x = Flatten()(x)\n",
    "predictions = Dense(7, activation='softmax')(x)\n",
    "\n",
    "# inputs=mobile.input selects the input layer, outputs=predictions refers to the\n",
    "# dense layer we created above.\n",
    "\n",
    "model = Model(inputs=mobile.input, outputs=predictions)\n",
    "\n",
    "# We need to choose how many layers we actually want to be trained.\n",
    "\n",
    "# Here we are freezing the weights of all layers except the\n",
    "# last 23 layers in the new model.\n",
    "# The last 23 layers of the model will be trained.\n",
    "\n",
    "for layer in model.layers[:-23]:\n",
    "    layer.trainable = False"
   ]
  },
  {
   "cell_type": "code",
   "execution_count": null,
   "id": "8N_Ke2lDZg7k",
   "metadata": {
    "colab": {
     "base_uri": "https://localhost:8080/"
    },
    "id": "8N_Ke2lDZg7k",
    "outputId": "2883d13d-03db-4419-c655-6c067d928df2"
   },
   "outputs": [
    {
     "name": "stdout",
     "output_type": "stream",
     "text": [
      "Model: \"model_4\"\n",
      "_________________________________________________________________\n",
      " Layer (type)                Output Shape              Param #   \n",
      "=================================================================\n",
      " input_11 (InputLayer)       [(None, 224, 224, 3)]     0         \n",
      "                                                                 \n",
      " conv1 (Conv2D)              (None, 112, 112, 32)      864       \n",
      "                                                                 \n",
      " conv1_bn (BatchNormalizatio  (None, 112, 112, 32)     128       \n",
      " n)                                                              \n",
      "                                                                 \n",
      " conv1_relu (ReLU)           (None, 112, 112, 32)      0         \n",
      "                                                                 \n",
      " conv_dw_1 (DepthwiseConv2D)  (None, 112, 112, 32)     288       \n",
      "                                                                 \n",
      " conv_dw_1_bn (BatchNormaliz  (None, 112, 112, 32)     128       \n",
      " ation)                                                          \n",
      "                                                                 \n",
      " conv_dw_1_relu (ReLU)       (None, 112, 112, 32)      0         \n",
      "                                                                 \n",
      " conv_pw_1 (Conv2D)          (None, 112, 112, 64)      2048      \n",
      "                                                                 \n",
      " conv_pw_1_bn (BatchNormaliz  (None, 112, 112, 64)     256       \n",
      " ation)                                                          \n",
      "                                                                 \n",
      " conv_pw_1_relu (ReLU)       (None, 112, 112, 64)      0         \n",
      "                                                                 \n",
      " conv_pad_2 (ZeroPadding2D)  (None, 113, 113, 64)      0         \n",
      "                                                                 \n",
      " conv_dw_2 (DepthwiseConv2D)  (None, 56, 56, 64)       576       \n",
      "                                                                 \n",
      " conv_dw_2_bn (BatchNormaliz  (None, 56, 56, 64)       256       \n",
      " ation)                                                          \n",
      "                                                                 \n",
      " conv_dw_2_relu (ReLU)       (None, 56, 56, 64)        0         \n",
      "                                                                 \n",
      " conv_pw_2 (Conv2D)          (None, 56, 56, 128)       8192      \n",
      "                                                                 \n",
      " conv_pw_2_bn (BatchNormaliz  (None, 56, 56, 128)      512       \n",
      " ation)                                                          \n",
      "                                                                 \n",
      " conv_pw_2_relu (ReLU)       (None, 56, 56, 128)       0         \n",
      "                                                                 \n",
      " conv_dw_3 (DepthwiseConv2D)  (None, 56, 56, 128)      1152      \n",
      "                                                                 \n",
      " conv_dw_3_bn (BatchNormaliz  (None, 56, 56, 128)      512       \n",
      " ation)                                                          \n",
      "                                                                 \n",
      " conv_dw_3_relu (ReLU)       (None, 56, 56, 128)       0         \n",
      "                                                                 \n",
      " conv_pw_3 (Conv2D)          (None, 56, 56, 128)       16384     \n",
      "                                                                 \n",
      " conv_pw_3_bn (BatchNormaliz  (None, 56, 56, 128)      512       \n",
      " ation)                                                          \n",
      "                                                                 \n",
      " conv_pw_3_relu (ReLU)       (None, 56, 56, 128)       0         \n",
      "                                                                 \n",
      " conv_pad_4 (ZeroPadding2D)  (None, 57, 57, 128)       0         \n",
      "                                                                 \n",
      " conv_dw_4 (DepthwiseConv2D)  (None, 28, 28, 128)      1152      \n",
      "                                                                 \n",
      " conv_dw_4_bn (BatchNormaliz  (None, 28, 28, 128)      512       \n",
      " ation)                                                          \n",
      "                                                                 \n",
      " conv_dw_4_relu (ReLU)       (None, 28, 28, 128)       0         \n",
      "                                                                 \n",
      " conv_pw_4 (Conv2D)          (None, 28, 28, 256)       32768     \n",
      "                                                                 \n",
      " conv_pw_4_bn (BatchNormaliz  (None, 28, 28, 256)      1024      \n",
      " ation)                                                          \n",
      "                                                                 \n",
      " conv_pw_4_relu (ReLU)       (None, 28, 28, 256)       0         \n",
      "                                                                 \n",
      " conv_dw_5 (DepthwiseConv2D)  (None, 28, 28, 256)      2304      \n",
      "                                                                 \n",
      " conv_dw_5_bn (BatchNormaliz  (None, 28, 28, 256)      1024      \n",
      " ation)                                                          \n",
      "                                                                 \n",
      " conv_dw_5_relu (ReLU)       (None, 28, 28, 256)       0         \n",
      "                                                                 \n",
      " conv_pw_5 (Conv2D)          (None, 28, 28, 256)       65536     \n",
      "                                                                 \n",
      " conv_pw_5_bn (BatchNormaliz  (None, 28, 28, 256)      1024      \n",
      " ation)                                                          \n",
      "                                                                 \n",
      " conv_pw_5_relu (ReLU)       (None, 28, 28, 256)       0         \n",
      "                                                                 \n",
      " conv_pad_6 (ZeroPadding2D)  (None, 29, 29, 256)       0         \n",
      "                                                                 \n",
      " conv_dw_6 (DepthwiseConv2D)  (None, 14, 14, 256)      2304      \n",
      "                                                                 \n",
      " conv_dw_6_bn (BatchNormaliz  (None, 14, 14, 256)      1024      \n",
      " ation)                                                          \n",
      "                                                                 \n",
      " conv_dw_6_relu (ReLU)       (None, 14, 14, 256)       0         \n",
      "                                                                 \n",
      " conv_pw_6 (Conv2D)          (None, 14, 14, 512)       131072    \n",
      "                                                                 \n",
      " conv_pw_6_bn (BatchNormaliz  (None, 14, 14, 512)      2048      \n",
      " ation)                                                          \n",
      "                                                                 \n",
      " conv_pw_6_relu (ReLU)       (None, 14, 14, 512)       0         \n",
      "                                                                 \n",
      " conv_dw_7 (DepthwiseConv2D)  (None, 14, 14, 512)      4608      \n",
      "                                                                 \n",
      " conv_dw_7_bn (BatchNormaliz  (None, 14, 14, 512)      2048      \n",
      " ation)                                                          \n",
      "                                                                 \n",
      " conv_dw_7_relu (ReLU)       (None, 14, 14, 512)       0         \n",
      "                                                                 \n",
      " conv_pw_7 (Conv2D)          (None, 14, 14, 512)       262144    \n",
      "                                                                 \n",
      " conv_pw_7_bn (BatchNormaliz  (None, 14, 14, 512)      2048      \n",
      " ation)                                                          \n",
      "                                                                 \n",
      " conv_pw_7_relu (ReLU)       (None, 14, 14, 512)       0         \n",
      "                                                                 \n",
      " conv_dw_8 (DepthwiseConv2D)  (None, 14, 14, 512)      4608      \n",
      "                                                                 \n",
      " conv_dw_8_bn (BatchNormaliz  (None, 14, 14, 512)      2048      \n",
      " ation)                                                          \n",
      "                                                                 \n",
      " conv_dw_8_relu (ReLU)       (None, 14, 14, 512)       0         \n",
      "                                                                 \n",
      " conv_pw_8 (Conv2D)          (None, 14, 14, 512)       262144    \n",
      "                                                                 \n",
      " conv_pw_8_bn (BatchNormaliz  (None, 14, 14, 512)      2048      \n",
      " ation)                                                          \n",
      "                                                                 \n",
      " conv_pw_8_relu (ReLU)       (None, 14, 14, 512)       0         \n",
      "                                                                 \n",
      " conv_dw_9 (DepthwiseConv2D)  (None, 14, 14, 512)      4608      \n",
      "                                                                 \n",
      " conv_dw_9_bn (BatchNormaliz  (None, 14, 14, 512)      2048      \n",
      " ation)                                                          \n",
      "                                                                 \n",
      " conv_dw_9_relu (ReLU)       (None, 14, 14, 512)       0         \n",
      "                                                                 \n",
      " conv_pw_9 (Conv2D)          (None, 14, 14, 512)       262144    \n",
      "                                                                 \n",
      " conv_pw_9_bn (BatchNormaliz  (None, 14, 14, 512)      2048      \n",
      " ation)                                                          \n",
      "                                                                 \n",
      " conv_pw_9_relu (ReLU)       (None, 14, 14, 512)       0         \n",
      "                                                                 \n",
      " conv_dw_10 (DepthwiseConv2D  (None, 14, 14, 512)      4608      \n",
      " )                                                               \n",
      "                                                                 \n",
      " conv_dw_10_bn (BatchNormali  (None, 14, 14, 512)      2048      \n",
      " zation)                                                         \n",
      "                                                                 \n",
      " conv_dw_10_relu (ReLU)      (None, 14, 14, 512)       0         \n",
      "                                                                 \n",
      " conv_pw_10 (Conv2D)         (None, 14, 14, 512)       262144    \n",
      "                                                                 \n",
      " conv_pw_10_bn (BatchNormali  (None, 14, 14, 512)      2048      \n",
      " zation)                                                         \n",
      "                                                                 \n",
      " conv_pw_10_relu (ReLU)      (None, 14, 14, 512)       0         \n",
      "                                                                 \n",
      " conv_dw_11 (DepthwiseConv2D  (None, 14, 14, 512)      4608      \n",
      " )                                                               \n",
      "                                                                 \n",
      " conv_dw_11_bn (BatchNormali  (None, 14, 14, 512)      2048      \n",
      " zation)                                                         \n",
      "                                                                 \n",
      " conv_dw_11_relu (ReLU)      (None, 14, 14, 512)       0         \n",
      "                                                                 \n",
      " conv_pw_11 (Conv2D)         (None, 14, 14, 512)       262144    \n",
      "                                                                 \n",
      " conv_pw_11_bn (BatchNormali  (None, 14, 14, 512)      2048      \n",
      " zation)                                                         \n",
      "                                                                 \n",
      " conv_pw_11_relu (ReLU)      (None, 14, 14, 512)       0         \n",
      "                                                                 \n",
      " conv_pad_12 (ZeroPadding2D)  (None, 15, 15, 512)      0         \n",
      "                                                                 \n",
      " conv_dw_12 (DepthwiseConv2D  (None, 7, 7, 512)        4608      \n",
      " )                                                               \n",
      "                                                                 \n",
      " conv_dw_12_bn (BatchNormali  (None, 7, 7, 512)        2048      \n",
      " zation)                                                         \n",
      "                                                                 \n",
      " conv_dw_12_relu (ReLU)      (None, 7, 7, 512)         0         \n",
      "                                                                 \n",
      " conv_pw_12 (Conv2D)         (None, 7, 7, 1024)        524288    \n",
      "                                                                 \n",
      " conv_pw_12_bn (BatchNormali  (None, 7, 7, 1024)       4096      \n",
      " zation)                                                         \n",
      "                                                                 \n",
      " conv_pw_12_relu (ReLU)      (None, 7, 7, 1024)        0         \n",
      "                                                                 \n",
      " conv_dw_13 (DepthwiseConv2D  (None, 7, 7, 1024)       9216      \n",
      " )                                                               \n",
      "                                                                 \n",
      " dropout_4 (Dropout)         (None, 7, 7, 1024)        0         \n",
      "                                                                 \n",
      " flatten_7 (Flatten)         (None, 50176)             0         \n",
      "                                                                 \n",
      " dense_16 (Dense)            (None, 7)                 351239    \n",
      "                                                                 \n",
      "=================================================================\n",
      "Total params: 2,523,335\n",
      "Trainable params: 1,430,023\n",
      "Non-trainable params: 1,093,312\n",
      "_________________________________________________________________\n"
     ]
    }
   ],
   "source": [
    "model.summary()"
   ]
  },
  {
   "cell_type": "markdown",
   "id": "rbxgangcYucT",
   "metadata": {
    "id": "rbxgangcYucT"
   },
   "source": [
    "## compile and fit"
   ]
  },
  {
   "cell_type": "code",
   "execution_count": null,
   "id": "fk60VIal9Owq",
   "metadata": {
    "id": "fk60VIal9Owq"
   },
   "outputs": [],
   "source": [
    "from tensorflow.keras import optimizers\n",
    "from tensorflow.keras.metrics import Recall, Precision\n",
    "\n",
    "\n",
    "model.compile(\n",
    "optimizer = 'adam',\n",
    "loss = 'categorical_crossentropy', # \"sparse_\" allows to avoid one-hot-encoding the target\n",
    "metrics = ['accuracy','Recall', 'Precision'])"
   ]
  },
  {
   "cell_type": "code",
   "execution_count": null,
   "id": "VduseUlV-4hp",
   "metadata": {
    "colab": {
     "base_uri": "https://localhost:8080/",
     "height": 1000
    },
    "id": "VduseUlV-4hp",
    "outputId": "d873a47e-c853-4556-9b01-e57889534ef5"
   },
   "outputs": [
    {
     "name": "stdout",
     "output_type": "stream",
     "text": [
      "Epoch 1/200\n",
      "176/176 [==============================] - 9s 54ms/step - loss: 4.4914 - accuracy: 0.6118 - recall: 0.5938 - precision: 0.6315 - val_loss: 5.1857 - val_accuracy: 0.4408 - val_recall: 0.4387 - val_precision: 0.4418\n",
      "Epoch 2/200\n",
      "176/176 [==============================] - 9s 53ms/step - loss: 1.2188 - accuracy: 0.6960 - recall: 0.6735 - precision: 0.7279 - val_loss: 3.2510 - val_accuracy: 0.6441 - val_recall: 0.6427 - val_precision: 0.6468\n",
      "Epoch 3/200\n",
      "176/176 [==============================] - 9s 52ms/step - loss: 0.8890 - accuracy: 0.7548 - recall: 0.7311 - precision: 0.7815 - val_loss: 1.9672 - val_accuracy: 0.7026 - val_recall: 0.6983 - val_precision: 0.7063\n",
      "Epoch 4/200\n",
      "176/176 [==============================] - 9s 51ms/step - loss: 0.6056 - accuracy: 0.8318 - recall: 0.8128 - precision: 0.8480 - val_loss: 5.1743 - val_accuracy: 0.4158 - val_recall: 0.4158 - val_precision: 0.4158\n",
      "Epoch 5/200\n",
      "176/176 [==============================] - 9s 51ms/step - loss: 0.4830 - accuracy: 0.8636 - recall: 0.8527 - precision: 0.8766 - val_loss: 1.6086 - val_accuracy: 0.6805 - val_recall: 0.6698 - val_precision: 0.6981\n",
      "Epoch 6/200\n",
      "176/176 [==============================] - 9s 51ms/step - loss: 0.3691 - accuracy: 0.9010 - recall: 0.8948 - precision: 0.9117 - val_loss: 4.1691 - val_accuracy: 0.6854 - val_recall: 0.6854 - val_precision: 0.6869\n",
      "Epoch 7/200\n",
      "176/176 [==============================] - 9s 51ms/step - loss: 0.2925 - accuracy: 0.9223 - recall: 0.9192 - precision: 0.9277 - val_loss: 2.1001 - val_accuracy: 0.7097 - val_recall: 0.7054 - val_precision: 0.7146\n",
      "Epoch 8/200\n",
      "176/176 [==============================] - 9s 51ms/step - loss: 0.2696 - accuracy: 0.9313 - recall: 0.9287 - precision: 0.9343 - val_loss: 4.3381 - val_accuracy: 0.3973 - val_recall: 0.3944 - val_precision: 0.4031\n",
      "Epoch 9/200\n",
      "176/176 [==============================] - 9s 51ms/step - loss: 0.2088 - accuracy: 0.9420 - recall: 0.9383 - precision: 0.9450 - val_loss: 2.4163 - val_accuracy: 0.5770 - val_recall: 0.5678 - val_precision: 0.5875\n",
      "Epoch 10/200\n",
      "176/176 [==============================] - 9s 51ms/step - loss: 0.2519 - accuracy: 0.9369 - recall: 0.9342 - precision: 0.9392 - val_loss: 2.3661 - val_accuracy: 0.6812 - val_recall: 0.6740 - val_precision: 0.6838\n",
      "Epoch 11/200\n",
      "176/176 [==============================] - 9s 51ms/step - loss: 0.1741 - accuracy: 0.9524 - recall: 0.9506 - precision: 0.9549 - val_loss: 2.9902 - val_accuracy: 0.6961 - val_recall: 0.6940 - val_precision: 0.6980\n",
      "Epoch 12/200\n",
      "176/176 [==============================] - 9s 51ms/step - loss: 0.1526 - accuracy: 0.9604 - recall: 0.9593 - precision: 0.9621 - val_loss: 2.7922 - val_accuracy: 0.5706 - val_recall: 0.5592 - val_precision: 0.5803\n",
      "Epoch 13/200\n",
      "176/176 [==============================] - 9s 51ms/step - loss: 0.2814 - accuracy: 0.9353 - recall: 0.9333 - precision: 0.9378 - val_loss: 3.0024 - val_accuracy: 0.6940 - val_recall: 0.6919 - val_precision: 0.6978\n",
      "Epoch 14/200\n",
      "176/176 [==============================] - 9s 51ms/step - loss: 0.1210 - accuracy: 0.9672 - recall: 0.9670 - precision: 0.9689 - val_loss: 2.3012 - val_accuracy: 0.6562 - val_recall: 0.6505 - val_precision: 0.6657\n",
      "Epoch 15/200\n",
      "176/176 [==============================] - 9s 51ms/step - loss: 0.1158 - accuracy: 0.9690 - recall: 0.9683 - precision: 0.9696 - val_loss: 2.2161 - val_accuracy: 0.6883 - val_recall: 0.6840 - val_precision: 0.6939\n",
      "Epoch 16/200\n",
      "176/176 [==============================] - 10s 58ms/step - loss: 0.1616 - accuracy: 0.9554 - recall: 0.9549 - precision: 0.9573 - val_loss: 2.6672 - val_accuracy: 0.6598 - val_recall: 0.6541 - val_precision: 0.6655\n",
      "Epoch 17/200\n",
      "176/176 [==============================] - 9s 51ms/step - loss: 0.1542 - accuracy: 0.9590 - recall: 0.9586 - precision: 0.9602 - val_loss: 3.6411 - val_accuracy: 0.7111 - val_recall: 0.7083 - val_precision: 0.7149\n",
      "Epoch 18/200\n",
      "176/176 [==============================] - 10s 58ms/step - loss: 0.1286 - accuracy: 0.9636 - recall: 0.9629 - precision: 0.9651 - val_loss: 4.0065 - val_accuracy: 0.7076 - val_recall: 0.7068 - val_precision: 0.7099\n",
      "Epoch 19/200\n",
      "176/176 [==============================] - 9s 51ms/step - loss: 0.2032 - accuracy: 0.9531 - recall: 0.9529 - precision: 0.9539 - val_loss: 4.0619 - val_accuracy: 0.7033 - val_recall: 0.7019 - val_precision: 0.7039\n",
      "Epoch 20/200\n",
      "176/176 [==============================] - 9s 51ms/step - loss: 0.1297 - accuracy: 0.9670 - recall: 0.9665 - precision: 0.9675 - val_loss: 3.0042 - val_accuracy: 0.6348 - val_recall: 0.6312 - val_precision: 0.6367\n",
      "Epoch 21/200\n",
      "176/176 [==============================] - 10s 58ms/step - loss: 0.0881 - accuracy: 0.9775 - recall: 0.9772 - precision: 0.9786 - val_loss: 3.0397 - val_accuracy: 0.6755 - val_recall: 0.6755 - val_precision: 0.6808\n",
      "Epoch 22/200\n",
      "176/176 [==============================] - 9s 51ms/step - loss: 0.0803 - accuracy: 0.9791 - recall: 0.9786 - precision: 0.9804 - val_loss: 3.6399 - val_accuracy: 0.7054 - val_recall: 0.7033 - val_precision: 0.7088\n",
      "Epoch 23/200\n",
      "176/176 [==============================] - 9s 51ms/step - loss: 0.0790 - accuracy: 0.9797 - recall: 0.9793 - precision: 0.9802 - val_loss: 3.3319 - val_accuracy: 0.6933 - val_recall: 0.6933 - val_precision: 0.6958\n",
      "Epoch 24/200\n",
      "176/176 [==============================] - 9s 51ms/step - loss: 0.1547 - accuracy: 0.9667 - recall: 0.9661 - precision: 0.9677 - val_loss: 3.5971 - val_accuracy: 0.6655 - val_recall: 0.6641 - val_precision: 0.6693\n",
      "Epoch 25/200\n",
      "176/176 [==============================] - 9s 51ms/step - loss: 0.1576 - accuracy: 0.9674 - recall: 0.9674 - precision: 0.9681 - val_loss: 4.3461 - val_accuracy: 0.5271 - val_recall: 0.5207 - val_precision: 0.5309\n",
      "Epoch 26/200\n",
      "176/176 [==============================] - 9s 51ms/step - loss: 0.0714 - accuracy: 0.9820 - recall: 0.9816 - precision: 0.9822 - val_loss: 3.3709 - val_accuracy: 0.7218 - val_recall: 0.7204 - val_precision: 0.7251\n",
      "Epoch 27/200\n",
      "176/176 [==============================] - 9s 51ms/step - loss: 0.0734 - accuracy: 0.9813 - recall: 0.9809 - precision: 0.9821 - val_loss: 3.7841 - val_accuracy: 0.6847 - val_recall: 0.6840 - val_precision: 0.6870\n",
      "Epoch 28/200\n",
      "176/176 [==============================] - 9s 51ms/step - loss: 0.0925 - accuracy: 0.9777 - recall: 0.9774 - precision: 0.9781 - val_loss: 3.6359 - val_accuracy: 0.7047 - val_recall: 0.7026 - val_precision: 0.7076\n",
      "Epoch 29/200\n",
      "176/176 [==============================] - 9s 51ms/step - loss: 0.0681 - accuracy: 0.9827 - recall: 0.9825 - precision: 0.9836 - val_loss: 3.5312 - val_accuracy: 0.7054 - val_recall: 0.7040 - val_precision: 0.7080\n",
      "Epoch 30/200\n",
      "176/176 [==============================] - 9s 51ms/step - loss: 0.0614 - accuracy: 0.9827 - recall: 0.9825 - precision: 0.9831 - val_loss: 3.7377 - val_accuracy: 0.6869 - val_recall: 0.6862 - val_precision: 0.6911\n",
      "Epoch 31/200\n",
      "176/176 [==============================] - 9s 51ms/step - loss: 0.0892 - accuracy: 0.9788 - recall: 0.9786 - precision: 0.9791 - val_loss: 3.7845 - val_accuracy: 0.6783 - val_recall: 0.6755 - val_precision: 0.6798\n",
      "Epoch 32/200\n",
      "176/176 [==============================] - 9s 51ms/step - loss: 0.0785 - accuracy: 0.9827 - recall: 0.9825 - precision: 0.9831 - val_loss: 4.2328 - val_accuracy: 0.7104 - val_recall: 0.7083 - val_precision: 0.7154\n",
      "Epoch 33/200\n",
      "176/176 [==============================] - 9s 51ms/step - loss: 0.1221 - accuracy: 0.9752 - recall: 0.9750 - precision: 0.9757 - val_loss: 4.4246 - val_accuracy: 0.7104 - val_recall: 0.7097 - val_precision: 0.7128\n",
      "Epoch 34/200\n",
      "176/176 [==============================] - 9s 51ms/step - loss: 0.1003 - accuracy: 0.9747 - recall: 0.9741 - precision: 0.9761 - val_loss: 4.0282 - val_accuracy: 0.7097 - val_recall: 0.7068 - val_precision: 0.7114\n",
      "Epoch 35/200\n",
      "176/176 [==============================] - 9s 51ms/step - loss: 0.0413 - accuracy: 0.9889 - recall: 0.9888 - precision: 0.9889 - val_loss: 4.6875 - val_accuracy: 0.7175 - val_recall: 0.7161 - val_precision: 0.7177\n",
      "Epoch 36/200\n",
      "176/176 [==============================] - 11s 60ms/step - loss: 0.0342 - accuracy: 0.9913 - recall: 0.9911 - precision: 0.9914 - val_loss: 3.9206 - val_accuracy: 0.7061 - val_recall: 0.7047 - val_precision: 0.7088\n",
      "Epoch 37/200\n",
      "176/176 [==============================] - 9s 51ms/step - loss: 0.0471 - accuracy: 0.9904 - recall: 0.9902 - precision: 0.9904 - val_loss: 4.8738 - val_accuracy: 0.7040 - val_recall: 0.7040 - val_precision: 0.7050\n",
      "Epoch 38/200\n",
      "176/176 [==============================] - 10s 58ms/step - loss: 0.0994 - accuracy: 0.9790 - recall: 0.9786 - precision: 0.9790 - val_loss: 4.8337 - val_accuracy: 0.7225 - val_recall: 0.7225 - val_precision: 0.7231\n",
      "Epoch 39/200\n",
      "176/176 [==============================] - 9s 51ms/step - loss: 0.0954 - accuracy: 0.9788 - recall: 0.9779 - precision: 0.9791 - val_loss: 4.2222 - val_accuracy: 0.7061 - val_recall: 0.7061 - val_precision: 0.7082\n",
      "Epoch 40/200\n",
      "176/176 [==============================] - 9s 51ms/step - loss: 0.1552 - accuracy: 0.9745 - recall: 0.9741 - precision: 0.9745 - val_loss: 5.6700 - val_accuracy: 0.7126 - val_recall: 0.7126 - val_precision: 0.7156\n",
      "Epoch 41/200\n",
      "176/176 [==============================] - 9s 51ms/step - loss: 0.0677 - accuracy: 0.9840 - recall: 0.9836 - precision: 0.9841 - val_loss: 4.5729 - val_accuracy: 0.7076 - val_recall: 0.7076 - val_precision: 0.7106\n",
      "Epoch 42/200\n",
      "176/176 [==============================] - 9s 51ms/step - loss: 0.0594 - accuracy: 0.9856 - recall: 0.9856 - precision: 0.9861 - val_loss: 5.1184 - val_accuracy: 0.6890 - val_recall: 0.6883 - val_precision: 0.6903\n",
      "Epoch 43/200\n",
      "176/176 [==============================] - 9s 51ms/step - loss: 0.0591 - accuracy: 0.9898 - recall: 0.9893 - precision: 0.9898 - val_loss: 4.5413 - val_accuracy: 0.6840 - val_recall: 0.6826 - val_precision: 0.6860\n",
      "Epoch 44/200\n",
      "176/176 [==============================] - 9s 51ms/step - loss: 0.0644 - accuracy: 0.9848 - recall: 0.9848 - precision: 0.9850 - val_loss: 5.4659 - val_accuracy: 0.6298 - val_recall: 0.6284 - val_precision: 0.6306\n",
      "Epoch 45/200\n",
      "176/176 [==============================] - 9s 51ms/step - loss: 0.0542 - accuracy: 0.9881 - recall: 0.9877 - precision: 0.9882 - val_loss: 4.9249 - val_accuracy: 0.7019 - val_recall: 0.6997 - val_precision: 0.7022\n",
      "Epoch 46/200\n",
      "176/176 [==============================] - 9s 51ms/step - loss: 0.0507 - accuracy: 0.9889 - recall: 0.9889 - precision: 0.9891 - val_loss: 4.8684 - val_accuracy: 0.7097 - val_recall: 0.7097 - val_precision: 0.7122\n",
      "Epoch 47/200\n",
      "176/176 [==============================] - 9s 51ms/step - loss: 0.0575 - accuracy: 0.9866 - recall: 0.9863 - precision: 0.9868 - val_loss: 4.7754 - val_accuracy: 0.7019 - val_recall: 0.7019 - val_precision: 0.7034\n",
      "Epoch 48/200\n",
      "176/176 [==============================] - 9s 51ms/step - loss: 0.0557 - accuracy: 0.9879 - recall: 0.9877 - precision: 0.9879 - val_loss: 4.8916 - val_accuracy: 0.6904 - val_recall: 0.6890 - val_precision: 0.6915\n",
      "Epoch 49/200\n",
      "176/176 [==============================] - 9s 51ms/step - loss: 0.0354 - accuracy: 0.9905 - recall: 0.9904 - precision: 0.9905 - val_loss: 6.2019 - val_accuracy: 0.6983 - val_recall: 0.6976 - val_precision: 0.6991\n",
      "Epoch 50/200\n",
      "176/176 [==============================] - 9s 51ms/step - loss: 0.1362 - accuracy: 0.9733 - recall: 0.9731 - precision: 0.9732 - val_loss: 5.2257 - val_accuracy: 0.6455 - val_recall: 0.6455 - val_precision: 0.6478\n",
      "Epoch 51/200\n",
      "176/176 [==============================] - 10s 58ms/step - loss: 0.0456 - accuracy: 0.9879 - recall: 0.9879 - precision: 0.9881 - val_loss: 4.3837 - val_accuracy: 0.6698 - val_recall: 0.6683 - val_precision: 0.6712\n",
      "Epoch 52/200\n",
      "176/176 [==============================] - 9s 53ms/step - loss: 0.0177 - accuracy: 0.9945 - recall: 0.9945 - precision: 0.9945 - val_loss: 4.9575 - val_accuracy: 0.6862 - val_recall: 0.6854 - val_precision: 0.6879\n",
      "Epoch 53/200\n",
      "176/176 [==============================] - 9s 51ms/step - loss: 0.0236 - accuracy: 0.9932 - recall: 0.9932 - precision: 0.9932 - val_loss: 5.4217 - val_accuracy: 0.6833 - val_recall: 0.6826 - val_precision: 0.6841\n",
      "Epoch 54/200\n",
      "176/176 [==============================] - 9s 51ms/step - loss: 0.0722 - accuracy: 0.9872 - recall: 0.9868 - precision: 0.9872 - val_loss: 5.5324 - val_accuracy: 0.6997 - val_recall: 0.6976 - val_precision: 0.7011\n",
      "Epoch 55/200\n",
      "176/176 [==============================] - 9s 52ms/step - loss: 0.0389 - accuracy: 0.9907 - recall: 0.9907 - precision: 0.9909 - val_loss: 5.3733 - val_accuracy: 0.6954 - val_recall: 0.6954 - val_precision: 0.6969\n",
      "Epoch 56/200\n",
      "176/176 [==============================] - 9s 51ms/step - loss: 0.1105 - accuracy: 0.9823 - recall: 0.9823 - precision: 0.9825 - val_loss: 5.3140 - val_accuracy: 0.6990 - val_recall: 0.6990 - val_precision: 0.6990\n",
      "Epoch 57/200\n",
      "176/176 [==============================] - 9s 51ms/step - loss: 0.0833 - accuracy: 0.9841 - recall: 0.9841 - precision: 0.9841 - val_loss: 5.3308 - val_accuracy: 0.7083 - val_recall: 0.7076 - val_precision: 0.7106\n",
      "Epoch 58/200\n",
      "176/176 [==============================] - 9s 51ms/step - loss: 0.0562 - accuracy: 0.9873 - recall: 0.9873 - precision: 0.9875 - val_loss: 5.5466 - val_accuracy: 0.6726 - val_recall: 0.6712 - val_precision: 0.6741\n",
      "Epoch 59/200\n",
      "176/176 [==============================] - 9s 51ms/step - loss: 0.0174 - accuracy: 0.9948 - recall: 0.9948 - precision: 0.9950 - val_loss: 5.5855 - val_accuracy: 0.6969 - val_recall: 0.6961 - val_precision: 0.6976\n",
      "Epoch 60/200\n",
      "176/176 [==============================] - 9s 51ms/step - loss: 0.0267 - accuracy: 0.9941 - recall: 0.9941 - precision: 0.9941 - val_loss: 5.5688 - val_accuracy: 0.6883 - val_recall: 0.6876 - val_precision: 0.6891\n",
      "Epoch 61/200\n",
      "176/176 [==============================] - 9s 51ms/step - loss: 0.0344 - accuracy: 0.9914 - recall: 0.9914 - precision: 0.9914 - val_loss: 6.1724 - val_accuracy: 0.6755 - val_recall: 0.6748 - val_precision: 0.6762\n",
      "Epoch 62/200\n",
      "176/176 [==============================] - 9s 51ms/step - loss: 0.0541 - accuracy: 0.9875 - recall: 0.9873 - precision: 0.9875 - val_loss: 7.2717 - val_accuracy: 0.7047 - val_recall: 0.7033 - val_precision: 0.7053\n",
      "Epoch 63/200\n",
      "174/176 [============================>.] - ETA: 0s - loss: 0.0931 - accuracy: 0.9847 - recall: 0.9847 - precision: 0.9847"
     ]
    },
    {
     "ename": "KeyboardInterrupt",
     "evalue": "ignored",
     "output_type": "error",
     "traceback": [
      "\u001b[0;31m---------------------------------------------------------------------------\u001b[0m",
      "\u001b[0;31mKeyboardInterrupt\u001b[0m                         Traceback (most recent call last)",
      "\u001b[0;32m<ipython-input-90-b7e7113e6270>\u001b[0m in \u001b[0;36m<module>\u001b[0;34m()\u001b[0m\n\u001b[1;32m      6\u001b[0m                     \u001b[0mvalidation_split\u001b[0m \u001b[0;34m=\u001b[0m \u001b[0;36m0.2\u001b[0m\u001b[0;34m,\u001b[0m\u001b[0;34m\u001b[0m\u001b[0;34m\u001b[0m\u001b[0m\n\u001b[1;32m      7\u001b[0m                     \u001b[0mcallbacks\u001b[0m \u001b[0;34m=\u001b[0m \u001b[0;34m[\u001b[0m\u001b[0mes\u001b[0m\u001b[0;34m]\u001b[0m\u001b[0;34m,\u001b[0m\u001b[0;34m\u001b[0m\u001b[0;34m\u001b[0m\u001b[0m\n\u001b[0;32m----> 8\u001b[0;31m                     epochs = 200)\n\u001b[0m",
      "\u001b[0;32m/usr/local/lib/python3.7/dist-packages/keras/utils/traceback_utils.py\u001b[0m in \u001b[0;36merror_handler\u001b[0;34m(*args, **kwargs)\u001b[0m\n\u001b[1;32m     62\u001b[0m     \u001b[0mfiltered_tb\u001b[0m \u001b[0;34m=\u001b[0m \u001b[0;32mNone\u001b[0m\u001b[0;34m\u001b[0m\u001b[0;34m\u001b[0m\u001b[0m\n\u001b[1;32m     63\u001b[0m     \u001b[0;32mtry\u001b[0m\u001b[0;34m:\u001b[0m\u001b[0;34m\u001b[0m\u001b[0;34m\u001b[0m\u001b[0m\n\u001b[0;32m---> 64\u001b[0;31m       \u001b[0;32mreturn\u001b[0m \u001b[0mfn\u001b[0m\u001b[0;34m(\u001b[0m\u001b[0;34m*\u001b[0m\u001b[0margs\u001b[0m\u001b[0;34m,\u001b[0m \u001b[0;34m**\u001b[0m\u001b[0mkwargs\u001b[0m\u001b[0;34m)\u001b[0m\u001b[0;34m\u001b[0m\u001b[0;34m\u001b[0m\u001b[0m\n\u001b[0m\u001b[1;32m     65\u001b[0m     \u001b[0;32mexcept\u001b[0m \u001b[0mException\u001b[0m \u001b[0;32mas\u001b[0m \u001b[0me\u001b[0m\u001b[0;34m:\u001b[0m  \u001b[0;31m# pylint: disable=broad-except\u001b[0m\u001b[0;34m\u001b[0m\u001b[0;34m\u001b[0m\u001b[0m\n\u001b[1;32m     66\u001b[0m       \u001b[0mfiltered_tb\u001b[0m \u001b[0;34m=\u001b[0m \u001b[0m_process_traceback_frames\u001b[0m\u001b[0;34m(\u001b[0m\u001b[0me\u001b[0m\u001b[0;34m.\u001b[0m\u001b[0m__traceback__\u001b[0m\u001b[0;34m)\u001b[0m\u001b[0;34m\u001b[0m\u001b[0;34m\u001b[0m\u001b[0m\n",
      "\u001b[0;32m/usr/local/lib/python3.7/dist-packages/keras/engine/training.py\u001b[0m in \u001b[0;36mfit\u001b[0;34m(self, x, y, batch_size, epochs, verbose, callbacks, validation_split, validation_data, shuffle, class_weight, sample_weight, initial_epoch, steps_per_epoch, validation_steps, validation_batch_size, validation_freq, max_queue_size, workers, use_multiprocessing)\u001b[0m\n\u001b[1;32m   1382\u001b[0m                 _r=1):\n\u001b[1;32m   1383\u001b[0m               \u001b[0mcallbacks\u001b[0m\u001b[0;34m.\u001b[0m\u001b[0mon_train_batch_begin\u001b[0m\u001b[0;34m(\u001b[0m\u001b[0mstep\u001b[0m\u001b[0;34m)\u001b[0m\u001b[0;34m\u001b[0m\u001b[0;34m\u001b[0m\u001b[0m\n\u001b[0;32m-> 1384\u001b[0;31m               \u001b[0mtmp_logs\u001b[0m \u001b[0;34m=\u001b[0m \u001b[0mself\u001b[0m\u001b[0;34m.\u001b[0m\u001b[0mtrain_function\u001b[0m\u001b[0;34m(\u001b[0m\u001b[0miterator\u001b[0m\u001b[0;34m)\u001b[0m\u001b[0;34m\u001b[0m\u001b[0;34m\u001b[0m\u001b[0m\n\u001b[0m\u001b[1;32m   1385\u001b[0m               \u001b[0;32mif\u001b[0m \u001b[0mdata_handler\u001b[0m\u001b[0;34m.\u001b[0m\u001b[0mshould_sync\u001b[0m\u001b[0;34m:\u001b[0m\u001b[0;34m\u001b[0m\u001b[0;34m\u001b[0m\u001b[0m\n\u001b[1;32m   1386\u001b[0m                 \u001b[0mcontext\u001b[0m\u001b[0;34m.\u001b[0m\u001b[0masync_wait\u001b[0m\u001b[0;34m(\u001b[0m\u001b[0;34m)\u001b[0m\u001b[0;34m\u001b[0m\u001b[0;34m\u001b[0m\u001b[0m\n",
      "\u001b[0;32m/usr/local/lib/python3.7/dist-packages/tensorflow/python/util/traceback_utils.py\u001b[0m in \u001b[0;36merror_handler\u001b[0;34m(*args, **kwargs)\u001b[0m\n\u001b[1;32m    148\u001b[0m     \u001b[0mfiltered_tb\u001b[0m \u001b[0;34m=\u001b[0m \u001b[0;32mNone\u001b[0m\u001b[0;34m\u001b[0m\u001b[0;34m\u001b[0m\u001b[0m\n\u001b[1;32m    149\u001b[0m     \u001b[0;32mtry\u001b[0m\u001b[0;34m:\u001b[0m\u001b[0;34m\u001b[0m\u001b[0;34m\u001b[0m\u001b[0m\n\u001b[0;32m--> 150\u001b[0;31m       \u001b[0;32mreturn\u001b[0m \u001b[0mfn\u001b[0m\u001b[0;34m(\u001b[0m\u001b[0;34m*\u001b[0m\u001b[0margs\u001b[0m\u001b[0;34m,\u001b[0m \u001b[0;34m**\u001b[0m\u001b[0mkwargs\u001b[0m\u001b[0;34m)\u001b[0m\u001b[0;34m\u001b[0m\u001b[0;34m\u001b[0m\u001b[0m\n\u001b[0m\u001b[1;32m    151\u001b[0m     \u001b[0;32mexcept\u001b[0m \u001b[0mException\u001b[0m \u001b[0;32mas\u001b[0m \u001b[0me\u001b[0m\u001b[0;34m:\u001b[0m\u001b[0;34m\u001b[0m\u001b[0;34m\u001b[0m\u001b[0m\n\u001b[1;32m    152\u001b[0m       \u001b[0mfiltered_tb\u001b[0m \u001b[0;34m=\u001b[0m \u001b[0m_process_traceback_frames\u001b[0m\u001b[0;34m(\u001b[0m\u001b[0me\u001b[0m\u001b[0;34m.\u001b[0m\u001b[0m__traceback__\u001b[0m\u001b[0;34m)\u001b[0m\u001b[0;34m\u001b[0m\u001b[0;34m\u001b[0m\u001b[0m\n",
      "\u001b[0;32m/usr/local/lib/python3.7/dist-packages/tensorflow/python/eager/def_function.py\u001b[0m in \u001b[0;36m__call__\u001b[0;34m(self, *args, **kwds)\u001b[0m\n\u001b[1;32m    913\u001b[0m \u001b[0;34m\u001b[0m\u001b[0m\n\u001b[1;32m    914\u001b[0m       \u001b[0;32mwith\u001b[0m \u001b[0mOptionalXlaContext\u001b[0m\u001b[0;34m(\u001b[0m\u001b[0mself\u001b[0m\u001b[0;34m.\u001b[0m\u001b[0m_jit_compile\u001b[0m\u001b[0;34m)\u001b[0m\u001b[0;34m:\u001b[0m\u001b[0;34m\u001b[0m\u001b[0;34m\u001b[0m\u001b[0m\n\u001b[0;32m--> 915\u001b[0;31m         \u001b[0mresult\u001b[0m \u001b[0;34m=\u001b[0m \u001b[0mself\u001b[0m\u001b[0;34m.\u001b[0m\u001b[0m_call\u001b[0m\u001b[0;34m(\u001b[0m\u001b[0;34m*\u001b[0m\u001b[0margs\u001b[0m\u001b[0;34m,\u001b[0m \u001b[0;34m**\u001b[0m\u001b[0mkwds\u001b[0m\u001b[0;34m)\u001b[0m\u001b[0;34m\u001b[0m\u001b[0;34m\u001b[0m\u001b[0m\n\u001b[0m\u001b[1;32m    916\u001b[0m \u001b[0;34m\u001b[0m\u001b[0m\n\u001b[1;32m    917\u001b[0m       \u001b[0mnew_tracing_count\u001b[0m \u001b[0;34m=\u001b[0m \u001b[0mself\u001b[0m\u001b[0;34m.\u001b[0m\u001b[0mexperimental_get_tracing_count\u001b[0m\u001b[0;34m(\u001b[0m\u001b[0;34m)\u001b[0m\u001b[0;34m\u001b[0m\u001b[0;34m\u001b[0m\u001b[0m\n",
      "\u001b[0;32m/usr/local/lib/python3.7/dist-packages/tensorflow/python/eager/def_function.py\u001b[0m in \u001b[0;36m_call\u001b[0;34m(self, *args, **kwds)\u001b[0m\n\u001b[1;32m    945\u001b[0m       \u001b[0;31m# In this case we have created variables on the first call, so we run the\u001b[0m\u001b[0;34m\u001b[0m\u001b[0;34m\u001b[0m\u001b[0;34m\u001b[0m\u001b[0m\n\u001b[1;32m    946\u001b[0m       \u001b[0;31m# defunned version which is guaranteed to never create variables.\u001b[0m\u001b[0;34m\u001b[0m\u001b[0;34m\u001b[0m\u001b[0;34m\u001b[0m\u001b[0m\n\u001b[0;32m--> 947\u001b[0;31m       \u001b[0;32mreturn\u001b[0m \u001b[0mself\u001b[0m\u001b[0;34m.\u001b[0m\u001b[0m_stateless_fn\u001b[0m\u001b[0;34m(\u001b[0m\u001b[0;34m*\u001b[0m\u001b[0margs\u001b[0m\u001b[0;34m,\u001b[0m \u001b[0;34m**\u001b[0m\u001b[0mkwds\u001b[0m\u001b[0;34m)\u001b[0m  \u001b[0;31m# pylint: disable=not-callable\u001b[0m\u001b[0;34m\u001b[0m\u001b[0;34m\u001b[0m\u001b[0m\n\u001b[0m\u001b[1;32m    948\u001b[0m     \u001b[0;32melif\u001b[0m \u001b[0mself\u001b[0m\u001b[0;34m.\u001b[0m\u001b[0m_stateful_fn\u001b[0m \u001b[0;32mis\u001b[0m \u001b[0;32mnot\u001b[0m \u001b[0;32mNone\u001b[0m\u001b[0;34m:\u001b[0m\u001b[0;34m\u001b[0m\u001b[0;34m\u001b[0m\u001b[0m\n\u001b[1;32m    949\u001b[0m       \u001b[0;31m# Release the lock early so that multiple threads can perform the call\u001b[0m\u001b[0;34m\u001b[0m\u001b[0;34m\u001b[0m\u001b[0;34m\u001b[0m\u001b[0m\n",
      "\u001b[0;32m/usr/local/lib/python3.7/dist-packages/tensorflow/python/eager/function.py\u001b[0m in \u001b[0;36m__call__\u001b[0;34m(self, *args, **kwargs)\u001b[0m\n\u001b[1;32m   2955\u001b[0m        filtered_flat_args) = self._maybe_define_function(args, kwargs)\n\u001b[1;32m   2956\u001b[0m     return graph_function._call_flat(\n\u001b[0;32m-> 2957\u001b[0;31m         filtered_flat_args, captured_inputs=graph_function.captured_inputs)  # pylint: disable=protected-access\n\u001b[0m\u001b[1;32m   2958\u001b[0m \u001b[0;34m\u001b[0m\u001b[0m\n\u001b[1;32m   2959\u001b[0m   \u001b[0;34m@\u001b[0m\u001b[0mproperty\u001b[0m\u001b[0;34m\u001b[0m\u001b[0;34m\u001b[0m\u001b[0m\n",
      "\u001b[0;32m/usr/local/lib/python3.7/dist-packages/tensorflow/python/eager/function.py\u001b[0m in \u001b[0;36m_call_flat\u001b[0;34m(self, args, captured_inputs, cancellation_manager)\u001b[0m\n\u001b[1;32m   1852\u001b[0m       \u001b[0;31m# No tape is watching; skip to running the function.\u001b[0m\u001b[0;34m\u001b[0m\u001b[0;34m\u001b[0m\u001b[0;34m\u001b[0m\u001b[0m\n\u001b[1;32m   1853\u001b[0m       return self._build_call_outputs(self._inference_function.call(\n\u001b[0;32m-> 1854\u001b[0;31m           ctx, args, cancellation_manager=cancellation_manager))\n\u001b[0m\u001b[1;32m   1855\u001b[0m     forward_backward = self._select_forward_and_backward_functions(\n\u001b[1;32m   1856\u001b[0m         \u001b[0margs\u001b[0m\u001b[0;34m,\u001b[0m\u001b[0;34m\u001b[0m\u001b[0;34m\u001b[0m\u001b[0m\n",
      "\u001b[0;32m/usr/local/lib/python3.7/dist-packages/tensorflow/python/eager/function.py\u001b[0m in \u001b[0;36mcall\u001b[0;34m(self, ctx, args, cancellation_manager)\u001b[0m\n\u001b[1;32m    502\u001b[0m               \u001b[0minputs\u001b[0m\u001b[0;34m=\u001b[0m\u001b[0margs\u001b[0m\u001b[0;34m,\u001b[0m\u001b[0;34m\u001b[0m\u001b[0;34m\u001b[0m\u001b[0m\n\u001b[1;32m    503\u001b[0m               \u001b[0mattrs\u001b[0m\u001b[0;34m=\u001b[0m\u001b[0mattrs\u001b[0m\u001b[0;34m,\u001b[0m\u001b[0;34m\u001b[0m\u001b[0;34m\u001b[0m\u001b[0m\n\u001b[0;32m--> 504\u001b[0;31m               ctx=ctx)\n\u001b[0m\u001b[1;32m    505\u001b[0m         \u001b[0;32melse\u001b[0m\u001b[0;34m:\u001b[0m\u001b[0;34m\u001b[0m\u001b[0;34m\u001b[0m\u001b[0m\n\u001b[1;32m    506\u001b[0m           outputs = execute.execute_with_cancellation(\n",
      "\u001b[0;32m/usr/local/lib/python3.7/dist-packages/tensorflow/python/eager/execute.py\u001b[0m in \u001b[0;36mquick_execute\u001b[0;34m(op_name, num_outputs, inputs, attrs, ctx, name)\u001b[0m\n\u001b[1;32m     53\u001b[0m     \u001b[0mctx\u001b[0m\u001b[0;34m.\u001b[0m\u001b[0mensure_initialized\u001b[0m\u001b[0;34m(\u001b[0m\u001b[0;34m)\u001b[0m\u001b[0;34m\u001b[0m\u001b[0;34m\u001b[0m\u001b[0m\n\u001b[1;32m     54\u001b[0m     tensors = pywrap_tfe.TFE_Py_Execute(ctx._handle, device_name, op_name,\n\u001b[0;32m---> 55\u001b[0;31m                                         inputs, attrs, num_outputs)\n\u001b[0m\u001b[1;32m     56\u001b[0m   \u001b[0;32mexcept\u001b[0m \u001b[0mcore\u001b[0m\u001b[0;34m.\u001b[0m\u001b[0m_NotOkStatusException\u001b[0m \u001b[0;32mas\u001b[0m \u001b[0me\u001b[0m\u001b[0;34m:\u001b[0m\u001b[0;34m\u001b[0m\u001b[0;34m\u001b[0m\u001b[0m\n\u001b[1;32m     57\u001b[0m     \u001b[0;32mif\u001b[0m \u001b[0mname\u001b[0m \u001b[0;32mis\u001b[0m \u001b[0;32mnot\u001b[0m \u001b[0;32mNone\u001b[0m\u001b[0;34m:\u001b[0m\u001b[0;34m\u001b[0m\u001b[0;34m\u001b[0m\u001b[0m\n",
      "\u001b[0;31mKeyboardInterrupt\u001b[0m: "
     ]
    }
   ],
   "source": [
    "from tensorflow.keras.callbacks import EarlyStopping\n",
    "\n",
    "es = EarlyStopping(patience = 20, restore_best_weights = True)\n",
    "\n",
    "history = model.fit(X_train_stack, y_train, \n",
    "                    validation_split = 0.2,\n",
    "                    callbacks = [es], \n",
    "                    epochs = 200)"
   ]
  },
  {
   "cell_type": "code",
   "execution_count": null,
   "id": "XT6PPZqFFjc9",
   "metadata": {
    "colab": {
     "base_uri": "https://localhost:8080/"
    },
    "id": "XT6PPZqFFjc9",
    "outputId": "85011e6b-ebcb-4ebb-c295-32da3e239790"
   },
   "outputs": [
    {
     "name": "stdout",
     "output_type": "stream",
     "text": [
      "94/94 [==============================] - 4s 38ms/step - loss: 1.2469 - accuracy: 0.6935 - recall: 0.6516 - precision: 0.7436\n"
     ]
    },
    {
     "data": {
      "text/plain": [
       "[1.2469152212142944,\n",
       " 0.6935108304023743,\n",
       " 0.6515806913375854,\n",
       " 0.7436384558677673]"
      ]
     },
     "execution_count": 89,
     "metadata": {},
     "output_type": "execute_result"
    }
   ],
   "source": [
    "model.evaluate(X_test_stack,y_test)"
   ]
  },
  {
   "cell_type": "markdown",
   "id": "H-vwwp86ywev",
   "metadata": {
    "id": "H-vwwp86ywev"
   },
   "source": [
    "## Save Model"
   ]
  },
  {
   "cell_type": "code",
   "execution_count": null,
   "id": "0677ae6f",
   "metadata": {
    "colab": {
     "base_uri": "https://localhost:8080/"
    },
    "id": "0677ae6f",
    "outputId": "18421db8-f54c-45f0-a3af-c0799261b157"
   },
   "outputs": [
    {
     "name": "stdout",
     "output_type": "stream",
     "text": [
      "INFO:tensorflow:Assets written to: ram://99a701c7-1193-49d6-aa00-b387ec130405/assets\n"
     ]
    },
    {
     "data": {
      "text/plain": [
       "['/content/drive/My Drive/basis_with_aug_model.joblib']"
      ]
     },
     "execution_count": 51,
     "metadata": {},
     "output_type": "execute_result"
    }
   ],
   "source": [
    "# RENAME JOBLIB MODEL FILE!!!!\n",
    "\n",
    "import joblib\n",
    "joblib.dump(model, '/content/drive/My Drive/models/basis_with_aug_model.joblib')"
   ]
  },
  {
   "cell_type": "code",
   "execution_count": null,
   "id": "KDHjzVTpcOFw",
   "metadata": {
    "id": "KDHjzVTpcOFw"
   },
   "outputs": [],
   "source": [
    "joblib_model = joblib.load('/content/drive/My Drive/models/basis_with_aug_model.joblib')"
   ]
  },
  {
   "cell_type": "code",
   "execution_count": null,
   "id": "7hQ6fNWqcg6r",
   "metadata": {
    "colab": {
     "base_uri": "https://localhost:8080/"
    },
    "id": "7hQ6fNWqcg6r",
    "outputId": "fd34c25f-08b0-4608-a215-8a25eecf7959"
   },
   "outputs": [
    {
     "name": "stdout",
     "output_type": "stream",
     "text": [
      "94/94 [==============================] - 1s 6ms/step - loss: 0.6601 - accuracy: 0.7577 - recall: 0.7231 - precision: 0.8136\n"
     ]
    },
    {
     "data": {
      "text/plain": [
       "[0.6601415276527405, 0.7577371001243591, 0.7231281399726868, 0.813552975654602]"
      ]
     },
     "execution_count": 55,
     "metadata": {},
     "output_type": "execute_result"
    }
   ],
   "source": [
    "joblib_model.evaluate(X_test_stack, y_test)"
   ]
  },
  {
   "cell_type": "code",
   "execution_count": null,
   "id": "lrgz6efKcnTt",
   "metadata": {
    "id": "lrgz6efKcnTt"
   },
   "outputs": [],
   "source": []
  }
 ],
 "metadata": {
  "accelerator": "GPU",
  "colab": {
   "collapsed_sections": [],
   "name": "sdaun_base_model_training_v1.ipynb",
   "provenance": []
  },
  "kernelspec": {
   "display_name": "Python 3 (ipykernel)",
   "language": "python",
   "name": "python3"
  },
  "language_info": {
   "codemirror_mode": {
    "name": "ipython",
    "version": 3
   },
   "file_extension": ".py",
   "mimetype": "text/x-python",
   "name": "python",
   "nbconvert_exporter": "python",
   "pygments_lexer": "ipython3",
   "version": "3.8.13"
  },
  "toc": {
   "base_numbering": 1,
   "nav_menu": {},
   "number_sections": true,
   "sideBar": true,
   "skip_h1_title": false,
   "title_cell": "Table of Contents",
   "title_sidebar": "Contents",
   "toc_cell": false,
   "toc_position": {},
   "toc_section_display": true,
   "toc_window_display": false
  }
 },
 "nbformat": 4,
 "nbformat_minor": 5
}
