{
 "cells": [
  {
   "cell_type": "code",
   "execution_count": 1,
   "id": "c9d629a4",
   "metadata": {},
   "outputs": [],
   "source": [
    "import numpy as np\n",
    "import seaborn as sns\n",
    "import matplotlib.pyplot as plt\n",
    "import pandas as pd"
   ]
  },
  {
   "cell_type": "markdown",
   "id": "7059683d",
   "metadata": {},
   "source": [
    "# Data Describtion"
   ]
  },
  {
   "cell_type": "markdown",
   "id": "9356c2d8",
   "metadata": {},
   "source": [
    "## DX"
   ]
  },
  {
   "cell_type": "markdown",
   "id": "24ddf236",
   "metadata": {},
   "source": [
    "No Cancer:\n",
    "    \n",
    "bkl = benign keratosis-like lesions→ common noncancerous (benign) skin growth\n",
    "\n",
    "df = dermatofibroma → common noncancerous (benign) skin growths\n",
    "\n",
    "vasc = vascular lesions (angiomas, angiokeratomas, pyogenic granulomas and hemorrhage, vasc) → relatively common abnormalities of the skin and underlying tissues, more commonly known as birthmarks\n",
    "\n",
    "Cancer:\n",
    "    \n",
    "nv = melanocytic nevi → type of melanocytic tumor that contains nevus cells\n",
    "\n",
    "mel = melanoma → serious form of skin cancer that begins in cells known as melanocytes\n",
    "\n",
    "bcc =  basal cell carcinoma → a type of skin cancer\n",
    "\n",
    "akiec = Actinic keratoses and intraepithelial carcinoma / Bowen's disease → comprise the spectrum of premalignant and malignant keratinizing tumors"
   ]
  },
  {
   "cell_type": "markdown",
   "id": "c750ad08",
   "metadata": {
    "heading_collapsed": true
   },
   "source": [
    "## DX TYPE"
   ]
  },
  {
   "cell_type": "markdown",
   "id": "5f6662a1",
   "metadata": {
    "hidden": true
   },
   "source": [
    "→ confirmed through histopathology (histo)\n",
    "\n",
    "→ follow-up examination (followup)\n",
    "\n",
    "→ expert consensus (consensus)\n",
    "\n",
    "→ confirmation by in-vivo confocal microscopy (confocal)"
   ]
  },
  {
   "cell_type": "markdown",
   "id": "17b36c44",
   "metadata": {
    "heading_collapsed": true
   },
   "source": [
    "# Data Set"
   ]
  },
  {
   "cell_type": "code",
   "execution_count": 2,
   "id": "f669d93d",
   "metadata": {
    "hidden": true,
    "scrolled": true
   },
   "outputs": [
    {
     "data": {
      "text/html": [
       "<div>\n",
       "<style scoped>\n",
       "    .dataframe tbody tr th:only-of-type {\n",
       "        vertical-align: middle;\n",
       "    }\n",
       "\n",
       "    .dataframe tbody tr th {\n",
       "        vertical-align: top;\n",
       "    }\n",
       "\n",
       "    .dataframe thead th {\n",
       "        text-align: right;\n",
       "    }\n",
       "</style>\n",
       "<table border=\"1\" class=\"dataframe\">\n",
       "  <thead>\n",
       "    <tr style=\"text-align: right;\">\n",
       "      <th></th>\n",
       "      <th>lesion_id</th>\n",
       "      <th>image_id</th>\n",
       "      <th>dx</th>\n",
       "      <th>dx_type</th>\n",
       "      <th>age</th>\n",
       "      <th>sex</th>\n",
       "      <th>localization</th>\n",
       "    </tr>\n",
       "  </thead>\n",
       "  <tbody>\n",
       "    <tr>\n",
       "      <th>0</th>\n",
       "      <td>HAM_0000118</td>\n",
       "      <td>ISIC_0027419</td>\n",
       "      <td>bkl</td>\n",
       "      <td>histo</td>\n",
       "      <td>80.0</td>\n",
       "      <td>male</td>\n",
       "      <td>scalp</td>\n",
       "    </tr>\n",
       "    <tr>\n",
       "      <th>1</th>\n",
       "      <td>HAM_0000118</td>\n",
       "      <td>ISIC_0025030</td>\n",
       "      <td>bkl</td>\n",
       "      <td>histo</td>\n",
       "      <td>80.0</td>\n",
       "      <td>male</td>\n",
       "      <td>scalp</td>\n",
       "    </tr>\n",
       "  </tbody>\n",
       "</table>\n",
       "</div>"
      ],
      "text/plain": [
       "     lesion_id      image_id   dx dx_type   age   sex localization\n",
       "0  HAM_0000118  ISIC_0027419  bkl   histo  80.0  male        scalp\n",
       "1  HAM_0000118  ISIC_0025030  bkl   histo  80.0  male        scalp"
      ]
     },
     "execution_count": 2,
     "metadata": {},
     "output_type": "execute_result"
    }
   ],
   "source": [
    "data = pd.read_csv(\"../raw_data/HAM10000_metadata.csv\")\n",
    "data.head(2)"
   ]
  },
  {
   "cell_type": "markdown",
   "id": "77f71be4",
   "metadata": {
    "heading_collapsed": true,
    "hidden": true
   },
   "source": [
    "## Lesion ID"
   ]
  },
  {
   "cell_type": "code",
   "execution_count": 3,
   "id": "09564143",
   "metadata": {
    "hidden": true
   },
   "outputs": [
    {
     "data": {
      "text/plain": [
       "HAM_0003789    6\n",
       "HAM_0000835    6\n",
       "HAM_0005263    6\n",
       "HAM_0001863    6\n",
       "HAM_0007427    5\n",
       "              ..\n",
       "HAM_0006000    1\n",
       "HAM_0002762    1\n",
       "HAM_0006894    1\n",
       "HAM_0007132    1\n",
       "HAM_0003347    1\n",
       "Name: lesion_id, Length: 7470, dtype: int64"
      ]
     },
     "execution_count": 3,
     "metadata": {},
     "output_type": "execute_result"
    }
   ],
   "source": [
    "data['lesion_id'].value_counts()"
   ]
  },
  {
   "cell_type": "markdown",
   "id": "7b040b55",
   "metadata": {
    "heading_collapsed": true,
    "hidden": true
   },
   "source": [
    "### Lesion ID Distribution"
   ]
  },
  {
   "cell_type": "code",
   "execution_count": 4,
   "id": "7db85392",
   "metadata": {
    "hidden": true
   },
   "outputs": [],
   "source": [
    "x1 = data['lesion_id'].value_counts()==1"
   ]
  },
  {
   "cell_type": "code",
   "execution_count": 5,
   "id": "c6d0ee91",
   "metadata": {
    "hidden": true
   },
   "outputs": [],
   "source": [
    "x2 = data['lesion_id'].value_counts()==2"
   ]
  },
  {
   "cell_type": "code",
   "execution_count": 6,
   "id": "48738b7e",
   "metadata": {
    "hidden": true
   },
   "outputs": [],
   "source": [
    "x3 = data['lesion_id'].value_counts()==3"
   ]
  },
  {
   "cell_type": "code",
   "execution_count": 7,
   "id": "1a53edaa",
   "metadata": {
    "hidden": true
   },
   "outputs": [],
   "source": [
    "x4 = data['lesion_id'].value_counts()==4"
   ]
  },
  {
   "cell_type": "code",
   "execution_count": 8,
   "id": "10c68f03",
   "metadata": {
    "hidden": true
   },
   "outputs": [],
   "source": [
    "x5 = data['lesion_id'].value_counts()==5"
   ]
  },
  {
   "cell_type": "code",
   "execution_count": 9,
   "id": "907fa39b",
   "metadata": {
    "hidden": true
   },
   "outputs": [],
   "source": [
    "x6 = data['lesion_id'].value_counts()==6"
   ]
  },
  {
   "cell_type": "code",
   "execution_count": 10,
   "id": "9e908bfa",
   "metadata": {
    "hidden": true
   },
   "outputs": [],
   "source": [
    "dictio = {1:x1.sum(),2:x2.sum(),3:x3.sum(),4:x4.sum(),5:x5.sum(),6:x6.sum()}"
   ]
  },
  {
   "cell_type": "code",
   "execution_count": 11,
   "id": "dda5b558",
   "metadata": {
    "hidden": true
   },
   "outputs": [],
   "source": [
    "num = list(dictio.keys())\n",
    "values = list(dictio.values())"
   ]
  },
  {
   "cell_type": "code",
   "execution_count": 12,
   "id": "47fdd12d",
   "metadata": {
    "hidden": true
   },
   "outputs": [
    {
     "data": {
      "image/png": "[encoded data removed]",
      "text/plain": [
       "<Figure size 432x288 with 1 Axes>"
      ]
     },
     "metadata": {
      "needs_background": "light"
     },
     "output_type": "display_data"
    }
   ],
   "source": [
    "fig = plt.figure()\n",
    "ax = fig.add_axes([0,0,1,1])\n",
    "num\n",
    "values\n",
    "ax.bar(num,values)\n",
    "plt.show()"
   ]
  },
  {
   "cell_type": "markdown",
   "id": "806f08a1",
   "metadata": {
    "heading_collapsed": true,
    "hidden": true
   },
   "source": [
    "## dx Distribution"
   ]
  },
  {
   "cell_type": "code",
   "execution_count": 13,
   "id": "9a42efdf",
   "metadata": {
    "hidden": true
   },
   "outputs": [
    {
     "data": {
      "text/plain": [
       "nv       6705\n",
       "mel      1113\n",
       "bkl      1099\n",
       "bcc       514\n",
       "akiec     327\n",
       "vasc      142\n",
       "df        115\n",
       "Name: dx, dtype: int64"
      ]
     },
     "execution_count": 13,
     "metadata": {},
     "output_type": "execute_result"
    }
   ],
   "source": [
    "data['dx'].value_counts()"
   ]
  },
  {
   "cell_type": "code",
   "execution_count": 14,
   "id": "224d014a",
   "metadata": {
    "hidden": true
   },
   "outputs": [
    {
     "data": {
      "text/plain": [
       "count     10015\n",
       "unique        7\n",
       "top          nv\n",
       "freq       6705\n",
       "Name: dx, dtype: object"
      ]
     },
     "execution_count": 14,
     "metadata": {},
     "output_type": "execute_result"
    }
   ],
   "source": [
    "data['dx'].describe()"
   ]
  },
  {
   "cell_type": "markdown",
   "id": "f1055dbd",
   "metadata": {
    "heading_collapsed": true
   },
   "source": [
    "# Grouped Data Set"
   ]
  },
  {
   "cell_type": "code",
   "execution_count": 15,
   "id": "c5439708",
   "metadata": {
    "hidden": true
   },
   "outputs": [
    {
     "data": {
      "text/html": [
       "<div>\n",
       "<style scoped>\n",
       "    .dataframe tbody tr th:only-of-type {\n",
       "        vertical-align: middle;\n",
       "    }\n",
       "\n",
       "    .dataframe tbody tr th {\n",
       "        vertical-align: top;\n",
       "    }\n",
       "\n",
       "    .dataframe thead th {\n",
       "        text-align: right;\n",
       "    }\n",
       "</style>\n",
       "<table border=\"1\" class=\"dataframe\">\n",
       "  <thead>\n",
       "    <tr style=\"text-align: right;\">\n",
       "      <th></th>\n",
       "      <th>lesion_id</th>\n",
       "      <th>dx</th>\n",
       "    </tr>\n",
       "  </thead>\n",
       "  <tbody>\n",
       "    <tr>\n",
       "      <th>0</th>\n",
       "      <td>HAM_0000000</td>\n",
       "      <td>2</td>\n",
       "    </tr>\n",
       "    <tr>\n",
       "      <th>1</th>\n",
       "      <td>HAM_0000001</td>\n",
       "      <td>1</td>\n",
       "    </tr>\n",
       "    <tr>\n",
       "      <th>2</th>\n",
       "      <td>HAM_0000002</td>\n",
       "      <td>3</td>\n",
       "    </tr>\n",
       "    <tr>\n",
       "      <th>3</th>\n",
       "      <td>HAM_0000003</td>\n",
       "      <td>1</td>\n",
       "    </tr>\n",
       "    <tr>\n",
       "      <th>4</th>\n",
       "      <td>HAM_0000004</td>\n",
       "      <td>1</td>\n",
       "    </tr>\n",
       "    <tr>\n",
       "      <th>...</th>\n",
       "      <td>...</td>\n",
       "      <td>...</td>\n",
       "    </tr>\n",
       "    <tr>\n",
       "      <th>7465</th>\n",
       "      <td>HAM_0007624</td>\n",
       "      <td>1</td>\n",
       "    </tr>\n",
       "    <tr>\n",
       "      <th>7466</th>\n",
       "      <td>HAM_0007625</td>\n",
       "      <td>2</td>\n",
       "    </tr>\n",
       "    <tr>\n",
       "      <th>7467</th>\n",
       "      <td>HAM_0007626</td>\n",
       "      <td>1</td>\n",
       "    </tr>\n",
       "    <tr>\n",
       "      <th>7468</th>\n",
       "      <td>HAM_0007627</td>\n",
       "      <td>2</td>\n",
       "    </tr>\n",
       "    <tr>\n",
       "      <th>7469</th>\n",
       "      <td>HAM_0007628</td>\n",
       "      <td>1</td>\n",
       "    </tr>\n",
       "  </tbody>\n",
       "</table>\n",
       "<p>7470 rows × 2 columns</p>\n",
       "</div>"
      ],
      "text/plain": [
       "        lesion_id  dx\n",
       "0     HAM_0000000   2\n",
       "1     HAM_0000001   1\n",
       "2     HAM_0000002   3\n",
       "3     HAM_0000003   1\n",
       "4     HAM_0000004   1\n",
       "...           ...  ..\n",
       "7465  HAM_0007624   1\n",
       "7466  HAM_0007625   2\n",
       "7467  HAM_0007626   1\n",
       "7468  HAM_0007627   2\n",
       "7469  HAM_0007628   1\n",
       "\n",
       "[7470 rows x 2 columns]"
      ]
     },
     "execution_count": 15,
     "metadata": {},
     "output_type": "execute_result"
    }
   ],
   "source": [
    "data.groupby(by=data['lesion_id']).agg({'dx':'count'}).reset_index()"
   ]
  },
  {
   "cell_type": "code",
   "execution_count": 16,
   "id": "c115c4ac",
   "metadata": {
    "hidden": true
   },
   "outputs": [
    {
     "data": {
      "text/html": [
       "<div>\n",
       "<style scoped>\n",
       "    .dataframe tbody tr th:only-of-type {\n",
       "        vertical-align: middle;\n",
       "    }\n",
       "\n",
       "    .dataframe tbody tr th {\n",
       "        vertical-align: top;\n",
       "    }\n",
       "\n",
       "    .dataframe thead th {\n",
       "        text-align: right;\n",
       "    }\n",
       "</style>\n",
       "<table border=\"1\" class=\"dataframe\">\n",
       "  <thead>\n",
       "    <tr style=\"text-align: right;\">\n",
       "      <th></th>\n",
       "      <th>lesion_id</th>\n",
       "      <th>dx</th>\n",
       "    </tr>\n",
       "  </thead>\n",
       "  <tbody>\n",
       "    <tr>\n",
       "      <th>0</th>\n",
       "      <td>HAM_0000000</td>\n",
       "      <td>2</td>\n",
       "    </tr>\n",
       "    <tr>\n",
       "      <th>1</th>\n",
       "      <td>HAM_0000001</td>\n",
       "      <td>1</td>\n",
       "    </tr>\n",
       "    <tr>\n",
       "      <th>2</th>\n",
       "      <td>HAM_0000002</td>\n",
       "      <td>3</td>\n",
       "    </tr>\n",
       "    <tr>\n",
       "      <th>3</th>\n",
       "      <td>HAM_0000003</td>\n",
       "      <td>1</td>\n",
       "    </tr>\n",
       "    <tr>\n",
       "      <th>4</th>\n",
       "      <td>HAM_0000004</td>\n",
       "      <td>1</td>\n",
       "    </tr>\n",
       "    <tr>\n",
       "      <th>...</th>\n",
       "      <td>...</td>\n",
       "      <td>...</td>\n",
       "    </tr>\n",
       "    <tr>\n",
       "      <th>7465</th>\n",
       "      <td>HAM_0007624</td>\n",
       "      <td>1</td>\n",
       "    </tr>\n",
       "    <tr>\n",
       "      <th>7466</th>\n",
       "      <td>HAM_0007625</td>\n",
       "      <td>2</td>\n",
       "    </tr>\n",
       "    <tr>\n",
       "      <th>7467</th>\n",
       "      <td>HAM_0007626</td>\n",
       "      <td>1</td>\n",
       "    </tr>\n",
       "    <tr>\n",
       "      <th>7468</th>\n",
       "      <td>HAM_0007627</td>\n",
       "      <td>2</td>\n",
       "    </tr>\n",
       "    <tr>\n",
       "      <th>7469</th>\n",
       "      <td>HAM_0007628</td>\n",
       "      <td>1</td>\n",
       "    </tr>\n",
       "  </tbody>\n",
       "</table>\n",
       "<p>7470 rows × 2 columns</p>\n",
       "</div>"
      ],
      "text/plain": [
       "        lesion_id  dx\n",
       "0     HAM_0000000   2\n",
       "1     HAM_0000001   1\n",
       "2     HAM_0000002   3\n",
       "3     HAM_0000003   1\n",
       "4     HAM_0000004   1\n",
       "...           ...  ..\n",
       "7465  HAM_0007624   1\n",
       "7466  HAM_0007625   2\n",
       "7467  HAM_0007626   1\n",
       "7468  HAM_0007627   2\n",
       "7469  HAM_0007628   1\n",
       "\n",
       "[7470 rows x 2 columns]"
      ]
     },
     "execution_count": 16,
     "metadata": {},
     "output_type": "execute_result"
    }
   ],
   "source": [
    "data.groupby(by=data['lesion_id']).agg({'dx':'count'}).reset_index()"
   ]
  },
  {
   "cell_type": "code",
   "execution_count": 17,
   "id": "cccc97e0",
   "metadata": {
    "hidden": true
   },
   "outputs": [],
   "source": [
    "#data[data['lesion_id'].value_counts()==1]"
   ]
  },
  {
   "cell_type": "code",
   "execution_count": 18,
   "id": "fb1866c3",
   "metadata": {
    "hidden": true
   },
   "outputs": [],
   "source": [
    "counted_df=data.groupby(by=data['lesion_id']).count().reset_index()"
   ]
  },
  {
   "cell_type": "code",
   "execution_count": 19,
   "id": "98fa7754",
   "metadata": {
    "hidden": true
   },
   "outputs": [
    {
     "data": {
      "text/html": [
       "<div>\n",
       "<style scoped>\n",
       "    .dataframe tbody tr th:only-of-type {\n",
       "        vertical-align: middle;\n",
       "    }\n",
       "\n",
       "    .dataframe tbody tr th {\n",
       "        vertical-align: top;\n",
       "    }\n",
       "\n",
       "    .dataframe thead th {\n",
       "        text-align: right;\n",
       "    }\n",
       "</style>\n",
       "<table border=\"1\" class=\"dataframe\">\n",
       "  <thead>\n",
       "    <tr style=\"text-align: right;\">\n",
       "      <th></th>\n",
       "      <th>lesion_id</th>\n",
       "      <th>image_id</th>\n",
       "      <th>dx</th>\n",
       "      <th>dx_type</th>\n",
       "      <th>age</th>\n",
       "      <th>sex</th>\n",
       "      <th>localization</th>\n",
       "    </tr>\n",
       "  </thead>\n",
       "  <tbody>\n",
       "    <tr>\n",
       "      <th>0</th>\n",
       "      <td>HAM_0000000</td>\n",
       "      <td>2</td>\n",
       "      <td>2</td>\n",
       "      <td>2</td>\n",
       "      <td>2</td>\n",
       "      <td>2</td>\n",
       "      <td>2</td>\n",
       "    </tr>\n",
       "    <tr>\n",
       "      <th>1</th>\n",
       "      <td>HAM_0000001</td>\n",
       "      <td>1</td>\n",
       "      <td>1</td>\n",
       "      <td>1</td>\n",
       "      <td>1</td>\n",
       "      <td>1</td>\n",
       "      <td>1</td>\n",
       "    </tr>\n",
       "    <tr>\n",
       "      <th>2</th>\n",
       "      <td>HAM_0000002</td>\n",
       "      <td>3</td>\n",
       "      <td>3</td>\n",
       "      <td>3</td>\n",
       "      <td>3</td>\n",
       "      <td>3</td>\n",
       "      <td>3</td>\n",
       "    </tr>\n",
       "    <tr>\n",
       "      <th>3</th>\n",
       "      <td>HAM_0000003</td>\n",
       "      <td>1</td>\n",
       "      <td>1</td>\n",
       "      <td>1</td>\n",
       "      <td>1</td>\n",
       "      <td>1</td>\n",
       "      <td>1</td>\n",
       "    </tr>\n",
       "    <tr>\n",
       "      <th>4</th>\n",
       "      <td>HAM_0000004</td>\n",
       "      <td>1</td>\n",
       "      <td>1</td>\n",
       "      <td>1</td>\n",
       "      <td>1</td>\n",
       "      <td>1</td>\n",
       "      <td>1</td>\n",
       "    </tr>\n",
       "    <tr>\n",
       "      <th>...</th>\n",
       "      <td>...</td>\n",
       "      <td>...</td>\n",
       "      <td>...</td>\n",
       "      <td>...</td>\n",
       "      <td>...</td>\n",
       "      <td>...</td>\n",
       "      <td>...</td>\n",
       "    </tr>\n",
       "    <tr>\n",
       "      <th>7465</th>\n",
       "      <td>HAM_0007624</td>\n",
       "      <td>1</td>\n",
       "      <td>1</td>\n",
       "      <td>1</td>\n",
       "      <td>1</td>\n",
       "      <td>1</td>\n",
       "      <td>1</td>\n",
       "    </tr>\n",
       "    <tr>\n",
       "      <th>7466</th>\n",
       "      <td>HAM_0007625</td>\n",
       "      <td>2</td>\n",
       "      <td>2</td>\n",
       "      <td>2</td>\n",
       "      <td>2</td>\n",
       "      <td>2</td>\n",
       "      <td>2</td>\n",
       "    </tr>\n",
       "    <tr>\n",
       "      <th>7467</th>\n",
       "      <td>HAM_0007626</td>\n",
       "      <td>1</td>\n",
       "      <td>1</td>\n",
       "      <td>1</td>\n",
       "      <td>1</td>\n",
       "      <td>1</td>\n",
       "      <td>1</td>\n",
       "    </tr>\n",
       "    <tr>\n",
       "      <th>7468</th>\n",
       "      <td>HAM_0007627</td>\n",
       "      <td>2</td>\n",
       "      <td>2</td>\n",
       "      <td>2</td>\n",
       "      <td>2</td>\n",
       "      <td>2</td>\n",
       "      <td>2</td>\n",
       "    </tr>\n",
       "    <tr>\n",
       "      <th>7469</th>\n",
       "      <td>HAM_0007628</td>\n",
       "      <td>1</td>\n",
       "      <td>1</td>\n",
       "      <td>1</td>\n",
       "      <td>1</td>\n",
       "      <td>1</td>\n",
       "      <td>1</td>\n",
       "    </tr>\n",
       "  </tbody>\n",
       "</table>\n",
       "<p>7470 rows × 7 columns</p>\n",
       "</div>"
      ],
      "text/plain": [
       "        lesion_id  image_id  dx  dx_type  age  sex  localization\n",
       "0     HAM_0000000         2   2        2    2    2             2\n",
       "1     HAM_0000001         1   1        1    1    1             1\n",
       "2     HAM_0000002         3   3        3    3    3             3\n",
       "3     HAM_0000003         1   1        1    1    1             1\n",
       "4     HAM_0000004         1   1        1    1    1             1\n",
       "...           ...       ...  ..      ...  ...  ...           ...\n",
       "7465  HAM_0007624         1   1        1    1    1             1\n",
       "7466  HAM_0007625         2   2        2    2    2             2\n",
       "7467  HAM_0007626         1   1        1    1    1             1\n",
       "7468  HAM_0007627         2   2        2    2    2             2\n",
       "7469  HAM_0007628         1   1        1    1    1             1\n",
       "\n",
       "[7470 rows x 7 columns]"
      ]
     },
     "execution_count": 19,
     "metadata": {},
     "output_type": "execute_result"
    }
   ],
   "source": [
    "counted_df"
   ]
  },
  {
   "cell_type": "markdown",
   "id": "23c9e05d",
   "metadata": {},
   "source": [
    "# Merging Data Sets"
   ]
  },
  {
   "cell_type": "markdown",
   "id": "868dcc45",
   "metadata": {
    "heading_collapsed": true
   },
   "source": [
    "## Dropping Duplicates"
   ]
  },
  {
   "cell_type": "markdown",
   "id": "4c1e2806",
   "metadata": {
    "hidden": true
   },
   "source": [
    "Difference if dropping duplicates in lesion_id & dx_type or just in lesion_id?"
   ]
  },
  {
   "cell_type": "markdown",
   "id": "bfd1a189",
   "metadata": {
    "hidden": true
   },
   "source": [
    "Answer: NO!"
   ]
  },
  {
   "cell_type": "code",
   "execution_count": 20,
   "id": "1b647de7",
   "metadata": {
    "hidden": true
   },
   "outputs": [],
   "source": [
    "data_dropped_dup = data.drop_duplicates(subset=['lesion_id', 'dx_type'], keep='first')"
   ]
  },
  {
   "cell_type": "code",
   "execution_count": 21,
   "id": "e7a708c3",
   "metadata": {
    "hidden": true
   },
   "outputs": [
    {
     "data": {
      "text/plain": [
       "count            7470\n",
       "unique           7470\n",
       "top       HAM_0000118\n",
       "freq                1\n",
       "Name: lesion_id, dtype: object"
      ]
     },
     "execution_count": 21,
     "metadata": {},
     "output_type": "execute_result"
    }
   ],
   "source": [
    "data_dropped_dup['lesion_id'].describe()"
   ]
  },
  {
   "cell_type": "code",
   "execution_count": 22,
   "id": "01fc6a2e",
   "metadata": {
    "hidden": true
   },
   "outputs": [],
   "source": [
    "data_dropped_dup_alt = data.drop_duplicates(subset=['lesion_id'], keep='first')"
   ]
  },
  {
   "cell_type": "code",
   "execution_count": 23,
   "id": "3b4c9b6c",
   "metadata": {
    "hidden": true
   },
   "outputs": [
    {
     "data": {
      "text/plain": [
       "count            7470\n",
       "unique           7470\n",
       "top       HAM_0000118\n",
       "freq                1\n",
       "Name: lesion_id, dtype: object"
      ]
     },
     "execution_count": 23,
     "metadata": {},
     "output_type": "execute_result"
    }
   ],
   "source": [
    "data_dropped_dup_alt['lesion_id'].describe()"
   ]
  },
  {
   "cell_type": "code",
   "execution_count": 24,
   "id": "b9b77e6a",
   "metadata": {
    "hidden": true
   },
   "outputs": [
    {
     "data": {
      "text/plain": [
       "Index(['lesion_id', 'image_id', 'dx', 'dx_type', 'age', 'sex', 'localization'], dtype='object')"
      ]
     },
     "execution_count": 24,
     "metadata": {},
     "output_type": "execute_result"
    }
   ],
   "source": [
    "data_dropped_dup.columns"
   ]
  },
  {
   "cell_type": "code",
   "execution_count": 25,
   "id": "333d4335",
   "metadata": {
    "hidden": true
   },
   "outputs": [
    {
     "data": {
      "text/plain": [
       "Index(['lesion_id', 'image_id', 'dx', 'dx_type', 'age', 'sex', 'localization'], dtype='object')"
      ]
     },
     "execution_count": 25,
     "metadata": {},
     "output_type": "execute_result"
    }
   ],
   "source": [
    "counted_df.columns"
   ]
  },
  {
   "cell_type": "markdown",
   "id": "64027f0e",
   "metadata": {
    "heading_collapsed": true
   },
   "source": [
    "## Merge Data Sets"
   ]
  },
  {
   "cell_type": "markdown",
   "id": "2f3a1854",
   "metadata": {
    "hidden": true
   },
   "source": [
    "Joining the Data set without duplicates with the column that tells us how many duplicates (images) there were for each lesion_id"
   ]
  },
  {
   "cell_type": "code",
   "execution_count": 26,
   "id": "6a26dfaf",
   "metadata": {
    "hidden": true
   },
   "outputs": [],
   "source": [
    "joined_dataset = data_dropped_dup.merge(counted_df,on='lesion_id',how='left')"
   ]
  },
  {
   "cell_type": "code",
   "execution_count": 28,
   "id": "905434f2",
   "metadata": {
    "hidden": true
   },
   "outputs": [],
   "source": [
    "joined_dataset.drop(columns=['dx_y', 'dx_type_y', 'age_y', 'sex_y', 'localization_y'],axis=1, inplace=True)"
   ]
  },
  {
   "cell_type": "code",
   "execution_count": 34,
   "id": "0a5f79ea",
   "metadata": {
    "hidden": true,
    "scrolled": true
   },
   "outputs": [
    {
     "data": {
      "text/html": [
       "<div>\n",
       "<style scoped>\n",
       "    .dataframe tbody tr th:only-of-type {\n",
       "        vertical-align: middle;\n",
       "    }\n",
       "\n",
       "    .dataframe tbody tr th {\n",
       "        vertical-align: top;\n",
       "    }\n",
       "\n",
       "    .dataframe thead th {\n",
       "        text-align: right;\n",
       "    }\n",
       "</style>\n",
       "<table border=\"1\" class=\"dataframe\">\n",
       "  <thead>\n",
       "    <tr style=\"text-align: right;\">\n",
       "      <th></th>\n",
       "      <th>lesion_id</th>\n",
       "      <th>image_id_x</th>\n",
       "      <th>dx_x</th>\n",
       "      <th>dx_type_x</th>\n",
       "      <th>age_x</th>\n",
       "      <th>sex_x</th>\n",
       "      <th>localization_x</th>\n",
       "      <th>image_id_y</th>\n",
       "    </tr>\n",
       "  </thead>\n",
       "  <tbody>\n",
       "    <tr>\n",
       "      <th>0</th>\n",
       "      <td>HAM_0000118</td>\n",
       "      <td>ISIC_0027419</td>\n",
       "      <td>bkl</td>\n",
       "      <td>histo</td>\n",
       "      <td>80.0</td>\n",
       "      <td>male</td>\n",
       "      <td>scalp</td>\n",
       "      <td>2</td>\n",
       "    </tr>\n",
       "    <tr>\n",
       "      <th>1</th>\n",
       "      <td>HAM_0002730</td>\n",
       "      <td>ISIC_0026769</td>\n",
       "      <td>bkl</td>\n",
       "      <td>histo</td>\n",
       "      <td>80.0</td>\n",
       "      <td>male</td>\n",
       "      <td>scalp</td>\n",
       "      <td>2</td>\n",
       "    </tr>\n",
       "  </tbody>\n",
       "</table>\n",
       "</div>"
      ],
      "text/plain": [
       "     lesion_id    image_id_x dx_x dx_type_x  age_x sex_x localization_x  \\\n",
       "0  HAM_0000118  ISIC_0027419  bkl     histo   80.0  male          scalp   \n",
       "1  HAM_0002730  ISIC_0026769  bkl     histo   80.0  male          scalp   \n",
       "\n",
       "   image_id_y  \n",
       "0           2  \n",
       "1           2  "
      ]
     },
     "execution_count": 34,
     "metadata": {},
     "output_type": "execute_result"
    }
   ],
   "source": [
    "joined_dataset.head(2)"
   ]
  },
  {
   "cell_type": "markdown",
   "id": "5f923c1b",
   "metadata": {},
   "source": [
    "## Add Cancer Column"
   ]
  },
  {
   "cell_type": "code",
   "execution_count": 33,
   "id": "892b8fb4",
   "metadata": {},
   "outputs": [],
   "source": [
    "Cancer = {'bkl':0,'df':0,'vasc':0,'nv':1,'mel':1,'bcc':1,'akiec':1}"
   ]
  },
  {
   "cell_type": "code",
   "execution_count": null,
   "id": "4a22b8ab",
   "metadata": {},
   "outputs": [],
   "source": [
    "joined_dataset['Cancer']"
   ]
  },
  {
   "cell_type": "markdown",
   "id": "876d84fd",
   "metadata": {},
   "source": [
    "# Analysis"
   ]
  },
  {
   "cell_type": "code",
   "execution_count": null,
   "id": "2d1e3cd0",
   "metadata": {},
   "outputs": [],
   "source": []
  }
 ],
 "metadata": {
  "kernelspec": {
   "display_name": "Python 3 (ipykernel)",
   "language": "python",
   "name": "python3"
  },
  "language_info": {
   "codemirror_mode": {
    "name": "ipython",
    "version": 3
   },
   "file_extension": ".py",
   "mimetype": "text/x-python",
   "name": "python",
   "nbconvert_exporter": "python",
   "pygments_lexer": "ipython3",
   "version": "3.8.12"
  },
  "toc": {
   "base_numbering": 1,
   "nav_menu": {},
   "number_sections": true,
   "sideBar": true,
   "skip_h1_title": false,
   "title_cell": "Table of Contents",
   "title_sidebar": "Contents",
   "toc_cell": false,
   "toc_position": {},
   "toc_section_display": true,
   "toc_window_display": false
  }
 },
 "nbformat": 4,
 "nbformat_minor": 5
}
