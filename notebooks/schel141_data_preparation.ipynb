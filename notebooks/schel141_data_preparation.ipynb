{
 "cells": [
  {
   "cell_type": "code",
   "execution_count": 20,
   "id": "d464818e",
   "metadata": {},
   "outputs": [],
   "source": [
    "import numpy as np\n",
    "import pandas as pd\n",
    "from PIL import Image"
   ]
  },
  {
   "cell_type": "code",
   "execution_count": 2,
   "id": "a66f8140",
   "metadata": {},
   "outputs": [],
   "source": [
    "skin_df = pd.read_csv('../raw_data/HAM10000_metadata.csv')"
   ]
  },
  {
   "cell_type": "code",
   "execution_count": 3,
   "id": "c03cf55c",
   "metadata": {},
   "outputs": [
    {
     "data": {
      "text/html": [
       "<div>\n",
       "<style scoped>\n",
       "    .dataframe tbody tr th:only-of-type {\n",
       "        vertical-align: middle;\n",
       "    }\n",
       "\n",
       "    .dataframe tbody tr th {\n",
       "        vertical-align: top;\n",
       "    }\n",
       "\n",
       "    .dataframe thead th {\n",
       "        text-align: right;\n",
       "    }\n",
       "</style>\n",
       "<table border=\"1\" class=\"dataframe\">\n",
       "  <thead>\n",
       "    <tr style=\"text-align: right;\">\n",
       "      <th></th>\n",
       "      <th>lesion_id</th>\n",
       "      <th>image_id</th>\n",
       "      <th>dx</th>\n",
       "      <th>dx_type</th>\n",
       "      <th>age</th>\n",
       "      <th>sex</th>\n",
       "      <th>localization</th>\n",
       "    </tr>\n",
       "  </thead>\n",
       "  <tbody>\n",
       "    <tr>\n",
       "      <th>0</th>\n",
       "      <td>HAM_0000118</td>\n",
       "      <td>ISIC_0027419</td>\n",
       "      <td>bkl</td>\n",
       "      <td>histo</td>\n",
       "      <td>80.0</td>\n",
       "      <td>male</td>\n",
       "      <td>scalp</td>\n",
       "    </tr>\n",
       "    <tr>\n",
       "      <th>1</th>\n",
       "      <td>HAM_0000118</td>\n",
       "      <td>ISIC_0025030</td>\n",
       "      <td>bkl</td>\n",
       "      <td>histo</td>\n",
       "      <td>80.0</td>\n",
       "      <td>male</td>\n",
       "      <td>scalp</td>\n",
       "    </tr>\n",
       "    <tr>\n",
       "      <th>2</th>\n",
       "      <td>HAM_0002730</td>\n",
       "      <td>ISIC_0026769</td>\n",
       "      <td>bkl</td>\n",
       "      <td>histo</td>\n",
       "      <td>80.0</td>\n",
       "      <td>male</td>\n",
       "      <td>scalp</td>\n",
       "    </tr>\n",
       "    <tr>\n",
       "      <th>3</th>\n",
       "      <td>HAM_0002730</td>\n",
       "      <td>ISIC_0025661</td>\n",
       "      <td>bkl</td>\n",
       "      <td>histo</td>\n",
       "      <td>80.0</td>\n",
       "      <td>male</td>\n",
       "      <td>scalp</td>\n",
       "    </tr>\n",
       "    <tr>\n",
       "      <th>4</th>\n",
       "      <td>HAM_0001466</td>\n",
       "      <td>ISIC_0031633</td>\n",
       "      <td>bkl</td>\n",
       "      <td>histo</td>\n",
       "      <td>75.0</td>\n",
       "      <td>male</td>\n",
       "      <td>ear</td>\n",
       "    </tr>\n",
       "    <tr>\n",
       "      <th>...</th>\n",
       "      <td>...</td>\n",
       "      <td>...</td>\n",
       "      <td>...</td>\n",
       "      <td>...</td>\n",
       "      <td>...</td>\n",
       "      <td>...</td>\n",
       "      <td>...</td>\n",
       "    </tr>\n",
       "    <tr>\n",
       "      <th>10010</th>\n",
       "      <td>HAM_0002867</td>\n",
       "      <td>ISIC_0033084</td>\n",
       "      <td>akiec</td>\n",
       "      <td>histo</td>\n",
       "      <td>40.0</td>\n",
       "      <td>male</td>\n",
       "      <td>abdomen</td>\n",
       "    </tr>\n",
       "    <tr>\n",
       "      <th>10011</th>\n",
       "      <td>HAM_0002867</td>\n",
       "      <td>ISIC_0033550</td>\n",
       "      <td>akiec</td>\n",
       "      <td>histo</td>\n",
       "      <td>40.0</td>\n",
       "      <td>male</td>\n",
       "      <td>abdomen</td>\n",
       "    </tr>\n",
       "    <tr>\n",
       "      <th>10012</th>\n",
       "      <td>HAM_0002867</td>\n",
       "      <td>ISIC_0033536</td>\n",
       "      <td>akiec</td>\n",
       "      <td>histo</td>\n",
       "      <td>40.0</td>\n",
       "      <td>male</td>\n",
       "      <td>abdomen</td>\n",
       "    </tr>\n",
       "    <tr>\n",
       "      <th>10013</th>\n",
       "      <td>HAM_0000239</td>\n",
       "      <td>ISIC_0032854</td>\n",
       "      <td>akiec</td>\n",
       "      <td>histo</td>\n",
       "      <td>80.0</td>\n",
       "      <td>male</td>\n",
       "      <td>face</td>\n",
       "    </tr>\n",
       "    <tr>\n",
       "      <th>10014</th>\n",
       "      <td>HAM_0003521</td>\n",
       "      <td>ISIC_0032258</td>\n",
       "      <td>mel</td>\n",
       "      <td>histo</td>\n",
       "      <td>70.0</td>\n",
       "      <td>female</td>\n",
       "      <td>back</td>\n",
       "    </tr>\n",
       "  </tbody>\n",
       "</table>\n",
       "<p>10015 rows × 7 columns</p>\n",
       "</div>"
      ],
      "text/plain": [
       "         lesion_id      image_id     dx dx_type   age     sex localization\n",
       "0      HAM_0000118  ISIC_0027419    bkl   histo  80.0    male        scalp\n",
       "1      HAM_0000118  ISIC_0025030    bkl   histo  80.0    male        scalp\n",
       "2      HAM_0002730  ISIC_0026769    bkl   histo  80.0    male        scalp\n",
       "3      HAM_0002730  ISIC_0025661    bkl   histo  80.0    male        scalp\n",
       "4      HAM_0001466  ISIC_0031633    bkl   histo  75.0    male          ear\n",
       "...            ...           ...    ...     ...   ...     ...          ...\n",
       "10010  HAM_0002867  ISIC_0033084  akiec   histo  40.0    male      abdomen\n",
       "10011  HAM_0002867  ISIC_0033550  akiec   histo  40.0    male      abdomen\n",
       "10012  HAM_0002867  ISIC_0033536  akiec   histo  40.0    male      abdomen\n",
       "10013  HAM_0000239  ISIC_0032854  akiec   histo  80.0    male         face\n",
       "10014  HAM_0003521  ISIC_0032258    mel   histo  70.0  female         back\n",
       "\n",
       "[10015 rows x 7 columns]"
      ]
     },
     "execution_count": 3,
     "metadata": {},
     "output_type": "execute_result"
    }
   ],
   "source": [
    "skin_df"
   ]
  },
  {
   "cell_type": "code",
   "execution_count": 7,
   "id": "f01c8a75",
   "metadata": {},
   "outputs": [
    {
     "data": {
      "text/plain": [
       "lesion_id        0\n",
       "image_id         0\n",
       "dx               0\n",
       "dx_type          0\n",
       "age             57\n",
       "sex              0\n",
       "localization     0\n",
       "dtype: int64"
      ]
     },
     "execution_count": 7,
     "metadata": {},
     "output_type": "execute_result"
    }
   ],
   "source": [
    "skin_df.isnull().sum()"
   ]
  },
  {
   "cell_type": "code",
   "execution_count": 22,
   "id": "cccc0386",
   "metadata": {},
   "outputs": [],
   "source": [
    "skin_df['path'] = [f'../raw_data/HAM10000_images_all/{img}.jpg' for img in skin_df['image_id']]"
   ]
  },
  {
   "cell_type": "code",
   "execution_count": 23,
   "id": "0e4d5f00",
   "metadata": {},
   "outputs": [
    {
     "data": {
      "text/html": [
       "<div>\n",
       "<style scoped>\n",
       "    .dataframe tbody tr th:only-of-type {\n",
       "        vertical-align: middle;\n",
       "    }\n",
       "\n",
       "    .dataframe tbody tr th {\n",
       "        vertical-align: top;\n",
       "    }\n",
       "\n",
       "    .dataframe thead th {\n",
       "        text-align: right;\n",
       "    }\n",
       "</style>\n",
       "<table border=\"1\" class=\"dataframe\">\n",
       "  <thead>\n",
       "    <tr style=\"text-align: right;\">\n",
       "      <th></th>\n",
       "      <th>lesion_id</th>\n",
       "      <th>image_id</th>\n",
       "      <th>dx</th>\n",
       "      <th>dx_type</th>\n",
       "      <th>age</th>\n",
       "      <th>sex</th>\n",
       "      <th>localization</th>\n",
       "      <th>path</th>\n",
       "    </tr>\n",
       "  </thead>\n",
       "  <tbody>\n",
       "    <tr>\n",
       "      <th>0</th>\n",
       "      <td>HAM_0000118</td>\n",
       "      <td>ISIC_0027419</td>\n",
       "      <td>bkl</td>\n",
       "      <td>histo</td>\n",
       "      <td>80.0</td>\n",
       "      <td>male</td>\n",
       "      <td>scalp</td>\n",
       "      <td>../raw_data/HAM10000_images_all/ISIC_0027419.jpg</td>\n",
       "    </tr>\n",
       "    <tr>\n",
       "      <th>1</th>\n",
       "      <td>HAM_0000118</td>\n",
       "      <td>ISIC_0025030</td>\n",
       "      <td>bkl</td>\n",
       "      <td>histo</td>\n",
       "      <td>80.0</td>\n",
       "      <td>male</td>\n",
       "      <td>scalp</td>\n",
       "      <td>../raw_data/HAM10000_images_all/ISIC_0025030.jpg</td>\n",
       "    </tr>\n",
       "    <tr>\n",
       "      <th>2</th>\n",
       "      <td>HAM_0002730</td>\n",
       "      <td>ISIC_0026769</td>\n",
       "      <td>bkl</td>\n",
       "      <td>histo</td>\n",
       "      <td>80.0</td>\n",
       "      <td>male</td>\n",
       "      <td>scalp</td>\n",
       "      <td>../raw_data/HAM10000_images_all/ISIC_0026769.jpg</td>\n",
       "    </tr>\n",
       "    <tr>\n",
       "      <th>3</th>\n",
       "      <td>HAM_0002730</td>\n",
       "      <td>ISIC_0025661</td>\n",
       "      <td>bkl</td>\n",
       "      <td>histo</td>\n",
       "      <td>80.0</td>\n",
       "      <td>male</td>\n",
       "      <td>scalp</td>\n",
       "      <td>../raw_data/HAM10000_images_all/ISIC_0025661.jpg</td>\n",
       "    </tr>\n",
       "    <tr>\n",
       "      <th>4</th>\n",
       "      <td>HAM_0001466</td>\n",
       "      <td>ISIC_0031633</td>\n",
       "      <td>bkl</td>\n",
       "      <td>histo</td>\n",
       "      <td>75.0</td>\n",
       "      <td>male</td>\n",
       "      <td>ear</td>\n",
       "      <td>../raw_data/HAM10000_images_all/ISIC_0031633.jpg</td>\n",
       "    </tr>\n",
       "    <tr>\n",
       "      <th>...</th>\n",
       "      <td>...</td>\n",
       "      <td>...</td>\n",
       "      <td>...</td>\n",
       "      <td>...</td>\n",
       "      <td>...</td>\n",
       "      <td>...</td>\n",
       "      <td>...</td>\n",
       "      <td>...</td>\n",
       "    </tr>\n",
       "    <tr>\n",
       "      <th>10010</th>\n",
       "      <td>HAM_0002867</td>\n",
       "      <td>ISIC_0033084</td>\n",
       "      <td>akiec</td>\n",
       "      <td>histo</td>\n",
       "      <td>40.0</td>\n",
       "      <td>male</td>\n",
       "      <td>abdomen</td>\n",
       "      <td>../raw_data/HAM10000_images_all/ISIC_0033084.jpg</td>\n",
       "    </tr>\n",
       "    <tr>\n",
       "      <th>10011</th>\n",
       "      <td>HAM_0002867</td>\n",
       "      <td>ISIC_0033550</td>\n",
       "      <td>akiec</td>\n",
       "      <td>histo</td>\n",
       "      <td>40.0</td>\n",
       "      <td>male</td>\n",
       "      <td>abdomen</td>\n",
       "      <td>../raw_data/HAM10000_images_all/ISIC_0033550.jpg</td>\n",
       "    </tr>\n",
       "    <tr>\n",
       "      <th>10012</th>\n",
       "      <td>HAM_0002867</td>\n",
       "      <td>ISIC_0033536</td>\n",
       "      <td>akiec</td>\n",
       "      <td>histo</td>\n",
       "      <td>40.0</td>\n",
       "      <td>male</td>\n",
       "      <td>abdomen</td>\n",
       "      <td>../raw_data/HAM10000_images_all/ISIC_0033536.jpg</td>\n",
       "    </tr>\n",
       "    <tr>\n",
       "      <th>10013</th>\n",
       "      <td>HAM_0000239</td>\n",
       "      <td>ISIC_0032854</td>\n",
       "      <td>akiec</td>\n",
       "      <td>histo</td>\n",
       "      <td>80.0</td>\n",
       "      <td>male</td>\n",
       "      <td>face</td>\n",
       "      <td>../raw_data/HAM10000_images_all/ISIC_0032854.jpg</td>\n",
       "    </tr>\n",
       "    <tr>\n",
       "      <th>10014</th>\n",
       "      <td>HAM_0003521</td>\n",
       "      <td>ISIC_0032258</td>\n",
       "      <td>mel</td>\n",
       "      <td>histo</td>\n",
       "      <td>70.0</td>\n",
       "      <td>female</td>\n",
       "      <td>back</td>\n",
       "      <td>../raw_data/HAM10000_images_all/ISIC_0032258.jpg</td>\n",
       "    </tr>\n",
       "  </tbody>\n",
       "</table>\n",
       "<p>10015 rows × 8 columns</p>\n",
       "</div>"
      ],
      "text/plain": [
       "         lesion_id      image_id     dx dx_type   age     sex localization  \\\n",
       "0      HAM_0000118  ISIC_0027419    bkl   histo  80.0    male        scalp   \n",
       "1      HAM_0000118  ISIC_0025030    bkl   histo  80.0    male        scalp   \n",
       "2      HAM_0002730  ISIC_0026769    bkl   histo  80.0    male        scalp   \n",
       "3      HAM_0002730  ISIC_0025661    bkl   histo  80.0    male        scalp   \n",
       "4      HAM_0001466  ISIC_0031633    bkl   histo  75.0    male          ear   \n",
       "...            ...           ...    ...     ...   ...     ...          ...   \n",
       "10010  HAM_0002867  ISIC_0033084  akiec   histo  40.0    male      abdomen   \n",
       "10011  HAM_0002867  ISIC_0033550  akiec   histo  40.0    male      abdomen   \n",
       "10012  HAM_0002867  ISIC_0033536  akiec   histo  40.0    male      abdomen   \n",
       "10013  HAM_0000239  ISIC_0032854  akiec   histo  80.0    male         face   \n",
       "10014  HAM_0003521  ISIC_0032258    mel   histo  70.0  female         back   \n",
       "\n",
       "                                                   path  \n",
       "0      ../raw_data/HAM10000_images_all/ISIC_0027419.jpg  \n",
       "1      ../raw_data/HAM10000_images_all/ISIC_0025030.jpg  \n",
       "2      ../raw_data/HAM10000_images_all/ISIC_0026769.jpg  \n",
       "3      ../raw_data/HAM10000_images_all/ISIC_0025661.jpg  \n",
       "4      ../raw_data/HAM10000_images_all/ISIC_0031633.jpg  \n",
       "...                                                 ...  \n",
       "10010  ../raw_data/HAM10000_images_all/ISIC_0033084.jpg  \n",
       "10011  ../raw_data/HAM10000_images_all/ISIC_0033550.jpg  \n",
       "10012  ../raw_data/HAM10000_images_all/ISIC_0033536.jpg  \n",
       "10013  ../raw_data/HAM10000_images_all/ISIC_0032854.jpg  \n",
       "10014  ../raw_data/HAM10000_images_all/ISIC_0032258.jpg  \n",
       "\n",
       "[10015 rows x 8 columns]"
      ]
     },
     "execution_count": 23,
     "metadata": {},
     "output_type": "execute_result"
    }
   ],
   "source": [
    "skin_df"
   ]
  },
  {
   "cell_type": "code",
   "execution_count": 43,
   "id": "d14edeee",
   "metadata": {},
   "outputs": [],
   "source": [
    "skin_df['image'] = skin_df['path'].map(lambda x: np.asarray(Image.open(x)))"
   ]
  },
  {
   "cell_type": "code",
   "execution_count": 44,
   "id": "fb2f0c1c",
   "metadata": {},
   "outputs": [
    {
     "data": {
      "text/html": [
       "<div>\n",
       "<style scoped>\n",
       "    .dataframe tbody tr th:only-of-type {\n",
       "        vertical-align: middle;\n",
       "    }\n",
       "\n",
       "    .dataframe tbody tr th {\n",
       "        vertical-align: top;\n",
       "    }\n",
       "\n",
       "    .dataframe thead th {\n",
       "        text-align: right;\n",
       "    }\n",
       "</style>\n",
       "<table border=\"1\" class=\"dataframe\">\n",
       "  <thead>\n",
       "    <tr style=\"text-align: right;\">\n",
       "      <th></th>\n",
       "      <th>lesion_id</th>\n",
       "      <th>image_id</th>\n",
       "      <th>dx</th>\n",
       "      <th>dx_type</th>\n",
       "      <th>age</th>\n",
       "      <th>sex</th>\n",
       "      <th>localization</th>\n",
       "      <th>path</th>\n",
       "      <th>image</th>\n",
       "    </tr>\n",
       "  </thead>\n",
       "  <tbody>\n",
       "    <tr>\n",
       "      <th>0</th>\n",
       "      <td>HAM_0000118</td>\n",
       "      <td>ISIC_0027419</td>\n",
       "      <td>bkl</td>\n",
       "      <td>histo</td>\n",
       "      <td>80.0</td>\n",
       "      <td>male</td>\n",
       "      <td>scalp</td>\n",
       "      <td>../raw_data/HAM10000_images_all/ISIC_0027419.jpg</td>\n",
       "      <td>[[[188, 147, 191], [186, 148, 189], [187, 150,...</td>\n",
       "    </tr>\n",
       "    <tr>\n",
       "      <th>1</th>\n",
       "      <td>HAM_0000118</td>\n",
       "      <td>ISIC_0025030</td>\n",
       "      <td>bkl</td>\n",
       "      <td>histo</td>\n",
       "      <td>80.0</td>\n",
       "      <td>male</td>\n",
       "      <td>scalp</td>\n",
       "      <td>../raw_data/HAM10000_images_all/ISIC_0025030.jpg</td>\n",
       "      <td>[[[25, 15, 23], [25, 14, 22], [25, 14, 22], [2...</td>\n",
       "    </tr>\n",
       "    <tr>\n",
       "      <th>2</th>\n",
       "      <td>HAM_0002730</td>\n",
       "      <td>ISIC_0026769</td>\n",
       "      <td>bkl</td>\n",
       "      <td>histo</td>\n",
       "      <td>80.0</td>\n",
       "      <td>male</td>\n",
       "      <td>scalp</td>\n",
       "      <td>../raw_data/HAM10000_images_all/ISIC_0026769.jpg</td>\n",
       "      <td>[[[186, 128, 140], [188, 128, 136], [183, 126,...</td>\n",
       "    </tr>\n",
       "    <tr>\n",
       "      <th>3</th>\n",
       "      <td>HAM_0002730</td>\n",
       "      <td>ISIC_0025661</td>\n",
       "      <td>bkl</td>\n",
       "      <td>histo</td>\n",
       "      <td>80.0</td>\n",
       "      <td>male</td>\n",
       "      <td>scalp</td>\n",
       "      <td>../raw_data/HAM10000_images_all/ISIC_0025661.jpg</td>\n",
       "      <td>[[[24, 9, 16], [22, 11, 15], [23, 11, 15], [26...</td>\n",
       "    </tr>\n",
       "    <tr>\n",
       "      <th>4</th>\n",
       "      <td>HAM_0001466</td>\n",
       "      <td>ISIC_0031633</td>\n",
       "      <td>bkl</td>\n",
       "      <td>histo</td>\n",
       "      <td>75.0</td>\n",
       "      <td>male</td>\n",
       "      <td>ear</td>\n",
       "      <td>../raw_data/HAM10000_images_all/ISIC_0031633.jpg</td>\n",
       "      <td>[[[122, 80, 102], [124, 82, 104], [127, 83, 10...</td>\n",
       "    </tr>\n",
       "  </tbody>\n",
       "</table>\n",
       "</div>"
      ],
      "text/plain": [
       "     lesion_id      image_id   dx dx_type   age   sex localization  \\\n",
       "0  HAM_0000118  ISIC_0027419  bkl   histo  80.0  male        scalp   \n",
       "1  HAM_0000118  ISIC_0025030  bkl   histo  80.0  male        scalp   \n",
       "2  HAM_0002730  ISIC_0026769  bkl   histo  80.0  male        scalp   \n",
       "3  HAM_0002730  ISIC_0025661  bkl   histo  80.0  male        scalp   \n",
       "4  HAM_0001466  ISIC_0031633  bkl   histo  75.0  male          ear   \n",
       "\n",
       "                                               path  \\\n",
       "0  ../raw_data/HAM10000_images_all/ISIC_0027419.jpg   \n",
       "1  ../raw_data/HAM10000_images_all/ISIC_0025030.jpg   \n",
       "2  ../raw_data/HAM10000_images_all/ISIC_0026769.jpg   \n",
       "3  ../raw_data/HAM10000_images_all/ISIC_0025661.jpg   \n",
       "4  ../raw_data/HAM10000_images_all/ISIC_0031633.jpg   \n",
       "\n",
       "                                               image  \n",
       "0  [[[188, 147, 191], [186, 148, 189], [187, 150,...  \n",
       "1  [[[25, 15, 23], [25, 14, 22], [25, 14, 22], [2...  \n",
       "2  [[[186, 128, 140], [188, 128, 136], [183, 126,...  \n",
       "3  [[[24, 9, 16], [22, 11, 15], [23, 11, 15], [26...  \n",
       "4  [[[122, 80, 102], [124, 82, 104], [127, 83, 10...  "
      ]
     },
     "execution_count": 44,
     "metadata": {},
     "output_type": "execute_result"
    }
   ],
   "source": [
    "skin_df.head()"
   ]
  },
  {
   "cell_type": "code",
   "execution_count": 50,
   "id": "cbe4ad36",
   "metadata": {},
   "outputs": [
    {
     "data": {
      "text/plain": [
       "array([[[188, 147, 191],\n",
       "        [186, 148, 189],\n",
       "        [187, 150, 191],\n",
       "        ...,\n",
       "        [214, 173, 207],\n",
       "        [216, 168, 206],\n",
       "        [218, 167, 208]],\n",
       "\n",
       "       [[217, 171, 208],\n",
       "        [218, 173, 206],\n",
       "        [214, 172, 208],\n",
       "        ...,\n",
       "        [190, 138, 161],\n",
       "        [188, 133, 154],\n",
       "        [191, 132, 152]],\n",
       "\n",
       "       [[186, 131, 152],\n",
       "        [189, 131, 153],\n",
       "        [192, 133, 151],\n",
       "        ...,\n",
       "        [209, 158, 189],\n",
       "        [208, 159, 189],\n",
       "        [206, 156, 185]],\n",
       "\n",
       "       ...,\n",
       "\n",
       "       [[195, 132, 159],\n",
       "        [193, 135, 159],\n",
       "        [193, 138, 159],\n",
       "        ...,\n",
       "        [218, 172, 200],\n",
       "        [218, 169, 199],\n",
       "        [221, 172, 202]],\n",
       "\n",
       "       [[216, 170, 199],\n",
       "        [216, 170, 199],\n",
       "        [216, 170, 199],\n",
       "        ...,\n",
       "        [219, 176, 204],\n",
       "        [219, 179, 205],\n",
       "        [220, 178, 202]],\n",
       "\n",
       "       [[220, 178, 202],\n",
       "        [219, 177, 197],\n",
       "        [218, 177, 195],\n",
       "        ...,\n",
       "        [223, 188, 220],\n",
       "        [220, 185, 218],\n",
       "        [221, 186, 218]]], dtype=uint8)"
      ]
     },
     "execution_count": 50,
     "metadata": {},
     "output_type": "execute_result"
    }
   ],
   "source": [
    "np.resize(skin_df['image'][0], (244,244,3))"
   ]
  },
  {
   "cell_type": "code",
   "execution_count": 48,
   "id": "efe2c248",
   "metadata": {},
   "outputs": [],
   "source": [
    "skin_df['image_resized'] = [np.resize(img, (244,244,3)) for img in skin_df['image']]"
   ]
  },
  {
   "cell_type": "code",
   "execution_count": 49,
   "id": "a450d8da",
   "metadata": {},
   "outputs": [
    {
     "data": {
      "text/html": [
       "<div>\n",
       "<style scoped>\n",
       "    .dataframe tbody tr th:only-of-type {\n",
       "        vertical-align: middle;\n",
       "    }\n",
       "\n",
       "    .dataframe tbody tr th {\n",
       "        vertical-align: top;\n",
       "    }\n",
       "\n",
       "    .dataframe thead th {\n",
       "        text-align: right;\n",
       "    }\n",
       "</style>\n",
       "<table border=\"1\" class=\"dataframe\">\n",
       "  <thead>\n",
       "    <tr style=\"text-align: right;\">\n",
       "      <th></th>\n",
       "      <th>lesion_id</th>\n",
       "      <th>image_id</th>\n",
       "      <th>dx</th>\n",
       "      <th>dx_type</th>\n",
       "      <th>age</th>\n",
       "      <th>sex</th>\n",
       "      <th>localization</th>\n",
       "      <th>path</th>\n",
       "      <th>image</th>\n",
       "      <th>image_resized</th>\n",
       "    </tr>\n",
       "  </thead>\n",
       "  <tbody>\n",
       "    <tr>\n",
       "      <th>0</th>\n",
       "      <td>HAM_0000118</td>\n",
       "      <td>ISIC_0027419</td>\n",
       "      <td>bkl</td>\n",
       "      <td>histo</td>\n",
       "      <td>80.0</td>\n",
       "      <td>male</td>\n",
       "      <td>scalp</td>\n",
       "      <td>../raw_data/HAM10000_images_all/ISIC_0027419.jpg</td>\n",
       "      <td>[[[188, 147, 191], [186, 148, 189], [187, 150,...</td>\n",
       "      <td>[[[188, 147, 191], [186, 148, 189], [187, 150,...</td>\n",
       "    </tr>\n",
       "    <tr>\n",
       "      <th>1</th>\n",
       "      <td>HAM_0000118</td>\n",
       "      <td>ISIC_0025030</td>\n",
       "      <td>bkl</td>\n",
       "      <td>histo</td>\n",
       "      <td>80.0</td>\n",
       "      <td>male</td>\n",
       "      <td>scalp</td>\n",
       "      <td>../raw_data/HAM10000_images_all/ISIC_0025030.jpg</td>\n",
       "      <td>[[[25, 15, 23], [25, 14, 22], [25, 14, 22], [2...</td>\n",
       "      <td>[[[25, 15, 23], [25, 14, 22], [25, 14, 22], [2...</td>\n",
       "    </tr>\n",
       "    <tr>\n",
       "      <th>2</th>\n",
       "      <td>HAM_0002730</td>\n",
       "      <td>ISIC_0026769</td>\n",
       "      <td>bkl</td>\n",
       "      <td>histo</td>\n",
       "      <td>80.0</td>\n",
       "      <td>male</td>\n",
       "      <td>scalp</td>\n",
       "      <td>../raw_data/HAM10000_images_all/ISIC_0026769.jpg</td>\n",
       "      <td>[[[186, 128, 140], [188, 128, 136], [183, 126,...</td>\n",
       "      <td>[[[186, 128, 140], [188, 128, 136], [183, 126,...</td>\n",
       "    </tr>\n",
       "    <tr>\n",
       "      <th>3</th>\n",
       "      <td>HAM_0002730</td>\n",
       "      <td>ISIC_0025661</td>\n",
       "      <td>bkl</td>\n",
       "      <td>histo</td>\n",
       "      <td>80.0</td>\n",
       "      <td>male</td>\n",
       "      <td>scalp</td>\n",
       "      <td>../raw_data/HAM10000_images_all/ISIC_0025661.jpg</td>\n",
       "      <td>[[[24, 9, 16], [22, 11, 15], [23, 11, 15], [26...</td>\n",
       "      <td>[[[24, 9, 16], [22, 11, 15], [23, 11, 15], [26...</td>\n",
       "    </tr>\n",
       "    <tr>\n",
       "      <th>4</th>\n",
       "      <td>HAM_0001466</td>\n",
       "      <td>ISIC_0031633</td>\n",
       "      <td>bkl</td>\n",
       "      <td>histo</td>\n",
       "      <td>75.0</td>\n",
       "      <td>male</td>\n",
       "      <td>ear</td>\n",
       "      <td>../raw_data/HAM10000_images_all/ISIC_0031633.jpg</td>\n",
       "      <td>[[[122, 80, 102], [124, 82, 104], [127, 83, 10...</td>\n",
       "      <td>[[[122, 80, 102], [124, 82, 104], [127, 83, 10...</td>\n",
       "    </tr>\n",
       "  </tbody>\n",
       "</table>\n",
       "</div>"
      ],
      "text/plain": [
       "     lesion_id      image_id   dx dx_type   age   sex localization  \\\n",
       "0  HAM_0000118  ISIC_0027419  bkl   histo  80.0  male        scalp   \n",
       "1  HAM_0000118  ISIC_0025030  bkl   histo  80.0  male        scalp   \n",
       "2  HAM_0002730  ISIC_0026769  bkl   histo  80.0  male        scalp   \n",
       "3  HAM_0002730  ISIC_0025661  bkl   histo  80.0  male        scalp   \n",
       "4  HAM_0001466  ISIC_0031633  bkl   histo  75.0  male          ear   \n",
       "\n",
       "                                               path  \\\n",
       "0  ../raw_data/HAM10000_images_all/ISIC_0027419.jpg   \n",
       "1  ../raw_data/HAM10000_images_all/ISIC_0025030.jpg   \n",
       "2  ../raw_data/HAM10000_images_all/ISIC_0026769.jpg   \n",
       "3  ../raw_data/HAM10000_images_all/ISIC_0025661.jpg   \n",
       "4  ../raw_data/HAM10000_images_all/ISIC_0031633.jpg   \n",
       "\n",
       "                                               image  \\\n",
       "0  [[[188, 147, 191], [186, 148, 189], [187, 150,...   \n",
       "1  [[[25, 15, 23], [25, 14, 22], [25, 14, 22], [2...   \n",
       "2  [[[186, 128, 140], [188, 128, 136], [183, 126,...   \n",
       "3  [[[24, 9, 16], [22, 11, 15], [23, 11, 15], [26...   \n",
       "4  [[[122, 80, 102], [124, 82, 104], [127, 83, 10...   \n",
       "\n",
       "                                       image_resized  \n",
       "0  [[[188, 147, 191], [186, 148, 189], [187, 150,...  \n",
       "1  [[[25, 15, 23], [25, 14, 22], [25, 14, 22], [2...  \n",
       "2  [[[186, 128, 140], [188, 128, 136], [183, 126,...  \n",
       "3  [[[24, 9, 16], [22, 11, 15], [23, 11, 15], [26...  \n",
       "4  [[[122, 80, 102], [124, 82, 104], [127, 83, 10...  "
      ]
     },
     "execution_count": 49,
     "metadata": {},
     "output_type": "execute_result"
    }
   ],
   "source": [
    "skin_df.head()"
   ]
  },
  {
   "cell_type": "code",
   "execution_count": 53,
   "id": "e65fda16",
   "metadata": {},
   "outputs": [],
   "source": [
    "skin_df.drop(columns=['image'], inplace = True)"
   ]
  },
  {
   "cell_type": "code",
   "execution_count": 54,
   "id": "9721f144",
   "metadata": {
    "scrolled": true
   },
   "outputs": [
    {
     "data": {
      "text/html": [
       "<div>\n",
       "<style scoped>\n",
       "    .dataframe tbody tr th:only-of-type {\n",
       "        vertical-align: middle;\n",
       "    }\n",
       "\n",
       "    .dataframe tbody tr th {\n",
       "        vertical-align: top;\n",
       "    }\n",
       "\n",
       "    .dataframe thead th {\n",
       "        text-align: right;\n",
       "    }\n",
       "</style>\n",
       "<table border=\"1\" class=\"dataframe\">\n",
       "  <thead>\n",
       "    <tr style=\"text-align: right;\">\n",
       "      <th></th>\n",
       "      <th>lesion_id</th>\n",
       "      <th>image_id</th>\n",
       "      <th>dx</th>\n",
       "      <th>dx_type</th>\n",
       "      <th>age</th>\n",
       "      <th>sex</th>\n",
       "      <th>localization</th>\n",
       "      <th>path</th>\n",
       "      <th>image_resized</th>\n",
       "    </tr>\n",
       "  </thead>\n",
       "  <tbody>\n",
       "    <tr>\n",
       "      <th>0</th>\n",
       "      <td>HAM_0000118</td>\n",
       "      <td>ISIC_0027419</td>\n",
       "      <td>bkl</td>\n",
       "      <td>histo</td>\n",
       "      <td>80.0</td>\n",
       "      <td>male</td>\n",
       "      <td>scalp</td>\n",
       "      <td>../raw_data/HAM10000_images_all/ISIC_0027419.jpg</td>\n",
       "      <td>[[[188, 147, 191], [186, 148, 189], [187, 150,...</td>\n",
       "    </tr>\n",
       "    <tr>\n",
       "      <th>1</th>\n",
       "      <td>HAM_0000118</td>\n",
       "      <td>ISIC_0025030</td>\n",
       "      <td>bkl</td>\n",
       "      <td>histo</td>\n",
       "      <td>80.0</td>\n",
       "      <td>male</td>\n",
       "      <td>scalp</td>\n",
       "      <td>../raw_data/HAM10000_images_all/ISIC_0025030.jpg</td>\n",
       "      <td>[[[25, 15, 23], [25, 14, 22], [25, 14, 22], [2...</td>\n",
       "    </tr>\n",
       "    <tr>\n",
       "      <th>2</th>\n",
       "      <td>HAM_0002730</td>\n",
       "      <td>ISIC_0026769</td>\n",
       "      <td>bkl</td>\n",
       "      <td>histo</td>\n",
       "      <td>80.0</td>\n",
       "      <td>male</td>\n",
       "      <td>scalp</td>\n",
       "      <td>../raw_data/HAM10000_images_all/ISIC_0026769.jpg</td>\n",
       "      <td>[[[186, 128, 140], [188, 128, 136], [183, 126,...</td>\n",
       "    </tr>\n",
       "    <tr>\n",
       "      <th>3</th>\n",
       "      <td>HAM_0002730</td>\n",
       "      <td>ISIC_0025661</td>\n",
       "      <td>bkl</td>\n",
       "      <td>histo</td>\n",
       "      <td>80.0</td>\n",
       "      <td>male</td>\n",
       "      <td>scalp</td>\n",
       "      <td>../raw_data/HAM10000_images_all/ISIC_0025661.jpg</td>\n",
       "      <td>[[[24, 9, 16], [22, 11, 15], [23, 11, 15], [26...</td>\n",
       "    </tr>\n",
       "    <tr>\n",
       "      <th>4</th>\n",
       "      <td>HAM_0001466</td>\n",
       "      <td>ISIC_0031633</td>\n",
       "      <td>bkl</td>\n",
       "      <td>histo</td>\n",
       "      <td>75.0</td>\n",
       "      <td>male</td>\n",
       "      <td>ear</td>\n",
       "      <td>../raw_data/HAM10000_images_all/ISIC_0031633.jpg</td>\n",
       "      <td>[[[122, 80, 102], [124, 82, 104], [127, 83, 10...</td>\n",
       "    </tr>\n",
       "    <tr>\n",
       "      <th>...</th>\n",
       "      <td>...</td>\n",
       "      <td>...</td>\n",
       "      <td>...</td>\n",
       "      <td>...</td>\n",
       "      <td>...</td>\n",
       "      <td>...</td>\n",
       "      <td>...</td>\n",
       "      <td>...</td>\n",
       "      <td>...</td>\n",
       "    </tr>\n",
       "    <tr>\n",
       "      <th>10010</th>\n",
       "      <td>HAM_0002867</td>\n",
       "      <td>ISIC_0033084</td>\n",
       "      <td>akiec</td>\n",
       "      <td>histo</td>\n",
       "      <td>40.0</td>\n",
       "      <td>male</td>\n",
       "      <td>abdomen</td>\n",
       "      <td>../raw_data/HAM10000_images_all/ISIC_0033084.jpg</td>\n",
       "      <td>[[[103, 79, 95], [109, 78, 93], [106, 80, 89],...</td>\n",
       "    </tr>\n",
       "    <tr>\n",
       "      <th>10011</th>\n",
       "      <td>HAM_0002867</td>\n",
       "      <td>ISIC_0033550</td>\n",
       "      <td>akiec</td>\n",
       "      <td>histo</td>\n",
       "      <td>40.0</td>\n",
       "      <td>male</td>\n",
       "      <td>abdomen</td>\n",
       "      <td>../raw_data/HAM10000_images_all/ISIC_0033550.jpg</td>\n",
       "      <td>[[[5, 5, 5], [2, 6, 5], [1, 6, 2], [6, 7, 2], ...</td>\n",
       "    </tr>\n",
       "    <tr>\n",
       "      <th>10012</th>\n",
       "      <td>HAM_0002867</td>\n",
       "      <td>ISIC_0033536</td>\n",
       "      <td>akiec</td>\n",
       "      <td>histo</td>\n",
       "      <td>40.0</td>\n",
       "      <td>male</td>\n",
       "      <td>abdomen</td>\n",
       "      <td>../raw_data/HAM10000_images_all/ISIC_0033536.jpg</td>\n",
       "      <td>[[[101, 86, 91], [109, 90, 94], [107, 94, 101]...</td>\n",
       "    </tr>\n",
       "    <tr>\n",
       "      <th>10013</th>\n",
       "      <td>HAM_0000239</td>\n",
       "      <td>ISIC_0032854</td>\n",
       "      <td>akiec</td>\n",
       "      <td>histo</td>\n",
       "      <td>80.0</td>\n",
       "      <td>male</td>\n",
       "      <td>face</td>\n",
       "      <td>../raw_data/HAM10000_images_all/ISIC_0032854.jpg</td>\n",
       "      <td>[[[155, 113, 135], [156, 112, 135], [157, 114,...</td>\n",
       "    </tr>\n",
       "    <tr>\n",
       "      <th>10014</th>\n",
       "      <td>HAM_0003521</td>\n",
       "      <td>ISIC_0032258</td>\n",
       "      <td>mel</td>\n",
       "      <td>histo</td>\n",
       "      <td>70.0</td>\n",
       "      <td>female</td>\n",
       "      <td>back</td>\n",
       "      <td>../raw_data/HAM10000_images_all/ISIC_0032258.jpg</td>\n",
       "      <td>[[[171, 139, 118], [178, 145, 126], [182, 151,...</td>\n",
       "    </tr>\n",
       "  </tbody>\n",
       "</table>\n",
       "<p>10015 rows × 9 columns</p>\n",
       "</div>"
      ],
      "text/plain": [
       "         lesion_id      image_id     dx dx_type   age     sex localization  \\\n",
       "0      HAM_0000118  ISIC_0027419    bkl   histo  80.0    male        scalp   \n",
       "1      HAM_0000118  ISIC_0025030    bkl   histo  80.0    male        scalp   \n",
       "2      HAM_0002730  ISIC_0026769    bkl   histo  80.0    male        scalp   \n",
       "3      HAM_0002730  ISIC_0025661    bkl   histo  80.0    male        scalp   \n",
       "4      HAM_0001466  ISIC_0031633    bkl   histo  75.0    male          ear   \n",
       "...            ...           ...    ...     ...   ...     ...          ...   \n",
       "10010  HAM_0002867  ISIC_0033084  akiec   histo  40.0    male      abdomen   \n",
       "10011  HAM_0002867  ISIC_0033550  akiec   histo  40.0    male      abdomen   \n",
       "10012  HAM_0002867  ISIC_0033536  akiec   histo  40.0    male      abdomen   \n",
       "10013  HAM_0000239  ISIC_0032854  akiec   histo  80.0    male         face   \n",
       "10014  HAM_0003521  ISIC_0032258    mel   histo  70.0  female         back   \n",
       "\n",
       "                                                   path  \\\n",
       "0      ../raw_data/HAM10000_images_all/ISIC_0027419.jpg   \n",
       "1      ../raw_data/HAM10000_images_all/ISIC_0025030.jpg   \n",
       "2      ../raw_data/HAM10000_images_all/ISIC_0026769.jpg   \n",
       "3      ../raw_data/HAM10000_images_all/ISIC_0025661.jpg   \n",
       "4      ../raw_data/HAM10000_images_all/ISIC_0031633.jpg   \n",
       "...                                                 ...   \n",
       "10010  ../raw_data/HAM10000_images_all/ISIC_0033084.jpg   \n",
       "10011  ../raw_data/HAM10000_images_all/ISIC_0033550.jpg   \n",
       "10012  ../raw_data/HAM10000_images_all/ISIC_0033536.jpg   \n",
       "10013  ../raw_data/HAM10000_images_all/ISIC_0032854.jpg   \n",
       "10014  ../raw_data/HAM10000_images_all/ISIC_0032258.jpg   \n",
       "\n",
       "                                           image_resized  \n",
       "0      [[[188, 147, 191], [186, 148, 189], [187, 150,...  \n",
       "1      [[[25, 15, 23], [25, 14, 22], [25, 14, 22], [2...  \n",
       "2      [[[186, 128, 140], [188, 128, 136], [183, 126,...  \n",
       "3      [[[24, 9, 16], [22, 11, 15], [23, 11, 15], [26...  \n",
       "4      [[[122, 80, 102], [124, 82, 104], [127, 83, 10...  \n",
       "...                                                  ...  \n",
       "10010  [[[103, 79, 95], [109, 78, 93], [106, 80, 89],...  \n",
       "10011  [[[5, 5, 5], [2, 6, 5], [1, 6, 2], [6, 7, 2], ...  \n",
       "10012  [[[101, 86, 91], [109, 90, 94], [107, 94, 101]...  \n",
       "10013  [[[155, 113, 135], [156, 112, 135], [157, 114,...  \n",
       "10014  [[[171, 139, 118], [178, 145, 126], [182, 151,...  \n",
       "\n",
       "[10015 rows x 9 columns]"
      ]
     },
     "execution_count": 54,
     "metadata": {},
     "output_type": "execute_result"
    }
   ],
   "source": [
    "skin_df"
   ]
  },
  {
   "cell_type": "code",
   "execution_count": 55,
   "id": "2191fce4",
   "metadata": {},
   "outputs": [],
   "source": [
    "skin_df['image_resized'] = skin_df['image_resized']/255"
   ]
  },
  {
   "cell_type": "code",
   "execution_count": 56,
   "id": "964b31b5",
   "metadata": {},
   "outputs": [
    {
     "data": {
      "text/html": [
       "<div>\n",
       "<style scoped>\n",
       "    .dataframe tbody tr th:only-of-type {\n",
       "        vertical-align: middle;\n",
       "    }\n",
       "\n",
       "    .dataframe tbody tr th {\n",
       "        vertical-align: top;\n",
       "    }\n",
       "\n",
       "    .dataframe thead th {\n",
       "        text-align: right;\n",
       "    }\n",
       "</style>\n",
       "<table border=\"1\" class=\"dataframe\">\n",
       "  <thead>\n",
       "    <tr style=\"text-align: right;\">\n",
       "      <th></th>\n",
       "      <th>lesion_id</th>\n",
       "      <th>image_id</th>\n",
       "      <th>dx</th>\n",
       "      <th>dx_type</th>\n",
       "      <th>age</th>\n",
       "      <th>sex</th>\n",
       "      <th>localization</th>\n",
       "      <th>path</th>\n",
       "      <th>image_resized</th>\n",
       "    </tr>\n",
       "  </thead>\n",
       "  <tbody>\n",
       "    <tr>\n",
       "      <th>0</th>\n",
       "      <td>HAM_0000118</td>\n",
       "      <td>ISIC_0027419</td>\n",
       "      <td>bkl</td>\n",
       "      <td>histo</td>\n",
       "      <td>80.0</td>\n",
       "      <td>male</td>\n",
       "      <td>scalp</td>\n",
       "      <td>../raw_data/HAM10000_images_all/ISIC_0027419.jpg</td>\n",
       "      <td>[[[0.7372549019607844, 0.5764705882352941, 0.7...</td>\n",
       "    </tr>\n",
       "    <tr>\n",
       "      <th>1</th>\n",
       "      <td>HAM_0000118</td>\n",
       "      <td>ISIC_0025030</td>\n",
       "      <td>bkl</td>\n",
       "      <td>histo</td>\n",
       "      <td>80.0</td>\n",
       "      <td>male</td>\n",
       "      <td>scalp</td>\n",
       "      <td>../raw_data/HAM10000_images_all/ISIC_0025030.jpg</td>\n",
       "      <td>[[[0.09803921568627451, 0.058823529411764705, ...</td>\n",
       "    </tr>\n",
       "    <tr>\n",
       "      <th>2</th>\n",
       "      <td>HAM_0002730</td>\n",
       "      <td>ISIC_0026769</td>\n",
       "      <td>bkl</td>\n",
       "      <td>histo</td>\n",
       "      <td>80.0</td>\n",
       "      <td>male</td>\n",
       "      <td>scalp</td>\n",
       "      <td>../raw_data/HAM10000_images_all/ISIC_0026769.jpg</td>\n",
       "      <td>[[[0.7294117647058823, 0.5019607843137255, 0.5...</td>\n",
       "    </tr>\n",
       "    <tr>\n",
       "      <th>3</th>\n",
       "      <td>HAM_0002730</td>\n",
       "      <td>ISIC_0025661</td>\n",
       "      <td>bkl</td>\n",
       "      <td>histo</td>\n",
       "      <td>80.0</td>\n",
       "      <td>male</td>\n",
       "      <td>scalp</td>\n",
       "      <td>../raw_data/HAM10000_images_all/ISIC_0025661.jpg</td>\n",
       "      <td>[[[0.09411764705882353, 0.03529411764705882, 0...</td>\n",
       "    </tr>\n",
       "    <tr>\n",
       "      <th>4</th>\n",
       "      <td>HAM_0001466</td>\n",
       "      <td>ISIC_0031633</td>\n",
       "      <td>bkl</td>\n",
       "      <td>histo</td>\n",
       "      <td>75.0</td>\n",
       "      <td>male</td>\n",
       "      <td>ear</td>\n",
       "      <td>../raw_data/HAM10000_images_all/ISIC_0031633.jpg</td>\n",
       "      <td>[[[0.47843137254901963, 0.3137254901960784, 0....</td>\n",
       "    </tr>\n",
       "  </tbody>\n",
       "</table>\n",
       "</div>"
      ],
      "text/plain": [
       "     lesion_id      image_id   dx dx_type   age   sex localization  \\\n",
       "0  HAM_0000118  ISIC_0027419  bkl   histo  80.0  male        scalp   \n",
       "1  HAM_0000118  ISIC_0025030  bkl   histo  80.0  male        scalp   \n",
       "2  HAM_0002730  ISIC_0026769  bkl   histo  80.0  male        scalp   \n",
       "3  HAM_0002730  ISIC_0025661  bkl   histo  80.0  male        scalp   \n",
       "4  HAM_0001466  ISIC_0031633  bkl   histo  75.0  male          ear   \n",
       "\n",
       "                                               path  \\\n",
       "0  ../raw_data/HAM10000_images_all/ISIC_0027419.jpg   \n",
       "1  ../raw_data/HAM10000_images_all/ISIC_0025030.jpg   \n",
       "2  ../raw_data/HAM10000_images_all/ISIC_0026769.jpg   \n",
       "3  ../raw_data/HAM10000_images_all/ISIC_0025661.jpg   \n",
       "4  ../raw_data/HAM10000_images_all/ISIC_0031633.jpg   \n",
       "\n",
       "                                       image_resized  \n",
       "0  [[[0.7372549019607844, 0.5764705882352941, 0.7...  \n",
       "1  [[[0.09803921568627451, 0.058823529411764705, ...  \n",
       "2  [[[0.7294117647058823, 0.5019607843137255, 0.5...  \n",
       "3  [[[0.09411764705882353, 0.03529411764705882, 0...  \n",
       "4  [[[0.47843137254901963, 0.3137254901960784, 0....  "
      ]
     },
     "execution_count": 56,
     "metadata": {},
     "output_type": "execute_result"
    }
   ],
   "source": [
    "skin_df.head()"
   ]
  },
  {
   "cell_type": "code",
   "execution_count": 88,
   "id": "6fda57b3",
   "metadata": {},
   "outputs": [],
   "source": [
    "X = skin_df['image_resized']"
   ]
  },
  {
   "cell_type": "code",
   "execution_count": 58,
   "id": "6648277a",
   "metadata": {},
   "outputs": [
    {
     "data": {
      "text/plain": [
       "0    [[[0.7372549019607844, 0.5764705882352941, 0.7...\n",
       "1    [[[0.09803921568627451, 0.058823529411764705, ...\n",
       "2    [[[0.7294117647058823, 0.5019607843137255, 0.5...\n",
       "3    [[[0.09411764705882353, 0.03529411764705882, 0...\n",
       "4    [[[0.47843137254901963, 0.3137254901960784, 0....\n",
       "Name: image_resized, dtype: object"
      ]
     },
     "execution_count": 58,
     "metadata": {},
     "output_type": "execute_result"
    }
   ],
   "source": [
    "X.head()"
   ]
  },
  {
   "cell_type": "code",
   "execution_count": 59,
   "id": "862a5fcc",
   "metadata": {},
   "outputs": [],
   "source": [
    "y = skin_df['dx']"
   ]
  },
  {
   "cell_type": "code",
   "execution_count": 76,
   "id": "ccb2a135",
   "metadata": {},
   "outputs": [
    {
     "data": {
      "text/plain": [
       "0          bkl\n",
       "1          bkl\n",
       "2          bkl\n",
       "3          bkl\n",
       "4          bkl\n",
       "         ...  \n",
       "10010    akiec\n",
       "10011    akiec\n",
       "10012    akiec\n",
       "10013    akiec\n",
       "10014      mel\n",
       "Name: dx, Length: 10015, dtype: object"
      ]
     },
     "execution_count": 76,
     "metadata": {},
     "output_type": "execute_result"
    }
   ],
   "source": [
    "y"
   ]
  },
  {
   "cell_type": "code",
   "execution_count": 72,
   "id": "dbaa556b",
   "metadata": {},
   "outputs": [
    {
     "data": {
      "text/plain": [
       "array(['bkl', 'nv', 'df', 'mel', 'vasc', 'bcc', 'akiec'], dtype=object)"
      ]
     },
     "execution_count": 72,
     "metadata": {},
     "output_type": "execute_result"
    }
   ],
   "source": [
    "y.unique()"
   ]
  },
  {
   "cell_type": "code",
   "execution_count": 73,
   "id": "1871d440",
   "metadata": {},
   "outputs": [],
   "source": [
    "dict_target = {'bkl':1, 'nv':2, 'df':3, 'mel':4, 'vasc':5, 'bcc':6, 'akiec':7}"
   ]
  },
  {
   "cell_type": "code",
   "execution_count": 74,
   "id": "d665fc00",
   "metadata": {},
   "outputs": [],
   "source": [
    "y_num = y.map(dict_target.get)"
   ]
  },
  {
   "cell_type": "code",
   "execution_count": 75,
   "id": "64191b37",
   "metadata": {},
   "outputs": [
    {
     "data": {
      "text/plain": [
       "0        1\n",
       "1        1\n",
       "2        1\n",
       "3        1\n",
       "4        1\n",
       "        ..\n",
       "10010    7\n",
       "10011    7\n",
       "10012    7\n",
       "10013    7\n",
       "10014    4\n",
       "Name: dx, Length: 10015, dtype: int64"
      ]
     },
     "execution_count": 75,
     "metadata": {},
     "output_type": "execute_result"
    }
   ],
   "source": [
    "y_num"
   ]
  },
  {
   "cell_type": "code",
   "execution_count": 86,
   "id": "e78634d5",
   "metadata": {},
   "outputs": [],
   "source": [
    "from tensorflow.keras.utils import to_categorical\n",
    "y_cat = to_categorical(y_num, num_classes = 8)"
   ]
  },
  {
   "cell_type": "code",
   "execution_count": 87,
   "id": "194db68f",
   "metadata": {},
   "outputs": [
    {
     "data": {
      "text/plain": [
       "array([[0., 1., 0., ..., 0., 0., 0.],\n",
       "       [0., 1., 0., ..., 0., 0., 0.],\n",
       "       [0., 1., 0., ..., 0., 0., 0.],\n",
       "       ...,\n",
       "       [0., 0., 0., ..., 0., 0., 1.],\n",
       "       [0., 0., 0., ..., 0., 0., 1.],\n",
       "       [0., 0., 0., ..., 0., 0., 0.]], dtype=float32)"
      ]
     },
     "execution_count": 87,
     "metadata": {},
     "output_type": "execute_result"
    }
   ],
   "source": [
    "y_cat"
   ]
  },
  {
   "cell_type": "code",
   "execution_count": 89,
   "id": "49650127",
   "metadata": {},
   "outputs": [],
   "source": [
    "from sklearn.model_selection import train_test_split\n",
    "X_train, X_test, y_train, y_test = train_test_split(X, y_cat, test_size=0.3, random_state=42)"
   ]
  },
  {
   "cell_type": "code",
   "execution_count": 90,
   "id": "fcf720c9",
   "metadata": {},
   "outputs": [
    {
     "data": {
      "text/plain": [
       "(7010,)"
      ]
     },
     "execution_count": 90,
     "metadata": {},
     "output_type": "execute_result"
    }
   ],
   "source": [
    "X_train.shape"
   ]
  },
  {
   "cell_type": "code",
   "execution_count": 91,
   "id": "b8fc0ca4",
   "metadata": {},
   "outputs": [
    {
     "data": {
      "text/plain": [
       "(3005,)"
      ]
     },
     "execution_count": 91,
     "metadata": {},
     "output_type": "execute_result"
    }
   ],
   "source": [
    "X_test.shape"
   ]
  },
  {
   "cell_type": "code",
   "execution_count": 102,
   "id": "bf93e68e",
   "metadata": {},
   "outputs": [],
   "source": [
    "belign_df = skin_df[skin_df['dx'] == 'bkl']['age']"
   ]
  },
  {
   "cell_type": "code",
   "execution_count": 100,
   "id": "bdf6e652",
   "metadata": {},
   "outputs": [],
   "source": [
    "tumor_df = skin_df[skin_df['dx'] != 'bkl']['age']"
   ]
  },
  {
   "cell_type": "code",
   "execution_count": 103,
   "id": "2592ce32",
   "metadata": {},
   "outputs": [],
   "source": [
    "import seaborn as sns"
   ]
  },
  {
   "cell_type": "code",
   "execution_count": 104,
   "id": "f314e0d5",
   "metadata": {},
   "outputs": [
    {
     "data": {
      "text/plain": [
       "<AxesSubplot:xlabel='age', ylabel='Count'>"
      ]
     },
     "execution_count": 104,
     "metadata": {},
     "output_type": "execute_result"
    },
    {
     "data": {
      "image/png": "[encoded data removed]",
      "text/plain": [
       "<Figure size 432x288 with 1 Axes>"
      ]
     },
     "metadata": {
      "needs_background": "light"
     },
     "output_type": "display_data"
    }
   ],
   "source": [
    "sns.histplot(data = belign_df)"
   ]
  },
  {
   "cell_type": "code",
   "execution_count": 105,
   "id": "947ab294",
   "metadata": {},
   "outputs": [
    {
     "data": {
      "text/plain": [
       "<AxesSubplot:xlabel='age', ylabel='Count'>"
      ]
     },
     "execution_count": 105,
     "metadata": {},
     "output_type": "execute_result"
    },
    {
     "data": {
      "image/png": "[encoded data removed]",
      "text/plain": [
       "<Figure size 432x288 with 1 Axes>"
      ]
     },
     "metadata": {
      "needs_background": "light"
     },
     "output_type": "display_data"
    }
   ],
   "source": [
    "sns.histplot(data = tumor_df)"
   ]
  },
  {
   "cell_type": "code",
   "execution_count": 106,
   "id": "e38fab5f",
   "metadata": {},
   "outputs": [
    {
     "data": {
      "text/plain": [
       "<AxesSubplot:xlabel='dx', ylabel='Count'>"
      ]
     },
     "execution_count": 106,
     "metadata": {},
     "output_type": "execute_result"
    },
    {
     "data": {
      "image/png": "[encoded data removed]",
      "text/plain": [
       "<Figure size 432x288 with 1 Axes>"
      ]
     },
     "metadata": {
      "needs_background": "light"
     },
     "output_type": "display_data"
    }
   ],
   "source": [
    "sns.histplot(data = skin_df['dx'])"
   ]
  },
  {
   "cell_type": "code",
   "execution_count": null,
   "id": "82ffba1d",
   "metadata": {},
   "outputs": [],
   "source": []
  }
 ],
 "metadata": {
  "kernelspec": {
   "display_name": "Python 3 (ipykernel)",
   "language": "python",
   "name": "python3"
  },
  "language_info": {
   "codemirror_mode": {
    "name": "ipython",
    "version": 3
   },
   "file_extension": ".py",
   "mimetype": "text/x-python",
   "name": "python",
   "nbconvert_exporter": "python",
   "pygments_lexer": "ipython3",
   "version": "3.8.13"
  },
  "toc": {
   "base_numbering": 1,
   "nav_menu": {},
   "number_sections": true,
   "sideBar": true,
   "skip_h1_title": false,
   "title_cell": "Table of Contents",
   "title_sidebar": "Contents",
   "toc_cell": false,
   "toc_position": {},
   "toc_section_display": true,
   "toc_window_display": false
  }
 },
 "nbformat": 4,
 "nbformat_minor": 5
}
