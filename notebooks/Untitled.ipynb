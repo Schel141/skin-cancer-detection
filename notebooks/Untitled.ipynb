{
 "cells": [
  {
   "cell_type": "markdown",
   "id": "b9ea3d46",
   "metadata": {},
   "source": [
    "# Hair Removal"
   ]
  },
  {
   "cell_type": "code",
   "execution_count": 1,
   "id": "a191adb0",
   "metadata": {},
   "outputs": [
    {
     "ename": "SyntaxError",
     "evalue": "invalid syntax (1175507876.py, line 3)",
     "output_type": "error",
     "traceback": [
      "\u001b[0;36m  File \u001b[0;32m\"/var/folders/tc/h9113zwx78q6jfy2m_szx6zw0000gn/T/ipykernel_55692/1175507876.py\"\u001b[0;36m, line \u001b[0;32m3\u001b[0m\n\u001b[0;31m    from skin-cancer-detection import hairremoval\u001b[0m\n\u001b[0m             ^\u001b[0m\n\u001b[0;31mSyntaxError\u001b[0m\u001b[0;31m:\u001b[0m invalid syntax\n"
     ]
    }
   ],
   "source": [
    "import cv2\n",
    "import matplotlib.pyplot as plt\n",
    "from skin-cancer-detection import hairremoval"
   ]
  },
  {
   "cell_type": "code",
   "execution_count": null,
   "id": "ff7df184",
   "metadata": {},
   "outputs": [],
   "source": [
    "skin_df = pd.read_csv('../raw_data/HAM10000_metadata.csv')"
   ]
  },
  {
   "cell_type": "code",
   "execution_count": null,
   "id": "cf938809",
   "metadata": {},
   "outputs": [],
   "source": [
    "for image in \n",
    "    [f'../raw_data/HAM10000_all/{img}.jpg' for img in skin_df['image_id']]\n",
    "    img = cv2.imread(f'../raw_data/HAM10000_all/{img}.jpg')\n",
    "    final_image = hairremoval.hair_removal()"
   ]
  }
 ],
 "metadata": {
  "kernelspec": {
   "display_name": "Python 3 (ipykernel)",
   "language": "python",
   "name": "python3"
  },
  "language_info": {
   "codemirror_mode": {
    "name": "ipython",
    "version": 3
   },
   "file_extension": ".py",
   "mimetype": "text/x-python",
   "name": "python",
   "nbconvert_exporter": "python",
   "pygments_lexer": "ipython3",
   "version": "3.8.13"
  },
  "toc": {
   "base_numbering": 1,
   "nav_menu": {},
   "number_sections": true,
   "sideBar": true,
   "skip_h1_title": false,
   "title_cell": "Table of Contents",
   "title_sidebar": "Contents",
   "toc_cell": false,
   "toc_position": {},
   "toc_section_display": true,
   "toc_window_display": false
  }
 },
 "nbformat": 4,
 "nbformat_minor": 5
}
