{
 "cells": [
  {
   "cell_type": "code",
   "execution_count": null,
   "id": "42c66fbf",
   "metadata": {},
   "outputs": [],
   "source": [
    "import numpy as np\n",
    "import pandas as pd\n",
    "from PIL import Image\n",
    "import matplotlib as plt\n",
    "import seaborn as sns\n",
    "import cv2\n",
    "import os\n",
    "import sys\n",
    "module_path = os.path.abspath(os.path.join('..'))\n",
    "if module_path not in sys.path:\n",
    "    sys.path.append(module_path)\n",
    "from skin_cancer_detection.hairremoval import hair_removal"
   ]
  },
  {
   "cell_type": "code",
   "execution_count": null,
   "id": "38128501",
   "metadata": {},
   "outputs": [],
   "source": [
    "from google.colab import drive\n",
    "drive.mount('/content/drive/')"
   ]
  },
  {
   "cell_type": "code",
   "execution_count": null,
   "id": "ad62bdf7",
   "metadata": {},
   "outputs": [],
   "source": [
    "!pip install pickle5"
   ]
  },
  {
   "cell_type": "code",
   "execution_count": null,
   "id": "2ad2e2d2",
   "metadata": {},
   "outputs": [],
   "source": [
    "import pickle5 as pickle\n",
    "with open('/content/drive/My Drive/skin_pickle.pickle', \"rb\") as fh:\n",
    "    skin_df = pickle.load(fh)"
   ]
  },
  {
   "cell_type": "code",
   "execution_count": null,
   "id": "7c65f75e",
   "metadata": {},
   "outputs": [],
   "source": [
    "skin_df"
   ]
  },
  {
   "cell_type": "code",
   "execution_count": null,
   "id": "3c244539",
   "metadata": {},
   "outputs": [],
   "source": [
    "#check if images are displayed \n",
    "import matplotlib.pyplot as plt\n",
    "plt.imshow(np.array(skin_df['image_resized'][0]))"
   ]
  },
  {
   "cell_type": "code",
   "execution_count": null,
   "id": "1af47e86",
   "metadata": {},
   "outputs": [],
   "source": [
    "y = skin_df['dx']"
   ]
  },
  {
   "cell_type": "code",
   "execution_count": null,
   "id": "994c389c",
   "metadata": {},
   "outputs": [],
   "source": [
    "dict_target = {'bkl':0, 'nv':1, 'df':2, 'mel':3, 'vasc':4, 'bcc':5, 'akiec':6}"
   ]
  },
  {
   "cell_type": "code",
   "execution_count": null,
   "id": "0ea1f5ca",
   "metadata": {},
   "outputs": [],
   "source": [
    "y_num = y.map(dict_target.get)"
   ]
  },
  {
   "cell_type": "code",
   "execution_count": null,
   "id": "4f438e61",
   "metadata": {},
   "outputs": [],
   "source": [
    "skin_df['target'] = y_num"
   ]
  },
  {
   "cell_type": "code",
   "execution_count": null,
   "id": "cc655204",
   "metadata": {},
   "outputs": [],
   "source": [
    "skin_df"
   ]
  },
  {
   "cell_type": "code",
   "execution_count": null,
   "id": "55d44927",
   "metadata": {},
   "outputs": [],
   "source": [
    "from tensorflow.keras.utils import to_categorical\n",
    "y_cat = to_categorical(y_num, num_classes = 7)"
   ]
  },
  {
   "cell_type": "code",
   "execution_count": null,
   "id": "fbde9d8f",
   "metadata": {},
   "outputs": [],
   "source": [
    "y_cat.shape"
   ]
  },
  {
   "cell_type": "code",
   "execution_count": null,
   "id": "06b9eddc",
   "metadata": {},
   "outputs": [],
   "source": [
    "X = skin_df['image_resized']"
   ]
  },
  {
   "cell_type": "code",
   "execution_count": null,
   "id": "71af8b00",
   "metadata": {},
   "outputs": [],
   "source": [
    "from sklearn.model_selection import train_test_split\n",
    "X_train, X_test, y_train, y_test = train_test_split(X, y_cat, test_size=0.3, random_state=42)"
   ]
  },
  {
   "cell_type": "code",
   "execution_count": null,
   "id": "02191f15",
   "metadata": {},
   "outputs": [],
   "source": [
    "X_train_stack = np.stack(X_train)"
   ]
  },
  {
   "cell_type": "code",
   "execution_count": null,
   "id": "6a358e5d",
   "metadata": {},
   "outputs": [],
   "source": [
    "X_test_stack = np.stack(X_test)"
   ]
  },
  {
   "cell_type": "code",
   "execution_count": null,
   "id": "f8d67a91",
   "metadata": {},
   "outputs": [],
   "source": [
    "X_train_stack.shape"
   ]
  },
  {
   "cell_type": "markdown",
   "id": "a91086a4",
   "metadata": {},
   "source": [
    "## Model"
   ]
  },
  {
   "cell_type": "code",
   "execution_count": null,
   "id": "a2888cc6",
   "metadata": {},
   "outputs": [],
   "source": [
    "import tensorflow as tf\n",
    "from tensorflow.keras import models\n",
    "from tensorflow.keras import Sequential, layers\n",
    "from tensorflow.keras.layers import Reshape\n",
    "\n",
    "#Basic CNN 1\n",
    "\n",
    "model = Sequential()\n",
    "model.add(layers.experimental.preprocessing.Rescaling(1. / 255))\n",
    "model.add(layers.Conv2D(16, (3,3), input_shape=(75, 100, 3), padding='same', activation=\"relu\"))\n",
    "model.add(layers.MaxPool2D(pool_size=(2,2)))\n",
    "model.add(layers.Conv2D(32, (2,2), padding='same', activation=\"relu\"))\n",
    "model.add(layers.MaxPool2D(pool_size=(2,2))) \n",
    "model.add(layers.Flatten())\n",
    "model.add(layers.Dense(50, activation='relu')) # intermediate layer\n",
    "model.add(layers.Dense(7, activation='softmax'))"
   ]
  },
  {
   "cell_type": "code",
   "execution_count": null,
   "id": "f42be61b",
   "metadata": {},
   "outputs": [],
   "source": [
    "#Example for model.compile and fit\n",
    "\n",
    "from tensorflow.keras.metrics import Recall, Precision\n",
    "\n",
    "model.compile(\n",
    "  optimizer = 'adam',\n",
    "  loss = 'categorical_crossentropy', # \"sparse_\" allows to avoid one-hot-encoding the target\n",
    "  metrics = ['accuracy','Recall', 'Precision'])\n",
    "\n",
    "model.fit(\n",
    "    X_train_stack,y_train,\n",
    "    validation_split=0.2,\n",
    "    epochs=30,\n",
    "    batch_size = 32\n",
    ")"
   ]
  },
  {
   "cell_type": "code",
   "execution_count": null,
   "id": "d3a43c39",
   "metadata": {},
   "outputs": [],
   "source": [
    "# RENAME JOBLIB MODEL FILE!!!!\n",
    "\n",
    "import joblib\n",
    "joblib.dump(model, 'model.joblib')"
   ]
  }
 ],
 "metadata": {
  "kernelspec": {
   "display_name": "Python 3 (ipykernel)",
   "language": "python",
   "name": "python3"
  },
  "language_info": {
   "codemirror_mode": {
    "name": "ipython",
    "version": 3
   },
   "file_extension": ".py",
   "mimetype": "text/x-python",
   "name": "python",
   "nbconvert_exporter": "python",
   "pygments_lexer": "ipython3",
   "version": "3.8.13"
  },
  "toc": {
   "base_numbering": 1,
   "nav_menu": {},
   "number_sections": true,
   "sideBar": true,
   "skip_h1_title": false,
   "title_cell": "Table of Contents",
   "title_sidebar": "Contents",
   "toc_cell": false,
   "toc_position": {},
   "toc_section_display": true,
   "toc_window_display": false
  }
 },
 "nbformat": 4,
 "nbformat_minor": 5
}
